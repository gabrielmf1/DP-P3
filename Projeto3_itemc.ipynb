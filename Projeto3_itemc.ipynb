{
 "cells": [
  {
   "cell_type": "code",
   "execution_count": 132,
   "metadata": {},
   "outputs": [
    {
     "name": "stdout",
     "output_type": "stream",
     "text": [
      "initiated datasets repo at: C:\\Users\\Mariana Abrantes\\.pydataset/\n"
     ]
    }
   ],
   "source": [
    "##### Importando Bibliotecas: #####\n",
    "import pandas as pd\n",
    "import numpy as np\n",
    "import itertools\n",
    "import requests\n",
    "import math\n",
    "import os\n",
    "import re\n",
    "import matplotlib.pyplot as plt\n",
    "import statsmodels.api as sm\n",
    "from scipy import stats\n",
    "from pydataset import data\n",
    "from sklearn.model_selection import train_test_split\n",
    "from sklearn.neighbors import KNeighborsRegressor\n",
    "from sklearn.metrics import mean_squared_error"
   ]
  },
  {
   "cell_type": "markdown",
   "metadata": {},
   "source": [
    "___\n",
    "# Ciência dos Dados - PROJETO 3 - INSPER"
   ]
  },
  {
   "cell_type": "markdown",
   "metadata": {},
   "source": [
    "___\n",
    "### Mariana Abrantes, Gabriel Couto e Gabriel Miras\n",
    "___"
   ]
  },
  {
   "cell_type": "markdown",
   "metadata": {},
   "source": [
    "# Previsão de preços de smartphones ao dólar"
   ]
  },
  {
   "cell_type": "markdown",
   "metadata": {},
   "source": [
    "___\n",
    "\n",
    "## A. INTRODUÇÃO"
   ]
  },
  {
   "cell_type": "markdown",
   "metadata": {},
   "source": [
    "Nestes últimos anos, com a instabilidade política e socioeconômica do Brasil, o preço do dólar está em constante variação. Consequentemente, os valores sobre produtos estrangeiros também mudam. Ao visualizar esse cenário, gostaríamos de analisar essa influência da alteração do valor do dólar sobre produtos da área tecnológica, em nosso caso smartphones. "
   ]
  },
  {
   "cell_type": "markdown",
   "metadata": {},
   "source": [
    "___\n",
    "## B. MINERANDO DADOS e CARACTERÍSTICAS DO DATASET"
   ]
  },
  {
   "cell_type": "markdown",
   "metadata": {},
   "source": [
    "__I) Preço do Dólar__ <br>\n",
    "&emsp;O DataFrame foi obtido no [site](https://economia.uol.com.br/cotacoes/cambio/dolar-comercial-estados-unidos/) e foi filtrado da seguinte forma:\n",
    " * a) Definimos a coluna 'Data' como do tipo datetime e em seguida definimos essa coluna como índice da tabela\n",
    " * b) Pegamos apenas a coluna 'Compra' com o preço do dolar no dia e o índice das linhas\n",
    " * c) Definimos a coluna 'Compra' do tipo float e renomeamos ela pra \"Dolar\""
   ]
  },
  {
   "cell_type": "code",
   "execution_count": 133,
   "metadata": {},
   "outputs": [],
   "source": [
    "dolar = pd.read_table(\"dolar.csv\", sep=\";\", usecols=['Data','Compra'])\n",
    "dolar['Data'] = pd.to_datetime(dolar['Data'],  format='%d/%m/%Y %H:%M:%S')\n",
    "dolar.index = dolar['Data']\n",
    "dolar['Dolar'] = dolar['Compra'].astype('float')\n",
    "dolar = dolar.loc[:,['Dolar']]"
   ]
  },
  {
   "cell_type": "markdown",
   "metadata": {},
   "source": [
    "__II) Tabela de Preços dos Smartphones__ <br>\n",
    "Os dados de cada celular foram retirados do histórico de preço médio do site buscape. <br>\n",
    "* a) A função gerarBD() recebe uma lista com nome e url do celular para retornar um Dataframe de preço dos celulares e do dolar por dia.<br>\n",
    "Para cada linha da lista:\n",
    "    * 1) Cria uma cópia do Dataframe dolar chamado table\n",
    "    * 2) Baixa o código da url fornecida e captura o ID do produto\n",
    "    * 3) Com o ID baixamos o histórico de preço médio do aparelho em JSON e criamos o Dataframe bd com ele\n",
    "    * 4) Usamos .join para unir as colunas num novo dataframe\n",
    "    * 5) Definimos a coluna 'Data' como do tipo datetime e em seguida definimos essa coluna como índice da tabela<br>\n",
    "* b) Removemos as linhas que possuam ao menos um valor vazio e retornamos essa nova tabela como resultado da função"
   ]
  },
  {
   "cell_type": "code",
   "execution_count": 134,
   "metadata": {},
   "outputs": [],
   "source": [
    "#Recebe uma URL e retorna o código HTML da página (Só é chamada pela função baixarBD)\n",
    "def baixarhtml(url):\n",
    "    html = requests.get(url).text.splitlines()\n",
    "    return html\n",
    "\n",
    "#Recebe url do Buscape e retorna um Dataframe \n",
    "def gerarBD(lista):\n",
    "    table = dolar.copy()\n",
    "    \n",
    "    for num in range(len(lista)):\n",
    "        produto, url = lista[num][0], lista[num][1]\n",
    "        \n",
    "        #Pega ID do produto do buscape usando a url fornecida\n",
    "        code = baixarhtml(url)\n",
    "        for num_linha in range(len(code)):\n",
    "            match = re.findall('\"productId\":[0-9]*', code[num_linha])\n",
    "            if len(match)>0:\n",
    "                id = match[0].split(':')[1]\n",
    "\n",
    "        #Baixa BD dos preços\n",
    "        code = baixarhtml(\"https://www.buscape.com.br/async/history/idu/\" + id + \"/days/365\")\n",
    "\n",
    "        #Pega só a parte dos dados e cria tabela bd\n",
    "        bd = pd.read_json(code[0].split('\"historicos\":')[1][:-1])\n",
    "\n",
    "        #Converte data pro formato e define essa coluna como índice\n",
    "        bd['data'] = pd.to_datetime(bd['data'],  format='%d/%m/%Y')\n",
    "        bd.set_index(bd['data'], inplace=True)\n",
    "        \n",
    "        #Adiciona a coluna com o nome do produto o preço do produto\n",
    "        table[produto] = bd.loc[:,['precomed']]\n",
    "        table[produto] = table[produto].astype(float)\n",
    "    \n",
    "    table = table.dropna(how='any') # Tira linha que tiver algum valor NaN\n",
    "    return table\n",
    "\n",
    "#Função retorno\n",
    "def func_retorno(n,n_ant):\n",
    "    val = 0\n",
    "    if n_ant == 0:\n",
    "        print('tem zero')\n",
    "    else:\n",
    "        val = math.log(n/n_ant)\n",
    "    return val"
   ]
  },
  {
   "cell_type": "code",
   "execution_count": 135,
   "metadata": {},
   "outputs": [],
   "source": [
    "links = [\n",
    "    ['Iphone X',          \"https://www.buscape.com.br/smartphone-apple-iphone-x-64gb\"],\n",
    "    ['Iphone 8 Plus',     \"https://www.buscape.com.br/smartphone-apple-iphone-8-plus-64gb\"],\n",
    "    ['Iphone 7',          \"https://www.buscape.com.br/smartphone-apple-iphone-7-32gb\"],\n",
    "    ['Iphone 7 Plus',     \"https://www.buscape.com.br/smartphone-apple-iphone-7-plus-128gb\"],\n",
    "    ['Galaxy S8',         \"https://www.buscape.com.br/smartphone-samsung-galaxy-s8-sm-g950-64gb\"],\n",
    "    ['Galaxy S8 Plus',    \"https://www.buscape.com.br/smartphone-samsung-galaxy-s8-plus-sm-g955-128gb\"],\n",
    "    ['Galaxy S9',         \"https://www.buscape.com.br/smartphone-samsung-galaxy-s9-sm-g960-128gb\"],\n",
    "    ['Galaxy S9 Plus',    \"https://www.buscape.com.br/smartphone-samsung-galaxy-s9-plus-sm-g965-128gb\"]\n",
    "]"
   ]
  },
  {
   "cell_type": "markdown",
   "metadata": {},
   "source": [
    "### BASE DE DADOS"
   ]
  },
  {
   "cell_type": "markdown",
   "metadata": {},
   "source": [
    "Se não houver o arquivo tabela.csv criado executa a função gerarBD() e salva o dataframe como tabela.csv, se já houver o arquivo tabela.csv carrega ele como tabela"
   ]
  },
  {
   "cell_type": "code",
   "execution_count": 136,
   "metadata": {
    "scrolled": true
   },
   "outputs": [],
   "source": [
    "#Se já tiver um arquivo tabela.csv salvo carrega ele, se não cria a tabela e salva ela\n",
    "exists = os.path.isfile('tabela.csv')\n",
    "if exists:\n",
    "    tabela = pd.read_csv('tabela.csv', sep=\",\")\n",
    "    tabela.index = tabela['data']\n",
    "    tabela = tabela.loc[:,list(tabela.columns)[1:]]\n",
    "else:\n",
    "    tabela = gerarBD(links)\n",
    "    tabela.to_csv('tabela.csv')"
   ]
  },
  {
   "cell_type": "code",
   "execution_count": 137,
   "metadata": {},
   "outputs": [
    {
     "data": {
      "text/html": [
       "<div>\n",
       "<style scoped>\n",
       "    .dataframe tbody tr th:only-of-type {\n",
       "        vertical-align: middle;\n",
       "    }\n",
       "\n",
       "    .dataframe tbody tr th {\n",
       "        vertical-align: top;\n",
       "    }\n",
       "\n",
       "    .dataframe thead th {\n",
       "        text-align: right;\n",
       "    }\n",
       "</style>\n",
       "<table border=\"1\" class=\"dataframe\">\n",
       "  <thead>\n",
       "    <tr style=\"text-align: right;\">\n",
       "      <th></th>\n",
       "      <th>Iphone X</th>\n",
       "      <th>Iphone 8 Plus</th>\n",
       "      <th>Iphone 7</th>\n",
       "      <th>Iphone 7 Plus</th>\n",
       "      <th>Galaxy S8</th>\n",
       "      <th>Galaxy S8 Plus</th>\n",
       "      <th>Galaxy S9</th>\n",
       "      <th>Galaxy S9 Plus</th>\n",
       "      <th>Dolar</th>\n",
       "    </tr>\n",
       "    <tr>\n",
       "      <th>data</th>\n",
       "      <th></th>\n",
       "      <th></th>\n",
       "      <th></th>\n",
       "      <th></th>\n",
       "      <th></th>\n",
       "      <th></th>\n",
       "      <th></th>\n",
       "      <th></th>\n",
       "      <th></th>\n",
       "    </tr>\n",
       "  </thead>\n",
       "  <tbody>\n",
       "    <tr>\n",
       "      <th>2018-05-22</th>\n",
       "      <td>5791.4575</td>\n",
       "      <td>4019.5854</td>\n",
       "      <td>3033.4468</td>\n",
       "      <td>3491.2202</td>\n",
       "      <td>3050.4950</td>\n",
       "      <td>4085.785</td>\n",
       "      <td>3956.2925</td>\n",
       "      <td>4479.7305</td>\n",
       "      <td>3.6447</td>\n",
       "    </tr>\n",
       "    <tr>\n",
       "      <th>2018-05-23</th>\n",
       "      <td>5853.7800</td>\n",
       "      <td>4057.0140</td>\n",
       "      <td>3043.2737</td>\n",
       "      <td>3406.8965</td>\n",
       "      <td>3061.1514</td>\n",
       "      <td>3672.570</td>\n",
       "      <td>3966.1755</td>\n",
       "      <td>4490.3880</td>\n",
       "      <td>3.6251</td>\n",
       "    </tr>\n",
       "    <tr>\n",
       "      <th>2018-05-24</th>\n",
       "      <td>5885.4900</td>\n",
       "      <td>3896.7625</td>\n",
       "      <td>2852.5547</td>\n",
       "      <td>3444.2380</td>\n",
       "      <td>2992.7668</td>\n",
       "      <td>4028.438</td>\n",
       "      <td>3966.7402</td>\n",
       "      <td>4502.2856</td>\n",
       "      <td>3.6483</td>\n",
       "    </tr>\n",
       "    <tr>\n",
       "      <th>2018-05-25</th>\n",
       "      <td>5876.5710</td>\n",
       "      <td>4019.7207</td>\n",
       "      <td>2985.7068</td>\n",
       "      <td>3470.2570</td>\n",
       "      <td>3130.3193</td>\n",
       "      <td>3685.785</td>\n",
       "      <td>4007.9338</td>\n",
       "      <td>4469.3877</td>\n",
       "      <td>3.6683</td>\n",
       "    </tr>\n",
       "    <tr>\n",
       "      <th>2018-05-28</th>\n",
       "      <td>5907.1025</td>\n",
       "      <td>3886.1116</td>\n",
       "      <td>2995.6414</td>\n",
       "      <td>3488.4626</td>\n",
       "      <td>3062.2104</td>\n",
       "      <td>4028.438</td>\n",
       "      <td>3995.7700</td>\n",
       "      <td>4526.9487</td>\n",
       "      <td>3.7286</td>\n",
       "    </tr>\n",
       "  </tbody>\n",
       "</table>\n",
       "</div>"
      ],
      "text/plain": [
       "             Iphone X  Iphone 8 Plus   Iphone 7  Iphone 7 Plus  Galaxy S8  \\\n",
       "data                                                                        \n",
       "2018-05-22  5791.4575      4019.5854  3033.4468      3491.2202  3050.4950   \n",
       "2018-05-23  5853.7800      4057.0140  3043.2737      3406.8965  3061.1514   \n",
       "2018-05-24  5885.4900      3896.7625  2852.5547      3444.2380  2992.7668   \n",
       "2018-05-25  5876.5710      4019.7207  2985.7068      3470.2570  3130.3193   \n",
       "2018-05-28  5907.1025      3886.1116  2995.6414      3488.4626  3062.2104   \n",
       "\n",
       "            Galaxy S8 Plus  Galaxy S9  Galaxy S9 Plus   Dolar  \n",
       "data                                                           \n",
       "2018-05-22        4085.785  3956.2925       4479.7305  3.6447  \n",
       "2018-05-23        3672.570  3966.1755       4490.3880  3.6251  \n",
       "2018-05-24        4028.438  3966.7402       4502.2856  3.6483  \n",
       "2018-05-25        3685.785  4007.9338       4469.3877  3.6683  \n",
       "2018-05-28        4028.438  3995.7700       4526.9487  3.7286  "
      ]
     },
     "execution_count": 137,
     "metadata": {},
     "output_type": "execute_result"
    }
   ],
   "source": [
    "tabela.head()"
   ]
  },
  {
   "cell_type": "markdown",
   "metadata": {},
   "source": [
    "__III) Criando tabela de retorno__"
   ]
  },
  {
   "cell_type": "code",
   "execution_count": 138,
   "metadata": {},
   "outputs": [],
   "source": [
    "df = tabela.copy()\n",
    "\n",
    "#Cria coluna com o valor da linha anterior\n",
    "for coluna in tabela.columns:\n",
    "    df[coluna+'-1'] = df[coluna].shift(1)\n",
    "\n",
    "df = df.iloc[1:,:] # Tira primeira linha (perdida pra fazer deltas)\n",
    "\n",
    "dic={}\n",
    "for coluna in tabela.columns:\n",
    "    lis,ind=[],[]\n",
    "    for index, row in df.iterrows():\n",
    "        retor = func_retorno(row[coluna],row[coluna+'-1'])\n",
    "        lis.append(retor)\n",
    "        ind.append(index)\n",
    "    dic[coluna]=lis\n",
    "\n",
    "retorno = pd.DataFrame(data=dic,index=ind)"
   ]
  },
  {
   "cell_type": "code",
   "execution_count": 139,
   "metadata": {},
   "outputs": [
    {
     "data": {
      "text/html": [
       "<div>\n",
       "<style scoped>\n",
       "    .dataframe tbody tr th:only-of-type {\n",
       "        vertical-align: middle;\n",
       "    }\n",
       "\n",
       "    .dataframe tbody tr th {\n",
       "        vertical-align: top;\n",
       "    }\n",
       "\n",
       "    .dataframe thead th {\n",
       "        text-align: right;\n",
       "    }\n",
       "</style>\n",
       "<table border=\"1\" class=\"dataframe\">\n",
       "  <thead>\n",
       "    <tr style=\"text-align: right;\">\n",
       "      <th></th>\n",
       "      <th>Iphone X</th>\n",
       "      <th>Iphone 8 Plus</th>\n",
       "      <th>Iphone 7</th>\n",
       "      <th>Iphone 7 Plus</th>\n",
       "      <th>Galaxy S8</th>\n",
       "      <th>Galaxy S8 Plus</th>\n",
       "      <th>Galaxy S9</th>\n",
       "      <th>Galaxy S9 Plus</th>\n",
       "      <th>Dolar</th>\n",
       "    </tr>\n",
       "  </thead>\n",
       "  <tbody>\n",
       "    <tr>\n",
       "      <th>2018-05-23</th>\n",
       "      <td>0.010704</td>\n",
       "      <td>0.009268</td>\n",
       "      <td>0.003234</td>\n",
       "      <td>-0.024450</td>\n",
       "      <td>0.003487</td>\n",
       "      <td>-0.106622</td>\n",
       "      <td>0.002495</td>\n",
       "      <td>0.002376</td>\n",
       "      <td>-0.005392</td>\n",
       "    </tr>\n",
       "    <tr>\n",
       "      <th>2018-05-24</th>\n",
       "      <td>0.005402</td>\n",
       "      <td>-0.040301</td>\n",
       "      <td>-0.064719</td>\n",
       "      <td>0.010901</td>\n",
       "      <td>-0.022593</td>\n",
       "      <td>0.092487</td>\n",
       "      <td>0.000142</td>\n",
       "      <td>0.002646</td>\n",
       "      <td>0.006379</td>\n",
       "    </tr>\n",
       "    <tr>\n",
       "      <th>2018-05-25</th>\n",
       "      <td>-0.001517</td>\n",
       "      <td>0.031066</td>\n",
       "      <td>0.045622</td>\n",
       "      <td>0.007526</td>\n",
       "      <td>0.044937</td>\n",
       "      <td>-0.088895</td>\n",
       "      <td>0.010331</td>\n",
       "      <td>-0.007334</td>\n",
       "      <td>0.005467</td>\n",
       "    </tr>\n",
       "    <tr>\n",
       "      <th>2018-05-28</th>\n",
       "      <td>0.005182</td>\n",
       "      <td>-0.033803</td>\n",
       "      <td>0.003322</td>\n",
       "      <td>0.005232</td>\n",
       "      <td>-0.021998</td>\n",
       "      <td>0.088895</td>\n",
       "      <td>-0.003040</td>\n",
       "      <td>0.012797</td>\n",
       "      <td>0.016304</td>\n",
       "    </tr>\n",
       "    <tr>\n",
       "      <th>2018-05-29</th>\n",
       "      <td>0.009240</td>\n",
       "      <td>0.016236</td>\n",
       "      <td>-0.037699</td>\n",
       "      <td>0.005742</td>\n",
       "      <td>0.020046</td>\n",
       "      <td>0.011541</td>\n",
       "      <td>0.001311</td>\n",
       "      <td>0.007073</td>\n",
       "      <td>0.002839</td>\n",
       "    </tr>\n",
       "  </tbody>\n",
       "</table>\n",
       "</div>"
      ],
      "text/plain": [
       "            Iphone X  Iphone 8 Plus  Iphone 7  Iphone 7 Plus  Galaxy S8  \\\n",
       "2018-05-23  0.010704       0.009268  0.003234      -0.024450   0.003487   \n",
       "2018-05-24  0.005402      -0.040301 -0.064719       0.010901  -0.022593   \n",
       "2018-05-25 -0.001517       0.031066  0.045622       0.007526   0.044937   \n",
       "2018-05-28  0.005182      -0.033803  0.003322       0.005232  -0.021998   \n",
       "2018-05-29  0.009240       0.016236 -0.037699       0.005742   0.020046   \n",
       "\n",
       "            Galaxy S8 Plus  Galaxy S9  Galaxy S9 Plus     Dolar  \n",
       "2018-05-23       -0.106622   0.002495        0.002376 -0.005392  \n",
       "2018-05-24        0.092487   0.000142        0.002646  0.006379  \n",
       "2018-05-25       -0.088895   0.010331       -0.007334  0.005467  \n",
       "2018-05-28        0.088895  -0.003040        0.012797  0.016304  \n",
       "2018-05-29        0.011541   0.001311        0.007073  0.002839  "
      ]
     },
     "execution_count": 139,
     "metadata": {},
     "output_type": "execute_result"
    }
   ],
   "source": [
    "retorno.head()"
   ]
  },
  {
   "cell_type": "markdown",
   "metadata": {},
   "source": [
    "### ANÁLISE DESCRITIVA"
   ]
  },
  {
   "cell_type": "markdown",
   "metadata": {},
   "source": [
    "Em nossa base de dados buscamos os preços de telefones das marcas Apple e Samsung, sendo eles Iphone X, Iphone 8 Plus, Iphone 7 plus, iphone 7, Galaxy S8, Galaxy S8 Plus, Galaxy S9 e Galaxy S9 Plus. Além disso, pegamos também as características dos modelos escolhidos para que nossa análise seja mais específica, pois ao mudar o tamanho da memória do celular, por exemplo, o preço se altera também. Desse modo, conseguiremos analisar qual a interferência da alteração do dólar nos valores dos smartphones. "
   ]
  },
  {
   "cell_type": "code",
   "execution_count": 140,
   "metadata": {},
   "outputs": [
    {
     "data": {
      "text/plain": [
       "Iphone X         -0.000626\n",
       "Iphone 8 Plus    -0.014322\n",
       "Iphone 7         -0.045196\n",
       "Iphone 7 Plus     0.079599\n",
       "Galaxy S8        -0.078579\n",
       "Galaxy S8 Plus   -0.039319\n",
       "Galaxy S9         0.049093\n",
       "Galaxy S9 Plus    0.032512\n",
       "Dolar             1.000000\n",
       "Name: Dolar, dtype: float64"
      ]
     },
     "execution_count": 140,
     "metadata": {},
     "output_type": "execute_result"
    }
   ],
   "source": [
    "retorno.corr()['Dolar']"
   ]
  },
  {
   "cell_type": "markdown",
   "metadata": {},
   "source": [
    "# Descriçao analise"
   ]
  },
  {
   "cell_type": "markdown",
   "metadata": {},
   "source": [
    "___\n",
    "## C. MODELOS DE PREDIÇÃO"
   ]
  },
  {
   "cell_type": "markdown",
   "metadata": {
    "collapsed": true
   },
   "source": [
    "O MODELO DE PREDIÇÃO PELA MÉDIA (Sem uso de variável explicativa)."
   ]
  },
  {
   "cell_type": "code",
   "execution_count": 141,
   "metadata": {},
   "outputs": [],
   "source": [
    "medias = []\n",
    "for i in tabela.columns:\n",
    "    facil = tabela.loc[:, ['Dolar', i]]\n",
    "    for a in facil[i]:\n",
    "        valores = facil[i].mean()\n",
    "    medias.append(valores)\n",
    "    \n",
    "#print(medias)        \n",
    "#facil = tabela.loc[:, ['Dolar', 'Iphone 7']]"
   ]
  },
  {
   "cell_type": "code",
   "execution_count": 142,
   "metadata": {},
   "outputs": [
    {
     "data": {
      "text/html": [
       "<table class=\"simpletable\">\n",
       "<caption>OLS Regression Results</caption>\n",
       "<tr>\n",
       "  <th>Dep. Variable:</th>      <td>Iphone 8 Plus</td>  <th>  R-squared:         </th> <td>   0.015</td>\n",
       "</tr>\n",
       "<tr>\n",
       "  <th>Model:</th>                   <td>OLS</td>       <th>  Adj. R-squared:    </th> <td>   0.011</td>\n",
       "</tr>\n",
       "<tr>\n",
       "  <th>Method:</th>             <td>Least Squares</td>  <th>  F-statistic:       </th> <td>   3.697</td>\n",
       "</tr>\n",
       "<tr>\n",
       "  <th>Date:</th>             <td>Thu, 23 May 2019</td> <th>  Prob (F-statistic):</th>  <td>0.0557</td> \n",
       "</tr>\n",
       "<tr>\n",
       "  <th>Time:</th>                 <td>17:24:51</td>     <th>  Log-Likelihood:    </th> <td> -1704.3</td>\n",
       "</tr>\n",
       "<tr>\n",
       "  <th>No. Observations:</th>      <td>   245</td>      <th>  AIC:               </th> <td>   3413.</td>\n",
       "</tr>\n",
       "<tr>\n",
       "  <th>Df Residuals:</th>          <td>   243</td>      <th>  BIC:               </th> <td>   3420.</td>\n",
       "</tr>\n",
       "<tr>\n",
       "  <th>Df Model:</th>              <td>     1</td>      <th>                     </th>     <td> </td>   \n",
       "</tr>\n",
       "<tr>\n",
       "  <th>Covariance Type:</th>      <td>nonrobust</td>    <th>                     </th>     <td> </td>   \n",
       "</tr>\n",
       "</table>\n",
       "<table class=\"simpletable\">\n",
       "<tr>\n",
       "    <td></td>       <th>coef</th>     <th>std err</th>      <th>t</th>      <th>P>|t|</th>  <th>[0.025</th>    <th>0.975]</th>  \n",
       "</tr>\n",
       "<tr>\n",
       "  <th>const</th> <td> 5081.8608</td> <td>  489.586</td> <td>   10.380</td> <td> 0.000</td> <td> 4117.487</td> <td> 6046.235</td>\n",
       "</tr>\n",
       "<tr>\n",
       "  <th>Dolar</th> <td> -244.5555</td> <td>  127.196</td> <td>   -1.923</td> <td> 0.056</td> <td> -495.103</td> <td>    5.992</td>\n",
       "</tr>\n",
       "</table>\n",
       "<table class=\"simpletable\">\n",
       "<tr>\n",
       "  <th>Omnibus:</th>       <td> 1.380</td> <th>  Durbin-Watson:     </th> <td>   0.364</td>\n",
       "</tr>\n",
       "<tr>\n",
       "  <th>Prob(Omnibus):</th> <td> 0.502</td> <th>  Jarque-Bera (JB):  </th> <td>   1.419</td>\n",
       "</tr>\n",
       "<tr>\n",
       "  <th>Skew:</th>          <td>-0.178</td> <th>  Prob(JB):          </th> <td>   0.492</td>\n",
       "</tr>\n",
       "<tr>\n",
       "  <th>Kurtosis:</th>      <td> 2.891</td> <th>  Cond. No.          </th> <td>    123.</td>\n",
       "</tr>\n",
       "</table><br/><br/>Warnings:<br/>[1] Standard Errors assume that the covariance matrix of the errors is correctly specified."
      ],
      "text/plain": [
       "<class 'statsmodels.iolib.summary.Summary'>\n",
       "\"\"\"\n",
       "                            OLS Regression Results                            \n",
       "==============================================================================\n",
       "Dep. Variable:          Iphone 8 Plus   R-squared:                       0.015\n",
       "Model:                            OLS   Adj. R-squared:                  0.011\n",
       "Method:                 Least Squares   F-statistic:                     3.697\n",
       "Date:                Thu, 23 May 2019   Prob (F-statistic):             0.0557\n",
       "Time:                        17:24:51   Log-Likelihood:                -1704.3\n",
       "No. Observations:                 245   AIC:                             3413.\n",
       "Df Residuals:                     243   BIC:                             3420.\n",
       "Df Model:                           1                                         \n",
       "Covariance Type:            nonrobust                                         \n",
       "==============================================================================\n",
       "                 coef    std err          t      P>|t|      [0.025      0.975]\n",
       "------------------------------------------------------------------------------\n",
       "const       5081.8608    489.586     10.380      0.000    4117.487    6046.235\n",
       "Dolar       -244.5555    127.196     -1.923      0.056    -495.103       5.992\n",
       "==============================================================================\n",
       "Omnibus:                        1.380   Durbin-Watson:                   0.364\n",
       "Prob(Omnibus):                  0.502   Jarque-Bera (JB):                1.419\n",
       "Skew:                          -0.178   Prob(JB):                        0.492\n",
       "Kurtosis:                       2.891   Cond. No.                         123.\n",
       "==============================================================================\n",
       "\n",
       "Warnings:\n",
       "[1] Standard Errors assume that the covariance matrix of the errors is correctly specified.\n",
       "\"\"\""
      ]
     },
     "execution_count": 142,
     "metadata": {},
     "output_type": "execute_result"
    }
   ],
   "source": [
    "resultados=[] \n",
    "for i in tabela.columns[:-1]:\n",
    "    xc = sm.add_constant(tabela['Dolar'])\n",
    "    model = sm.OLS(tabela[i], xc)\n",
    "    results = model.fit()\n",
    "    resultados.append(results.summary())\n",
    "\n",
    "resultados[1]\n",
    "#xc = sm.add_constant(facil['Dolar'])\n",
    "#model = sm.OLS(facil['Iphone 7'],xc)\n",
    "#results = model.fit()\n",
    "#results.summary()"
   ]
  },
  {
   "cell_type": "markdown",
   "metadata": {
    "collapsed": true
   },
   "source": [
    "o MODELO DOS K VIZINHOS MAIS PRÓXIMOS (K-Nearest Neighbors Regression)"
   ]
  },
  {
   "cell_type": "code",
   "execution_count": 159,
   "metadata": {},
   "outputs": [],
   "source": [
    "X=tabela['Dolar']\n",
    "y=tabela.loc[:,['Iphone 7','Iphone 7 Plus','Iphone X', 'Iphone 8 Plus', 'Galaxy S8', 'Galaxy S8 Plus', 'Galaxy S9', 'Galaxy S9 Plus']]\n",
    "X_train,X_test,y_train,y_test=train_test_split(X,y,test_size=.3,random_state=0)"
   ]
  },
  {
   "cell_type": "code",
   "execution_count": 176,
   "metadata": {},
   "outputs": [
    {
     "ename": "ValueError",
     "evalue": "Expected 2D array, got 1D array instead:\narray=[3.7053 3.9147 3.7361 3.7307 4.1044 3.8773 3.8001 3.6728 3.824  3.8448\n 3.7267 3.6683 3.7203 3.8755 3.9344 3.857  3.9052 3.864  3.7156 3.7395\n 3.7443 3.7531 3.8575 3.7658 3.8418 4.1667 3.7071 3.7894 3.7655 3.8688\n 4.088  3.8384 3.9207 3.9298 3.8751 3.7739 3.7075 3.9111 3.7566 3.9018\n 3.7633 3.8206 3.7179 3.7892 3.9758 3.8748 3.6588 3.9577 3.8682 3.7253\n 3.6483 3.9007 3.8757 3.9561 3.7431 3.9154 3.7342 3.7155 3.7227 3.7629\n 3.7635 3.7343 3.8876 3.8521 3.958  3.6943 3.6447 3.896  3.857  4.1143\n 3.7589 3.7548 4.0477 4.0366 3.9046 3.798  3.9227 3.9013 4.1455 3.7342\n 3.8558 3.8787 4.1019 3.7367 4.1414 4.0717 3.7822 3.9317 3.8133 3.8575\n 3.7661 3.7412 4.0183 3.9174 3.9258 3.7567 3.6822 3.8841 3.8973 3.7225\n 4.123  3.6251 3.8313 3.9792 3.7831 3.6872 3.8423 3.8569 3.73   3.846\n 3.8592 3.7671 3.7587 3.7434 3.8767 3.8811 3.8954 3.7324 3.7273 3.7559\n 3.8096 3.8687 3.7916 3.9175 3.728  3.8542 3.9863 3.8647 3.7719 3.8945\n 3.9022 3.9215 3.913  3.734  3.7788 4.1422 3.9962 3.7065 4.1957 3.8165\n 3.9545 3.7583 3.8942 3.9536 4.152  4.1542 3.8557 3.8057 4.1252 3.942\n 3.6664 3.9392 3.8415 3.8358 3.8669 3.8802 4.0262 3.8491 4.1463 4.083\n 3.8508 3.7831 3.8763 3.81   3.725  3.8702 4.0812 3.7803 3.7382 3.73\n 3.6622].\nReshape your data either using array.reshape(-1, 1) if your data has a single feature or array.reshape(1, -1) if it contains a single sample.",
     "output_type": "error",
     "traceback": [
      "\u001b[1;31m---------------------------------------------------------------------------\u001b[0m",
      "\u001b[1;31mValueError\u001b[0m                                Traceback (most recent call last)",
      "\u001b[1;32m<ipython-input-176-e39b2ece396d>\u001b[0m in \u001b[0;36m<module>\u001b[1;34m()\u001b[0m\n\u001b[0;32m      1\u001b[0m \u001b[0mclf\u001b[0m\u001b[1;33m=\u001b[0m\u001b[0mKNeighborsRegressor\u001b[0m\u001b[1;33m(\u001b[0m\u001b[1;36m11\u001b[0m\u001b[1;33m)\u001b[0m\u001b[1;33m\u001b[0m\u001b[0m\n\u001b[1;32m----> 2\u001b[1;33m \u001b[0mclf\u001b[0m\u001b[1;33m.\u001b[0m\u001b[0mfit\u001b[0m\u001b[1;33m(\u001b[0m\u001b[0mX_train\u001b[0m\u001b[1;33m,\u001b[0m\u001b[0my_train\u001b[0m\u001b[1;33m)\u001b[0m\u001b[1;33m\u001b[0m\u001b[0m\n\u001b[0m\u001b[0;32m      3\u001b[0m \u001b[0my_pred\u001b[0m\u001b[1;33m=\u001b[0m\u001b[0mclf\u001b[0m\u001b[1;33m.\u001b[0m\u001b[0mpredict\u001b[0m\u001b[1;33m(\u001b[0m\u001b[0mX_test\u001b[0m\u001b[1;33m)\u001b[0m\u001b[1;33m\u001b[0m\u001b[0m\n\u001b[0;32m      4\u001b[0m \u001b[0mprint\u001b[0m\u001b[1;33m(\u001b[0m\u001b[0mmean_squared_error\u001b[0m\u001b[1;33m(\u001b[0m\u001b[0my_test\u001b[0m\u001b[1;33m,\u001b[0m\u001b[0my_pred\u001b[0m\u001b[1;33m)\u001b[0m\u001b[1;33m)\u001b[0m\u001b[1;33m\u001b[0m\u001b[0m\n",
      "\u001b[1;32m~\\Anaconda3\\lib\\site-packages\\sklearn\\neighbors\\base.py\u001b[0m in \u001b[0;36mfit\u001b[1;34m(self, X, y)\u001b[0m\n\u001b[0;32m    848\u001b[0m         \"\"\"\n\u001b[0;32m    849\u001b[0m         \u001b[1;32mif\u001b[0m \u001b[1;32mnot\u001b[0m \u001b[0misinstance\u001b[0m\u001b[1;33m(\u001b[0m\u001b[0mX\u001b[0m\u001b[1;33m,\u001b[0m \u001b[1;33m(\u001b[0m\u001b[0mKDTree\u001b[0m\u001b[1;33m,\u001b[0m \u001b[0mBallTree\u001b[0m\u001b[1;33m)\u001b[0m\u001b[1;33m)\u001b[0m\u001b[1;33m:\u001b[0m\u001b[1;33m\u001b[0m\u001b[0m\n\u001b[1;32m--> 850\u001b[1;33m             \u001b[0mX\u001b[0m\u001b[1;33m,\u001b[0m \u001b[0my\u001b[0m \u001b[1;33m=\u001b[0m \u001b[0mcheck_X_y\u001b[0m\u001b[1;33m(\u001b[0m\u001b[0mX\u001b[0m\u001b[1;33m,\u001b[0m \u001b[0my\u001b[0m\u001b[1;33m,\u001b[0m \u001b[1;34m\"csr\"\u001b[0m\u001b[1;33m,\u001b[0m \u001b[0mmulti_output\u001b[0m\u001b[1;33m=\u001b[0m\u001b[1;32mTrue\u001b[0m\u001b[1;33m)\u001b[0m\u001b[1;33m\u001b[0m\u001b[0m\n\u001b[0m\u001b[0;32m    851\u001b[0m         \u001b[0mself\u001b[0m\u001b[1;33m.\u001b[0m\u001b[0m_y\u001b[0m \u001b[1;33m=\u001b[0m \u001b[0my\u001b[0m\u001b[1;33m\u001b[0m\u001b[0m\n\u001b[0;32m    852\u001b[0m         \u001b[1;32mreturn\u001b[0m \u001b[0mself\u001b[0m\u001b[1;33m.\u001b[0m\u001b[0m_fit\u001b[0m\u001b[1;33m(\u001b[0m\u001b[0mX\u001b[0m\u001b[1;33m)\u001b[0m\u001b[1;33m\u001b[0m\u001b[0m\n",
      "\u001b[1;32m~\\Anaconda3\\lib\\site-packages\\sklearn\\utils\\validation.py\u001b[0m in \u001b[0;36mcheck_X_y\u001b[1;34m(X, y, accept_sparse, accept_large_sparse, dtype, order, copy, force_all_finite, ensure_2d, allow_nd, multi_output, ensure_min_samples, ensure_min_features, y_numeric, warn_on_dtype, estimator)\u001b[0m\n\u001b[0;32m    745\u001b[0m                     \u001b[0mensure_min_features\u001b[0m\u001b[1;33m=\u001b[0m\u001b[0mensure_min_features\u001b[0m\u001b[1;33m,\u001b[0m\u001b[1;33m\u001b[0m\u001b[0m\n\u001b[0;32m    746\u001b[0m                     \u001b[0mwarn_on_dtype\u001b[0m\u001b[1;33m=\u001b[0m\u001b[0mwarn_on_dtype\u001b[0m\u001b[1;33m,\u001b[0m\u001b[1;33m\u001b[0m\u001b[0m\n\u001b[1;32m--> 747\u001b[1;33m                     estimator=estimator)\n\u001b[0m\u001b[0;32m    748\u001b[0m     \u001b[1;32mif\u001b[0m \u001b[0mmulti_output\u001b[0m\u001b[1;33m:\u001b[0m\u001b[1;33m\u001b[0m\u001b[0m\n\u001b[0;32m    749\u001b[0m         y = check_array(y, 'csr', force_all_finite=True, ensure_2d=False,\n",
      "\u001b[1;32m~\\Anaconda3\\lib\\site-packages\\sklearn\\utils\\validation.py\u001b[0m in \u001b[0;36mcheck_array\u001b[1;34m(array, accept_sparse, accept_large_sparse, dtype, order, copy, force_all_finite, ensure_2d, allow_nd, ensure_min_samples, ensure_min_features, warn_on_dtype, estimator)\u001b[0m\n\u001b[0;32m    545\u001b[0m                     \u001b[1;34m\"Reshape your data either using array.reshape(-1, 1) if \"\u001b[0m\u001b[1;33m\u001b[0m\u001b[0m\n\u001b[0;32m    546\u001b[0m                     \u001b[1;34m\"your data has a single feature or array.reshape(1, -1) \"\u001b[0m\u001b[1;33m\u001b[0m\u001b[0m\n\u001b[1;32m--> 547\u001b[1;33m                     \"if it contains a single sample.\".format(array))\n\u001b[0m\u001b[0;32m    548\u001b[0m \u001b[1;33m\u001b[0m\u001b[0m\n\u001b[0;32m    549\u001b[0m         \u001b[1;31m# in the future np.flexible dtypes will be handled like object dtypes\u001b[0m\u001b[1;33m\u001b[0m\u001b[1;33m\u001b[0m\u001b[0m\n",
      "\u001b[1;31mValueError\u001b[0m: Expected 2D array, got 1D array instead:\narray=[3.7053 3.9147 3.7361 3.7307 4.1044 3.8773 3.8001 3.6728 3.824  3.8448\n 3.7267 3.6683 3.7203 3.8755 3.9344 3.857  3.9052 3.864  3.7156 3.7395\n 3.7443 3.7531 3.8575 3.7658 3.8418 4.1667 3.7071 3.7894 3.7655 3.8688\n 4.088  3.8384 3.9207 3.9298 3.8751 3.7739 3.7075 3.9111 3.7566 3.9018\n 3.7633 3.8206 3.7179 3.7892 3.9758 3.8748 3.6588 3.9577 3.8682 3.7253\n 3.6483 3.9007 3.8757 3.9561 3.7431 3.9154 3.7342 3.7155 3.7227 3.7629\n 3.7635 3.7343 3.8876 3.8521 3.958  3.6943 3.6447 3.896  3.857  4.1143\n 3.7589 3.7548 4.0477 4.0366 3.9046 3.798  3.9227 3.9013 4.1455 3.7342\n 3.8558 3.8787 4.1019 3.7367 4.1414 4.0717 3.7822 3.9317 3.8133 3.8575\n 3.7661 3.7412 4.0183 3.9174 3.9258 3.7567 3.6822 3.8841 3.8973 3.7225\n 4.123  3.6251 3.8313 3.9792 3.7831 3.6872 3.8423 3.8569 3.73   3.846\n 3.8592 3.7671 3.7587 3.7434 3.8767 3.8811 3.8954 3.7324 3.7273 3.7559\n 3.8096 3.8687 3.7916 3.9175 3.728  3.8542 3.9863 3.8647 3.7719 3.8945\n 3.9022 3.9215 3.913  3.734  3.7788 4.1422 3.9962 3.7065 4.1957 3.8165\n 3.9545 3.7583 3.8942 3.9536 4.152  4.1542 3.8557 3.8057 4.1252 3.942\n 3.6664 3.9392 3.8415 3.8358 3.8669 3.8802 4.0262 3.8491 4.1463 4.083\n 3.8508 3.7831 3.8763 3.81   3.725  3.8702 4.0812 3.7803 3.7382 3.73\n 3.6622].\nReshape your data either using array.reshape(-1, 1) if your data has a single feature or array.reshape(1, -1) if it contains a single sample."
     ]
    }
   ],
   "source": [
    "clf=KNeighborsRegressor(1)\n",
    "clf.fit(X_train,y_train)\n",
    "y_pred=clf.predict(X_test)\n",
    "print(mean_squared_error(y_test,y_pred))"
   ]
  },
  {
   "cell_type": "markdown",
   "metadata": {
    "collapsed": true
   },
   "source": [
    "o MODELO DE REGRESSÃO LINEAR (Multiple Linear Regression)"
   ]
  },
  {
   "cell_type": "code",
   "execution_count": 206,
   "metadata": {},
   "outputs": [],
   "source": [
    "x = retorno['Dolar']\n",
    "xb = x.mean()\n",
    "x_v = np.linspace(x.min(), x.max(), 500)\n",
    "\n",
    "\n",
    "def Regressao():\n",
    "    betas = []\n",
    "    valoresY = []\n",
    "    \n",
    "    for i in retorno.columns[:-1]:\n",
    "        y = retorno[i]\n",
    "\n",
    "        #beta^0 e beta^1\n",
    "        yb = y.mean()\n",
    "\n",
    "\n",
    "        Sxy = ((x -xb)*(y -yb)).sum()\n",
    "        Sxx = ((x -xb)**2).sum()\n",
    "\n",
    "        b1 = Sxy/Sxx\n",
    "        b0 = yb - b1*xb\n",
    "        betas.append([b0, b1])\n",
    "        \n",
    "        y_v = b0 + b1*x_v\n",
    "        valoresY.append(y_v)\n",
    "        \n",
    "    return [betas, valoresY]\n",
    "    \n",
    "#print(Regressao()[0]) ---> valores beta\n",
    "#len(Regressao()[1]) #---> valores Y"
   ]
  },
  {
   "cell_type": "code",
   "execution_count": null,
   "metadata": {},
   "outputs": [],
   "source": []
  },
  {
   "cell_type": "code",
   "execution_count": 207,
   "metadata": {},
   "outputs": [
    {
     "ename": "ValueError",
     "evalue": "x and y must be the same size",
     "output_type": "error",
     "traceback": [
      "\u001b[1;31m---------------------------------------------------------------------------\u001b[0m",
      "\u001b[1;31mValueError\u001b[0m                                Traceback (most recent call last)",
      "\u001b[1;32m<ipython-input-207-c7e1e8451b6d>\u001b[0m in \u001b[0;36m<module>\u001b[1;34m()\u001b[0m\n\u001b[0;32m      2\u001b[0m \u001b[1;32mfor\u001b[0m \u001b[0mi\u001b[0m \u001b[1;32min\u001b[0m \u001b[0mrange\u001b[0m\u001b[1;33m(\u001b[0m\u001b[0mlen\u001b[0m\u001b[1;33m(\u001b[0m\u001b[0mretorno\u001b[0m\u001b[1;33m.\u001b[0m\u001b[0mcolumns\u001b[0m\u001b[1;33m[\u001b[0m\u001b[1;33m:\u001b[0m\u001b[1;33m-\u001b[0m\u001b[1;36m1\u001b[0m\u001b[1;33m]\u001b[0m\u001b[1;33m)\u001b[0m\u001b[1;33m)\u001b[0m\u001b[1;33m:\u001b[0m\u001b[1;33m\u001b[0m\u001b[0m\n\u001b[0;32m      3\u001b[0m     \u001b[0mplt\u001b[0m\u001b[1;33m.\u001b[0m\u001b[0mplot\u001b[0m\u001b[1;33m(\u001b[0m\u001b[0mx_v\u001b[0m\u001b[1;33m,\u001b[0m\u001b[0mvaloresY\u001b[0m\u001b[1;33m[\u001b[0m\u001b[0mi\u001b[0m\u001b[1;33m]\u001b[0m\u001b[1;33m,\u001b[0m \u001b[0mcolor\u001b[0m\u001b[1;33m=\u001b[0m\u001b[1;34m\"r\"\u001b[0m\u001b[1;33m)\u001b[0m \u001b[1;31m# resultados da regressão\u001b[0m\u001b[1;33m\u001b[0m\u001b[0m\n\u001b[1;32m----> 4\u001b[1;33m     \u001b[0mplt\u001b[0m\u001b[1;33m.\u001b[0m\u001b[0mscatter\u001b[0m\u001b[1;33m(\u001b[0m\u001b[0mx\u001b[0m\u001b[1;33m,\u001b[0m \u001b[0my\u001b[0m\u001b[1;33m)\u001b[0m\u001b[1;33m;\u001b[0m \u001b[1;31m# dados\u001b[0m\u001b[1;33m\u001b[0m\u001b[0m\n\u001b[0m\u001b[0;32m      5\u001b[0m     \u001b[0mplt\u001b[0m\u001b[1;33m.\u001b[0m\u001b[0mxlabel\u001b[0m\u001b[1;33m(\u001b[0m\u001b[1;34m\"x: dolar\"\u001b[0m\u001b[1;33m)\u001b[0m\u001b[1;33m;\u001b[0m\u001b[1;33m\u001b[0m\u001b[0m\n\u001b[0;32m      6\u001b[0m     \u001b[0mplt\u001b[0m\u001b[1;33m.\u001b[0m\u001b[0mylabel\u001b[0m\u001b[1;33m(\u001b[0m\u001b[1;34m\"y: celular\"\u001b[0m\u001b[1;33m)\u001b[0m\u001b[1;33m;\u001b[0m\u001b[1;33m\u001b[0m\u001b[0m\n",
      "\u001b[1;32m~\\Anaconda3\\lib\\site-packages\\matplotlib\\pyplot.py\u001b[0m in \u001b[0;36mscatter\u001b[1;34m(x, y, s, c, marker, cmap, norm, vmin, vmax, alpha, linewidths, verts, edgecolors, hold, data, **kwargs)\u001b[0m\n\u001b[0;32m   3468\u001b[0m                          \u001b[0mvmin\u001b[0m\u001b[1;33m=\u001b[0m\u001b[0mvmin\u001b[0m\u001b[1;33m,\u001b[0m \u001b[0mvmax\u001b[0m\u001b[1;33m=\u001b[0m\u001b[0mvmax\u001b[0m\u001b[1;33m,\u001b[0m \u001b[0malpha\u001b[0m\u001b[1;33m=\u001b[0m\u001b[0malpha\u001b[0m\u001b[1;33m,\u001b[0m\u001b[1;33m\u001b[0m\u001b[0m\n\u001b[0;32m   3469\u001b[0m                          \u001b[0mlinewidths\u001b[0m\u001b[1;33m=\u001b[0m\u001b[0mlinewidths\u001b[0m\u001b[1;33m,\u001b[0m \u001b[0mverts\u001b[0m\u001b[1;33m=\u001b[0m\u001b[0mverts\u001b[0m\u001b[1;33m,\u001b[0m\u001b[1;33m\u001b[0m\u001b[0m\n\u001b[1;32m-> 3470\u001b[1;33m                          edgecolors=edgecolors, data=data, **kwargs)\n\u001b[0m\u001b[0;32m   3471\u001b[0m     \u001b[1;32mfinally\u001b[0m\u001b[1;33m:\u001b[0m\u001b[1;33m\u001b[0m\u001b[0m\n\u001b[0;32m   3472\u001b[0m         \u001b[0max\u001b[0m\u001b[1;33m.\u001b[0m\u001b[0m_hold\u001b[0m \u001b[1;33m=\u001b[0m \u001b[0mwashold\u001b[0m\u001b[1;33m\u001b[0m\u001b[0m\n",
      "\u001b[1;32m~\\Anaconda3\\lib\\site-packages\\matplotlib\\__init__.py\u001b[0m in \u001b[0;36minner\u001b[1;34m(ax, *args, **kwargs)\u001b[0m\n\u001b[0;32m   1853\u001b[0m                         \u001b[1;34m\"the Matplotlib list!)\"\u001b[0m \u001b[1;33m%\u001b[0m \u001b[1;33m(\u001b[0m\u001b[0mlabel_namer\u001b[0m\u001b[1;33m,\u001b[0m \u001b[0mfunc\u001b[0m\u001b[1;33m.\u001b[0m\u001b[0m__name__\u001b[0m\u001b[1;33m)\u001b[0m\u001b[1;33m,\u001b[0m\u001b[1;33m\u001b[0m\u001b[0m\n\u001b[0;32m   1854\u001b[0m                         RuntimeWarning, stacklevel=2)\n\u001b[1;32m-> 1855\u001b[1;33m             \u001b[1;32mreturn\u001b[0m \u001b[0mfunc\u001b[0m\u001b[1;33m(\u001b[0m\u001b[0max\u001b[0m\u001b[1;33m,\u001b[0m \u001b[1;33m*\u001b[0m\u001b[0margs\u001b[0m\u001b[1;33m,\u001b[0m \u001b[1;33m**\u001b[0m\u001b[0mkwargs\u001b[0m\u001b[1;33m)\u001b[0m\u001b[1;33m\u001b[0m\u001b[0m\n\u001b[0m\u001b[0;32m   1856\u001b[0m \u001b[1;33m\u001b[0m\u001b[0m\n\u001b[0;32m   1857\u001b[0m         inner.__doc__ = _add_data_doc(inner.__doc__,\n",
      "\u001b[1;32m~\\Anaconda3\\lib\\site-packages\\matplotlib\\axes\\_axes.py\u001b[0m in \u001b[0;36mscatter\u001b[1;34m(self, x, y, s, c, marker, cmap, norm, vmin, vmax, alpha, linewidths, verts, edgecolors, **kwargs)\u001b[0m\n\u001b[0;32m   4241\u001b[0m         \u001b[0my\u001b[0m \u001b[1;33m=\u001b[0m \u001b[0mnp\u001b[0m\u001b[1;33m.\u001b[0m\u001b[0mma\u001b[0m\u001b[1;33m.\u001b[0m\u001b[0mravel\u001b[0m\u001b[1;33m(\u001b[0m\u001b[0my\u001b[0m\u001b[1;33m)\u001b[0m\u001b[1;33m\u001b[0m\u001b[0m\n\u001b[0;32m   4242\u001b[0m         \u001b[1;32mif\u001b[0m \u001b[0mx\u001b[0m\u001b[1;33m.\u001b[0m\u001b[0msize\u001b[0m \u001b[1;33m!=\u001b[0m \u001b[0my\u001b[0m\u001b[1;33m.\u001b[0m\u001b[0msize\u001b[0m\u001b[1;33m:\u001b[0m\u001b[1;33m\u001b[0m\u001b[0m\n\u001b[1;32m-> 4243\u001b[1;33m             \u001b[1;32mraise\u001b[0m \u001b[0mValueError\u001b[0m\u001b[1;33m(\u001b[0m\u001b[1;34m\"x and y must be the same size\"\u001b[0m\u001b[1;33m)\u001b[0m\u001b[1;33m\u001b[0m\u001b[0m\n\u001b[0m\u001b[0;32m   4244\u001b[0m \u001b[1;33m\u001b[0m\u001b[0m\n\u001b[0;32m   4245\u001b[0m         \u001b[1;32mif\u001b[0m \u001b[0ms\u001b[0m \u001b[1;32mis\u001b[0m \u001b[1;32mNone\u001b[0m\u001b[1;33m:\u001b[0m\u001b[1;33m\u001b[0m\u001b[0m\n",
      "\u001b[1;31mValueError\u001b[0m: x and y must be the same size"
     ]
    },
    {
     "data": {
      "image/png": "[encoded data removed]",
      "text/plain": [
       "<Figure size 432x288 with 1 Axes>"
      ]
     },
     "metadata": {},
     "output_type": "display_data"
    }
   ],
   "source": [
    "valoresY = Regressao()[1]\n",
    "for i in range(len(retorno.columns[:-1])):\n",
    "    plt.plot(x_v,valoresY[i], color=\"r\") # resultados da regressão\n",
    "    plt.scatter(x, y); # dados\n",
    "    plt.xlabel(\"x: dolar\");\n",
    "    plt.ylabel(\"y: celular\");\n",
    "    plt.show() #informar os nomes de celular em cada grafico"
   ]
  },
  {
   "cell_type": "code",
   "execution_count": 210,
   "metadata": {},
   "outputs": [
    {
     "ename": "ValueError",
     "evalue": "all the input array dimensions except for the concatenation axis must match exactly",
     "output_type": "error",
     "traceback": [
      "\u001b[1;31m---------------------------------------------------------------------------\u001b[0m",
      "\u001b[1;31mValueError\u001b[0m                                Traceback (most recent call last)",
      "\u001b[1;32m<ipython-input-210-7e530620a281>\u001b[0m in \u001b[0;36m<module>\u001b[1;34m()\u001b[0m\n\u001b[0;32m      1\u001b[0m \u001b[0me\u001b[0m \u001b[1;33m=\u001b[0m \u001b[0my\u001b[0m \u001b[1;33m-\u001b[0m \u001b[1;33m(\u001b[0m\u001b[0mb0\u001b[0m \u001b[1;33m+\u001b[0m \u001b[0mb1\u001b[0m\u001b[1;33m*\u001b[0m\u001b[0mx\u001b[0m\u001b[1;33m)\u001b[0m \u001b[1;31m# Escreva sua fórmula dos resíduos aqui\u001b[0m\u001b[1;33m\u001b[0m\u001b[0m\n\u001b[0;32m      2\u001b[0m \u001b[1;33m\u001b[0m\u001b[0m\n\u001b[1;32m----> 3\u001b[1;33m \u001b[0mstats\u001b[0m\u001b[1;33m.\u001b[0m\u001b[0mprobplot\u001b[0m\u001b[1;33m(\u001b[0m\u001b[0me\u001b[0m\u001b[1;33m,\u001b[0m \u001b[0mdist\u001b[0m\u001b[1;33m=\u001b[0m\u001b[1;34m'norm'\u001b[0m\u001b[1;33m,\u001b[0m \u001b[0mplot\u001b[0m\u001b[1;33m=\u001b[0m\u001b[0mplt\u001b[0m\u001b[1;33m)\u001b[0m\u001b[1;33m;\u001b[0m \u001b[1;31m# Verifique graficamente  se é uma normal - como fazer isso?\u001b[0m\u001b[1;33m\u001b[0m\u001b[0m\n\u001b[0m",
      "\u001b[1;32m~\\Anaconda3\\lib\\site-packages\\scipy\\stats\\morestats.py\u001b[0m in \u001b[0;36mprobplot\u001b[1;34m(x, sparams, dist, fit, plot, rvalue)\u001b[0m\n\u001b[0;32m    602\u001b[0m     \u001b[1;32mif\u001b[0m \u001b[0m_perform_fit\u001b[0m\u001b[1;33m:\u001b[0m\u001b[1;33m\u001b[0m\u001b[0m\n\u001b[0;32m    603\u001b[0m         \u001b[1;31m# perform a linear least squares fit.\u001b[0m\u001b[1;33m\u001b[0m\u001b[1;33m\u001b[0m\u001b[0m\n\u001b[1;32m--> 604\u001b[1;33m         \u001b[0mslope\u001b[0m\u001b[1;33m,\u001b[0m \u001b[0mintercept\u001b[0m\u001b[1;33m,\u001b[0m \u001b[0mr\u001b[0m\u001b[1;33m,\u001b[0m \u001b[0mprob\u001b[0m\u001b[1;33m,\u001b[0m \u001b[0msterrest\u001b[0m \u001b[1;33m=\u001b[0m \u001b[0mstats\u001b[0m\u001b[1;33m.\u001b[0m\u001b[0mlinregress\u001b[0m\u001b[1;33m(\u001b[0m\u001b[0mosm\u001b[0m\u001b[1;33m,\u001b[0m \u001b[0mosr\u001b[0m\u001b[1;33m)\u001b[0m\u001b[1;33m\u001b[0m\u001b[0m\n\u001b[0m\u001b[0;32m    605\u001b[0m \u001b[1;33m\u001b[0m\u001b[0m\n\u001b[0;32m    606\u001b[0m     \u001b[1;32mif\u001b[0m \u001b[0mplot\u001b[0m \u001b[1;32mis\u001b[0m \u001b[1;32mnot\u001b[0m \u001b[1;32mNone\u001b[0m\u001b[1;33m:\u001b[0m\u001b[1;33m\u001b[0m\u001b[0m\n",
      "\u001b[1;32m~\\Anaconda3\\lib\\site-packages\\scipy\\stats\\_stats_mstats_common.py\u001b[0m in \u001b[0;36mlinregress\u001b[1;34m(x, y)\u001b[0m\n\u001b[0;32m     91\u001b[0m \u001b[1;33m\u001b[0m\u001b[0m\n\u001b[0;32m     92\u001b[0m     \u001b[1;31m# average sum of squares:\u001b[0m\u001b[1;33m\u001b[0m\u001b[1;33m\u001b[0m\u001b[0m\n\u001b[1;32m---> 93\u001b[1;33m     \u001b[0mssxm\u001b[0m\u001b[1;33m,\u001b[0m \u001b[0mssxym\u001b[0m\u001b[1;33m,\u001b[0m \u001b[0mssyxm\u001b[0m\u001b[1;33m,\u001b[0m \u001b[0mssym\u001b[0m \u001b[1;33m=\u001b[0m \u001b[0mnp\u001b[0m\u001b[1;33m.\u001b[0m\u001b[0mcov\u001b[0m\u001b[1;33m(\u001b[0m\u001b[0mx\u001b[0m\u001b[1;33m,\u001b[0m \u001b[0my\u001b[0m\u001b[1;33m,\u001b[0m \u001b[0mbias\u001b[0m\u001b[1;33m=\u001b[0m\u001b[1;36m1\u001b[0m\u001b[1;33m)\u001b[0m\u001b[1;33m.\u001b[0m\u001b[0mflat\u001b[0m\u001b[1;33m\u001b[0m\u001b[0m\n\u001b[0m\u001b[0;32m     94\u001b[0m     \u001b[0mr_num\u001b[0m \u001b[1;33m=\u001b[0m \u001b[0mssxym\u001b[0m\u001b[1;33m\u001b[0m\u001b[0m\n\u001b[0;32m     95\u001b[0m     \u001b[0mr_den\u001b[0m \u001b[1;33m=\u001b[0m \u001b[0mnp\u001b[0m\u001b[1;33m.\u001b[0m\u001b[0msqrt\u001b[0m\u001b[1;33m(\u001b[0m\u001b[0mssxm\u001b[0m \u001b[1;33m*\u001b[0m \u001b[0mssym\u001b[0m\u001b[1;33m)\u001b[0m\u001b[1;33m\u001b[0m\u001b[0m\n",
      "\u001b[1;32m~\\Anaconda3\\lib\\site-packages\\numpy\\lib\\function_base.py\u001b[0m in \u001b[0;36mcov\u001b[1;34m(m, y, rowvar, bias, ddof, fweights, aweights)\u001b[0m\n\u001b[0;32m   3042\u001b[0m         \u001b[1;32mif\u001b[0m \u001b[1;32mnot\u001b[0m \u001b[0mrowvar\u001b[0m \u001b[1;32mand\u001b[0m \u001b[0my\u001b[0m\u001b[1;33m.\u001b[0m\u001b[0mshape\u001b[0m\u001b[1;33m[\u001b[0m\u001b[1;36m0\u001b[0m\u001b[1;33m]\u001b[0m \u001b[1;33m!=\u001b[0m \u001b[1;36m1\u001b[0m\u001b[1;33m:\u001b[0m\u001b[1;33m\u001b[0m\u001b[0m\n\u001b[0;32m   3043\u001b[0m             \u001b[0my\u001b[0m \u001b[1;33m=\u001b[0m \u001b[0my\u001b[0m\u001b[1;33m.\u001b[0m\u001b[0mT\u001b[0m\u001b[1;33m\u001b[0m\u001b[0m\n\u001b[1;32m-> 3044\u001b[1;33m         \u001b[0mX\u001b[0m \u001b[1;33m=\u001b[0m \u001b[0mnp\u001b[0m\u001b[1;33m.\u001b[0m\u001b[0mconcatenate\u001b[0m\u001b[1;33m(\u001b[0m\u001b[1;33m(\u001b[0m\u001b[0mX\u001b[0m\u001b[1;33m,\u001b[0m \u001b[0my\u001b[0m\u001b[1;33m)\u001b[0m\u001b[1;33m,\u001b[0m \u001b[0maxis\u001b[0m\u001b[1;33m=\u001b[0m\u001b[1;36m0\u001b[0m\u001b[1;33m)\u001b[0m\u001b[1;33m\u001b[0m\u001b[0m\n\u001b[0m\u001b[0;32m   3045\u001b[0m \u001b[1;33m\u001b[0m\u001b[0m\n\u001b[0;32m   3046\u001b[0m     \u001b[1;32mif\u001b[0m \u001b[0mddof\u001b[0m \u001b[1;32mis\u001b[0m \u001b[1;32mNone\u001b[0m\u001b[1;33m:\u001b[0m\u001b[1;33m\u001b[0m\u001b[0m\n",
      "\u001b[1;31mValueError\u001b[0m: all the input array dimensions except for the concatenation axis must match exactly"
     ]
    }
   ],
   "source": [
    "e = y - (b0 + b1*x) # Escreva sua fórmula dos resíduos aqui\n",
    "\n",
    "stats.probplot(e, dist='norm', plot=plt); # Verifique graficamente  se é uma normal - como fazer isso?"
   ]
  },
  {
   "cell_type": "markdown",
   "metadata": {
    "collapsed": true
   },
   "source": [
    "o MODELO DE ÁRVORES DE REGRESSÃO (Decision Tree Regression)"
   ]
  },
  {
   "cell_type": "code",
   "execution_count": null,
   "metadata": {},
   "outputs": [],
   "source": []
  },
  {
   "cell_type": "code",
   "execution_count": null,
   "metadata": {},
   "outputs": [],
   "source": []
  },
  {
   "cell_type": "markdown",
   "metadata": {
    "collapsed": true
   },
   "source": [
    "___\n",
    "## D. PROCESSO E ESTATÍSTICAS DE VALIDAÇÃO"
   ]
  },
  {
   "cell_type": "markdown",
   "metadata": {},
   "source": [
    "[Esse item depende dos resultados das modelagens anteriores! Organize-os aqui de forma clara!]"
   ]
  },
  {
   "cell_type": "code",
   "execution_count": null,
   "metadata": {},
   "outputs": [],
   "source": []
  },
  {
   "cell_type": "code",
   "execution_count": null,
   "metadata": {},
   "outputs": [],
   "source": []
  },
  {
   "cell_type": "code",
   "execution_count": null,
   "metadata": {},
   "outputs": [],
   "source": []
  },
  {
   "cell_type": "code",
   "execution_count": null,
   "metadata": {},
   "outputs": [],
   "source": []
  },
  {
   "cell_type": "markdown",
   "metadata": {},
   "source": [
    "___\n",
    "## E. CONCLUSÃO"
   ]
  },
  {
   "cell_type": "code",
   "execution_count": null,
   "metadata": {},
   "outputs": [],
   "source": []
  },
  {
   "cell_type": "code",
   "execution_count": null,
   "metadata": {},
   "outputs": [],
   "source": []
  },
  {
   "cell_type": "code",
   "execution_count": null,
   "metadata": {},
   "outputs": [],
   "source": []
  },
  {
   "cell_type": "code",
   "execution_count": null,
   "metadata": {},
   "outputs": [],
   "source": []
  },
  {
   "cell_type": "markdown",
   "metadata": {},
   "source": [
    "___\n",
    "## F. REFERÊNCIAS BIBLIOGRÁFICAS"
   ]
  },
  {
   "cell_type": "markdown",
   "metadata": {},
   "source": [
    "https://br.investing.com/ $\\rightarrow$ site para busca da cotação dos dolores\n",
    "_________\n",
    "https://www.buscape.com.br $\\rightarrow$ site para busca de histórico dos preços"
   ]
  }
 ],
 "metadata": {
  "anaconda-cloud": {},
  "kernelspec": {
   "display_name": "Python 3",
   "language": "python",
   "name": "python3"
  },
  "language_info": {
   "codemirror_mode": {
    "name": "ipython",
    "version": 3
   },
   "file_extension": ".py",
   "mimetype": "text/x-python",
   "name": "python",
   "nbconvert_exporter": "python",
   "pygments_lexer": "ipython3",
   "version": "3.6.5"
  }
 },
 "nbformat": 4,
 "nbformat_minor": 1
}
