{
 "cells": [
  {
   "cell_type": "markdown",
   "metadata": {},
   "source": [
    "___\n",
    "## Ciência dos Dados - PROJETO 3 - INSPER"
   ]
  },
  {
   "cell_type": "markdown",
   "metadata": {},
   "source": [
    "___\n",
    "#### Mariana Abrantes\n",
    "\n",
    "#### Gabriel Couto\n",
    "\n",
    "#### Gabriel Miras\n",
    "___"
   ]
  },
  {
   "cell_type": "markdown",
   "metadata": {},
   "source": [
    "# Previsão de preços de smartphones ao dólar"
   ]
  },
  {
   "cell_type": "markdown",
   "metadata": {},
   "source": [
    "___\n",
    "\n",
    "## A. INTRODUÇÃO"
   ]
  },
  {
   "cell_type": "markdown",
   "metadata": {},
   "source": [
    "Nestes últimos anos, com a instabilidade política e socioeconômica do Brasil, o preço do dólar está em constante variação, e com isso o preço de produtos estrangeiros mudam constantemente. Movidos por uma curiosidade de encontrar se estes fatores possuem semelhanças, escolhemos criar um modelo preditivo que, baseados em diversos fatores acerca de um modelo de smartphone, faça uma previsão acerca de seu preço durante os meses. Estamos interessados em buscar modelos consistentes, que nos permitam observar as predições e tirar conclusões acerca de sua performance."
   ]
  },
  {
   "cell_type": "markdown",
   "metadata": {},
   "source": [
    "___\n",
    "## B. MINERANDO DADOS e CARACTERÍSTICAS DO DATASET"
   ]
  },
  {
   "cell_type": "markdown",
   "metadata": {},
   "source": [
    "[Detalhe aqui as características da base de dados além da análise descritiva.]"
   ]
  },
  {
   "cell_type": "code",
   "execution_count": 1,
   "metadata": {},
   "outputs": [],
   "source": [
    "import pandas as pd\n",
    "import requests\n",
    "import os\n",
    "import re\n",
    "\n",
    "#Preço do dolar\n",
    "dolar19 = pd.read_csv('dolar 19.csv')\n",
    "dolar18 = pd.read_csv('dolar 18.csv')\n",
    "dolar   = dolar19.append(dolar18)\n",
    "dolar['Data'] = dolar['Data'].str.replace('.','/', regex=False)\n",
    "dolar.index = dolar['Data']\n",
    "dol = pd.DataFrame(columns = dolar.index)\n",
    "dol = dol.append(dolar.T.loc['Último',:])"
   ]
  },
  {
   "cell_type": "code",
   "execution_count": 2,
   "metadata": {},
   "outputs": [],
   "source": [
    "#Recebe uma URL e retorna o código HTML da página (Só é chamada pela função baixarBD)\n",
    "def baixarhtml(url):\n",
    "    html = requests.get(url).text.splitlines()\n",
    "    return html\n",
    "\n",
    "#Recebe url do Buscape e retorna um Dataframe \n",
    "def baixarBD(url):\n",
    "    #Pegar ID do produto do buscape usando a url fornecida\n",
    "    code = baixarhtml(url)\n",
    "    for i in range(len(code)):\n",
    "        igual = re.findall('\"productId\":[0-9]*', code[i])\n",
    "        if len(igual)>0:\n",
    "            id = igual[0].split(':')[1]\n",
    "            \n",
    "    #Baixar BD dos preços\n",
    "    site = \"https://www.buscape.com.br/async/history/idu/\" + id + \"/days/365\"\n",
    "    code = baixarhtml(site)\n",
    "    \n",
    "    #Converte código e cria tabela\n",
    "    c = code[0].split('\"historicos\":')\n",
    "    json_file = c[1][:-1]\n",
    "    bd = pd.read_json(json_file)\n",
    "    return bd.loc[:,['data','precomed','precomin']]\n",
    "\n",
    "    \n",
    "#Recebe lista com o nome do produto e links e baixa todos eles\n",
    "def df_min(lista):\n",
    "    for num in range(len(lista)):\n",
    "        produto, link = lista[num][0], lista[num][1]\n",
    "        df0 = baixarBD(link)\n",
    "        df = df0.loc[:,['precomin']].T #Cria Tabela de precomin por data\n",
    "        df.index = [produto]\n",
    "        if num == 0:\n",
    "            bd = pd.DataFrame(columns = range(len(df)))\n",
    "            bd = bd.append(df)\n",
    "        else:\n",
    "            bd = bd.append(df)\n",
    "            \n",
    "    bd.columns = list(df0['data'])\n",
    "    return bd"
   ]
  },
  {
   "cell_type": "markdown",
   "metadata": {},
   "source": [
    "### BASE DE DADOS"
   ]
  },
  {
   "cell_type": "code",
   "execution_count": 8,
   "metadata": {},
   "outputs": [
    {
     "data": {
      "text/html": [
       "<div>\n",
       "<style scoped>\n",
       "    .dataframe tbody tr th:only-of-type {\n",
       "        vertical-align: middle;\n",
       "    }\n",
       "\n",
       "    .dataframe tbody tr th {\n",
       "        vertical-align: top;\n",
       "    }\n",
       "\n",
       "    .dataframe thead th {\n",
       "        text-align: right;\n",
       "    }\n",
       "</style>\n",
       "<table border=\"1\" class=\"dataframe\">\n",
       "  <thead>\n",
       "    <tr style=\"text-align: right;\">\n",
       "      <th>Data</th>\n",
       "      <th>09/05/2019</th>\n",
       "      <th>08/05/2019</th>\n",
       "      <th>07/05/2019</th>\n",
       "      <th>06/05/2019</th>\n",
       "      <th>05/05/2019</th>\n",
       "      <th>03/05/2019</th>\n",
       "      <th>02/05/2019</th>\n",
       "      <th>01/05/2019</th>\n",
       "      <th>30/04/2019</th>\n",
       "      <th>29/04/2019</th>\n",
       "      <th>...</th>\n",
       "      <th>12/01/2018</th>\n",
       "      <th>11/01/2018</th>\n",
       "      <th>10/01/2018</th>\n",
       "      <th>09/01/2018</th>\n",
       "      <th>08/01/2018</th>\n",
       "      <th>05/01/2018</th>\n",
       "      <th>04/01/2018</th>\n",
       "      <th>03/01/2018</th>\n",
       "      <th>02/01/2018</th>\n",
       "      <th>01/01/2018</th>\n",
       "    </tr>\n",
       "  </thead>\n",
       "  <tbody>\n",
       "    <tr>\n",
       "      <th>Último</th>\n",
       "      <td>3,9420</td>\n",
       "      <td>3,9285</td>\n",
       "      <td>3,9710</td>\n",
       "      <td>3,9695</td>\n",
       "      <td>3,9383</td>\n",
       "      <td>3,9382</td>\n",
       "      <td>3,9661</td>\n",
       "      <td>3,9202</td>\n",
       "      <td>3,9215</td>\n",
       "      <td>3,9456</td>\n",
       "      <td>...</td>\n",
       "      <td>3,2064</td>\n",
       "      <td>3,2155</td>\n",
       "      <td>3,2283</td>\n",
       "      <td>3,2483</td>\n",
       "      <td>3,2407</td>\n",
       "      <td>3,2292</td>\n",
       "      <td>3,2346</td>\n",
       "      <td>3,2370</td>\n",
       "      <td>3,2591</td>\n",
       "      <td>3,3125</td>\n",
       "    </tr>\n",
       "  </tbody>\n",
       "</table>\n",
       "<p>1 rows × 368 columns</p>\n",
       "</div>"
      ],
      "text/plain": [
       "Data   09/05/2019 08/05/2019 07/05/2019 06/05/2019 05/05/2019 03/05/2019  \\\n",
       "Último     3,9420     3,9285     3,9710     3,9695     3,9383     3,9382   \n",
       "\n",
       "Data   02/05/2019 01/05/2019 30/04/2019 29/04/2019    ...     12/01/2018  \\\n",
       "Último     3,9661     3,9202     3,9215     3,9456    ...         3,2064   \n",
       "\n",
       "Data   11/01/2018 10/01/2018 09/01/2018 08/01/2018 05/01/2018 04/01/2018  \\\n",
       "Último     3,2155     3,2283     3,2483     3,2407     3,2292     3,2346   \n",
       "\n",
       "Data   03/01/2018 02/01/2018 01/01/2018  \n",
       "Último     3,2370     3,2591     3,3125  \n",
       "\n",
       "[1 rows x 368 columns]"
      ]
     },
     "execution_count": 8,
     "metadata": {},
     "output_type": "execute_result"
    }
   ],
   "source": [
    "dol"
   ]
  },
  {
   "cell_type": "code",
   "execution_count": 3,
   "metadata": {
    "scrolled": true
   },
   "outputs": [],
   "source": [
    "links = [\n",
    "    ['Iphone X',          \"https://www.buscape.com.br/smartphone-apple-iphone-x-64gb\"],\n",
    "    ['Iphone 8 Plus',     \"https://www.buscape.com.br/smartphone-apple-iphone-8-plus-64gb\"],\n",
    "    ['Iphone 7',          \"https://www.buscape.com.br/smartphone-apple-iphone-7-32gb\"],\n",
    "    ['Iphone 7 Plus',     \"https://www.buscape.com.br/smartphone-apple-iphone-7-plus-128gb\"],\n",
    "    ['Galaxy S8',         \"https://www.buscape.com.br/smartphone-samsung-galaxy-s8-sm-g950-64gb\"],\n",
    "    ['Galaxy S8 Plus',    \"https://www.buscape.com.br/smartphone-samsung-galaxy-s8-plus-sm-g955-128gb\"],\n",
    "    ['Galaxy S9',         \"https://www.buscape.com.br/smartphone-samsung-galaxy-s9-sm-g960-128gb\"],\n",
    "    ['Galaxy S9 Plus',    \"https://www.buscape.com.br/smartphone-samsung-galaxy-s9-plus-sm-g965-128gb\"]\n",
    "]"
   ]
  },
  {
   "cell_type": "code",
   "execution_count": 4,
   "metadata": {},
   "outputs": [],
   "source": [
    "dfProdutos = df_min(links)"
   ]
  },
  {
   "cell_type": "code",
   "execution_count": 5,
   "metadata": {},
   "outputs": [
    {
     "data": {
      "text/html": [
       "<div>\n",
       "<style scoped>\n",
       "    .dataframe tbody tr th:only-of-type {\n",
       "        vertical-align: middle;\n",
       "    }\n",
       "\n",
       "    .dataframe tbody tr th {\n",
       "        vertical-align: top;\n",
       "    }\n",
       "\n",
       "    .dataframe thead th {\n",
       "        text-align: right;\n",
       "    }\n",
       "</style>\n",
       "<table border=\"1\" class=\"dataframe\">\n",
       "  <thead>\n",
       "    <tr style=\"text-align: right;\">\n",
       "      <th></th>\n",
       "      <th>18/05/2018</th>\n",
       "      <th>19/05/2018</th>\n",
       "      <th>20/05/2018</th>\n",
       "      <th>21/05/2018</th>\n",
       "      <th>22/05/2018</th>\n",
       "      <th>23/05/2018</th>\n",
       "      <th>24/05/2018</th>\n",
       "      <th>25/05/2018</th>\n",
       "      <th>26/05/2018</th>\n",
       "      <th>27/05/2018</th>\n",
       "      <th>...</th>\n",
       "      <th>07/05/2019</th>\n",
       "      <th>08/05/2019</th>\n",
       "      <th>09/05/2019</th>\n",
       "      <th>10/05/2019</th>\n",
       "      <th>11/05/2019</th>\n",
       "      <th>12/05/2019</th>\n",
       "      <th>13/05/2019</th>\n",
       "      <th>14/05/2019</th>\n",
       "      <th>15/05/2019</th>\n",
       "      <th>16/05/2019</th>\n",
       "    </tr>\n",
       "  </thead>\n",
       "  <tbody>\n",
       "    <tr>\n",
       "      <th>Iphone X</th>\n",
       "      <td>4998.96</td>\n",
       "      <td>4998.96</td>\n",
       "      <td>4998.96</td>\n",
       "      <td>4998.96</td>\n",
       "      <td>5099.00</td>\n",
       "      <td>5099.00</td>\n",
       "      <td>5099.00</td>\n",
       "      <td>5219.10</td>\n",
       "      <td>5099.00</td>\n",
       "      <td>5099.0</td>\n",
       "      <td>...</td>\n",
       "      <td>4599.00</td>\n",
       "      <td>4199.00</td>\n",
       "      <td>4399.00</td>\n",
       "      <td>4199.00</td>\n",
       "      <td>4399.00</td>\n",
       "      <td>4199.00</td>\n",
       "      <td>4399.00</td>\n",
       "      <td>4199.00</td>\n",
       "      <td>4399.00</td>\n",
       "      <td>4249.00</td>\n",
       "    </tr>\n",
       "    <tr>\n",
       "      <th>Iphone 8 Plus</th>\n",
       "      <td>3399.00</td>\n",
       "      <td>3518.24</td>\n",
       "      <td>3599.09</td>\n",
       "      <td>3554.10</td>\n",
       "      <td>3554.10</td>\n",
       "      <td>3475.12</td>\n",
       "      <td>3484.15</td>\n",
       "      <td>3484.15</td>\n",
       "      <td>3519.11</td>\n",
       "      <td>3509.1</td>\n",
       "      <td>...</td>\n",
       "      <td>3144.15</td>\n",
       "      <td>3239.10</td>\n",
       "      <td>3239.10</td>\n",
       "      <td>3239.10</td>\n",
       "      <td>3239.10</td>\n",
       "      <td>3239.10</td>\n",
       "      <td>3239.10</td>\n",
       "      <td>3329.10</td>\n",
       "      <td>3144.15</td>\n",
       "      <td>3329.10</td>\n",
       "    </tr>\n",
       "    <tr>\n",
       "      <th>Iphone 7</th>\n",
       "      <td>2519.10</td>\n",
       "      <td>2519.10</td>\n",
       "      <td>2519.10</td>\n",
       "      <td>2420.10</td>\n",
       "      <td>2449.79</td>\n",
       "      <td>2375.10</td>\n",
       "      <td>2375.10</td>\n",
       "      <td>2375.10</td>\n",
       "      <td>2375.10</td>\n",
       "      <td>2375.1</td>\n",
       "      <td>...</td>\n",
       "      <td>2294.15</td>\n",
       "      <td>2294.15</td>\n",
       "      <td>2284.32</td>\n",
       "      <td>2284.32</td>\n",
       "      <td>2284.32</td>\n",
       "      <td>2284.32</td>\n",
       "      <td>2284.32</td>\n",
       "      <td>2349.21</td>\n",
       "      <td>2349.21</td>\n",
       "      <td>2349.21</td>\n",
       "    </tr>\n",
       "    <tr>\n",
       "      <th>Iphone 7 Plus</th>\n",
       "      <td>3239.10</td>\n",
       "      <td>3239.10</td>\n",
       "      <td>3239.10</td>\n",
       "      <td>3239.10</td>\n",
       "      <td>3132.90</td>\n",
       "      <td>3089.00</td>\n",
       "      <td>3089.00</td>\n",
       "      <td>3059.00</td>\n",
       "      <td>3059.00</td>\n",
       "      <td>3059.0</td>\n",
       "      <td>...</td>\n",
       "      <td>3059.15</td>\n",
       "      <td>3059.15</td>\n",
       "      <td>3059.15</td>\n",
       "      <td>3167.12</td>\n",
       "      <td>3167.12</td>\n",
       "      <td>3167.12</td>\n",
       "      <td>3167.12</td>\n",
       "      <td>3167.12</td>\n",
       "      <td>3167.12</td>\n",
       "      <td>3123.12</td>\n",
       "    </tr>\n",
       "    <tr>\n",
       "      <th>Galaxy S8</th>\n",
       "      <td>2429.19</td>\n",
       "      <td>2474.10</td>\n",
       "      <td>2479.90</td>\n",
       "      <td>2499.00</td>\n",
       "      <td>2519.99</td>\n",
       "      <td>2519.99</td>\n",
       "      <td>2429.19</td>\n",
       "      <td>2519.99</td>\n",
       "      <td>2479.90</td>\n",
       "      <td>2479.9</td>\n",
       "      <td>...</td>\n",
       "      <td>2599.00</td>\n",
       "      <td>2114.94</td>\n",
       "      <td>2729.00</td>\n",
       "      <td>2649.99</td>\n",
       "      <td>2649.99</td>\n",
       "      <td>2649.99</td>\n",
       "      <td>2649.99</td>\n",
       "      <td>2649.00</td>\n",
       "      <td>2729.00</td>\n",
       "      <td>2543.30</td>\n",
       "    </tr>\n",
       "  </tbody>\n",
       "</table>\n",
       "<p>5 rows × 363 columns</p>\n",
       "</div>"
      ],
      "text/plain": [
       "               18/05/2018  19/05/2018  20/05/2018  21/05/2018  22/05/2018  \\\n",
       "Iphone X          4998.96     4998.96     4998.96     4998.96     5099.00   \n",
       "Iphone 8 Plus     3399.00     3518.24     3599.09     3554.10     3554.10   \n",
       "Iphone 7          2519.10     2519.10     2519.10     2420.10     2449.79   \n",
       "Iphone 7 Plus     3239.10     3239.10     3239.10     3239.10     3132.90   \n",
       "Galaxy S8         2429.19     2474.10     2479.90     2499.00     2519.99   \n",
       "\n",
       "               23/05/2018  24/05/2018  25/05/2018  26/05/2018  27/05/2018  \\\n",
       "Iphone X          5099.00     5099.00     5219.10     5099.00      5099.0   \n",
       "Iphone 8 Plus     3475.12     3484.15     3484.15     3519.11      3509.1   \n",
       "Iphone 7          2375.10     2375.10     2375.10     2375.10      2375.1   \n",
       "Iphone 7 Plus     3089.00     3089.00     3059.00     3059.00      3059.0   \n",
       "Galaxy S8         2519.99     2429.19     2519.99     2479.90      2479.9   \n",
       "\n",
       "                  ...      07/05/2019  08/05/2019  09/05/2019  10/05/2019  \\\n",
       "Iphone X          ...         4599.00     4199.00     4399.00     4199.00   \n",
       "Iphone 8 Plus     ...         3144.15     3239.10     3239.10     3239.10   \n",
       "Iphone 7          ...         2294.15     2294.15     2284.32     2284.32   \n",
       "Iphone 7 Plus     ...         3059.15     3059.15     3059.15     3167.12   \n",
       "Galaxy S8         ...         2599.00     2114.94     2729.00     2649.99   \n",
       "\n",
       "               11/05/2019  12/05/2019  13/05/2019  14/05/2019  15/05/2019  \\\n",
       "Iphone X          4399.00     4199.00     4399.00     4199.00     4399.00   \n",
       "Iphone 8 Plus     3239.10     3239.10     3239.10     3329.10     3144.15   \n",
       "Iphone 7          2284.32     2284.32     2284.32     2349.21     2349.21   \n",
       "Iphone 7 Plus     3167.12     3167.12     3167.12     3167.12     3167.12   \n",
       "Galaxy S8         2649.99     2649.99     2649.99     2649.00     2729.00   \n",
       "\n",
       "               16/05/2019  \n",
       "Iphone X          4249.00  \n",
       "Iphone 8 Plus     3329.10  \n",
       "Iphone 7          2349.21  \n",
       "Iphone 7 Plus     3123.12  \n",
       "Galaxy S8         2543.30  \n",
       "\n",
       "[5 rows x 363 columns]"
      ]
     },
     "execution_count": 5,
     "metadata": {},
     "output_type": "execute_result"
    }
   ],
   "source": [
    "dfProdutos.head()"
   ]
  },
  {
   "cell_type": "code",
   "execution_count": null,
   "metadata": {},
   "outputs": [],
   "source": []
  },
  {
   "cell_type": "markdown",
   "metadata": {},
   "source": [
    "### ANÁLISE DESCRITIVA"
   ]
  },
  {
   "cell_type": "code",
   "execution_count": null,
   "metadata": {},
   "outputs": [],
   "source": []
  },
  {
   "cell_type": "code",
   "execution_count": null,
   "metadata": {},
   "outputs": [],
   "source": []
  },
  {
   "cell_type": "code",
   "execution_count": null,
   "metadata": {},
   "outputs": [],
   "source": []
  },
  {
   "cell_type": "code",
   "execution_count": null,
   "metadata": {},
   "outputs": [],
   "source": []
  },
  {
   "cell_type": "markdown",
   "metadata": {},
   "source": [
    "___\n",
    "## C. MODELOS DE PREDIÇÃO"
   ]
  },
  {
   "cell_type": "markdown",
   "metadata": {
    "collapsed": true
   },
   "source": [
    "o MODELO DE PREDIÇÃO PELA MÉDIA (Sem uso de variável explicativa)."
   ]
  },
  {
   "cell_type": "code",
   "execution_count": null,
   "metadata": {},
   "outputs": [],
   "source": []
  },
  {
   "cell_type": "code",
   "execution_count": null,
   "metadata": {},
   "outputs": [],
   "source": []
  },
  {
   "cell_type": "markdown",
   "metadata": {
    "collapsed": true
   },
   "source": [
    "o MODELO DOS K VIZINHOS MAIS PRÓXIMOS (K-Nearest Neighbors Regression)"
   ]
  },
  {
   "cell_type": "code",
   "execution_count": null,
   "metadata": {},
   "outputs": [],
   "source": []
  },
  {
   "cell_type": "code",
   "execution_count": null,
   "metadata": {},
   "outputs": [],
   "source": []
  },
  {
   "cell_type": "markdown",
   "metadata": {
    "collapsed": true
   },
   "source": [
    "o MODELO DE REGRESSÃO LINEAR (Multiple Linear Regression)"
   ]
  },
  {
   "cell_type": "code",
   "execution_count": null,
   "metadata": {},
   "outputs": [],
   "source": []
  },
  {
   "cell_type": "code",
   "execution_count": null,
   "metadata": {},
   "outputs": [],
   "source": []
  },
  {
   "cell_type": "markdown",
   "metadata": {
    "collapsed": true
   },
   "source": [
    "o MODELO DE ÁRVORES DE REGRESSÃO (Decision Tree Regression)"
   ]
  },
  {
   "cell_type": "code",
   "execution_count": null,
   "metadata": {},
   "outputs": [],
   "source": []
  },
  {
   "cell_type": "code",
   "execution_count": null,
   "metadata": {},
   "outputs": [],
   "source": []
  },
  {
   "cell_type": "markdown",
   "metadata": {
    "collapsed": true
   },
   "source": [
    "___\n",
    "## D. PROCESSO E ESTATÍSTICAS DE VALIDAÇÃO"
   ]
  },
  {
   "cell_type": "markdown",
   "metadata": {},
   "source": [
    "[Esse item depende dos resultados das modelagens anteriores! Organize-os aqui de forma clara!]"
   ]
  },
  {
   "cell_type": "code",
   "execution_count": null,
   "metadata": {},
   "outputs": [],
   "source": []
  },
  {
   "cell_type": "code",
   "execution_count": null,
   "metadata": {},
   "outputs": [],
   "source": []
  },
  {
   "cell_type": "code",
   "execution_count": null,
   "metadata": {},
   "outputs": [],
   "source": []
  },
  {
   "cell_type": "code",
   "execution_count": null,
   "metadata": {},
   "outputs": [],
   "source": []
  },
  {
   "cell_type": "markdown",
   "metadata": {},
   "source": [
    "___\n",
    "## E. CONCLUSÃO"
   ]
  },
  {
   "cell_type": "code",
   "execution_count": null,
   "metadata": {},
   "outputs": [],
   "source": []
  },
  {
   "cell_type": "code",
   "execution_count": null,
   "metadata": {},
   "outputs": [],
   "source": []
  },
  {
   "cell_type": "code",
   "execution_count": null,
   "metadata": {},
   "outputs": [],
   "source": []
  },
  {
   "cell_type": "code",
   "execution_count": null,
   "metadata": {},
   "outputs": [],
   "source": []
  },
  {
   "cell_type": "markdown",
   "metadata": {},
   "source": [
    "___\n",
    "## F. REFERÊNCIAS BIBLIOGRÁFICAS"
   ]
  },
  {
   "cell_type": "code",
   "execution_count": null,
   "metadata": {},
   "outputs": [],
   "source": []
  },
  {
   "cell_type": "code",
   "execution_count": null,
   "metadata": {},
   "outputs": [],
   "source": []
  },
  {
   "cell_type": "code",
   "execution_count": null,
   "metadata": {},
   "outputs": [],
   "source": []
  },
  {
   "cell_type": "code",
   "execution_count": null,
   "metadata": {},
   "outputs": [],
   "source": []
  }
 ],
 "metadata": {
  "anaconda-cloud": {},
  "kernelspec": {
   "display_name": "Python 3",
   "language": "python",
   "name": "python3"
  },
  "language_info": {
   "codemirror_mode": {
    "name": "ipython",
    "version": 3
   },
   "file_extension": ".py",
   "mimetype": "text/x-python",
   "name": "python",
   "nbconvert_exporter": "python",
   "pygments_lexer": "ipython3",
   "version": "3.7.0"
  }
 },
 "nbformat": 4,
 "nbformat_minor": 1
}
