{
 "cells": [
  {
   "cell_type": "markdown",
   "metadata": {},
   "source": [
    "___\n",
    "## Ciência dos Dados - PROJETO 3 - INSPER"
   ]
  },
  {
   "cell_type": "markdown",
   "metadata": {},
   "source": [
    "___\n",
    "#### Mariana Abrantes\n",
    "\n",
    "#### Gabriel Couto\n",
    "\n",
    "#### Gabriel Miras\n",
    "___"
   ]
  },
  {
   "cell_type": "markdown",
   "metadata": {},
   "source": [
    "# Previsão de preços de smartphones ao dólar"
   ]
  },
  {
   "cell_type": "markdown",
   "metadata": {},
   "source": [
    "___\n",
    "\n",
    "## A. INTRODUÇÃO"
   ]
  },
  {
   "cell_type": "markdown",
   "metadata": {},
   "source": [
    "Nestes últimos anos, com a instabilidade política e socioeconômica do Brasil, o preço do dólar está em constante variação. Consequentemente, os valores sobre produtos estrangeiros também mudam. Ao visualizar esse cenário, gostaríamos de analisar essa influência da alteração do valor do dólar sobre produtos da área tecnológica, em nosso caso smartphones. "
   ]
  },
  {
   "cell_type": "markdown",
   "metadata": {},
   "source": [
    "___\n",
    "\n",
    "## Criando a base de dados\n"
   ]
  },
  {
   "cell_type": "markdown",
   "metadata": {},
   "source": [
    "Para a reaização deste trabalho, foi preciso duas bases de dados. Separamos a cotação do dólar durante o ano inteiro de 2018 até maio de 2019, e escolhemos 8 modelos de smartphones de 2 marcas diferentes lançados recentemente. Iremos compará-los e verificar suas caracteristicas e como elas são decisivas para o preço do smartphone."
   ]
  },
  {
   "cell_type": "code",
   "execution_count": 2,
   "metadata": {},
   "outputs": [],
   "source": [
    "import pandas as pd\n",
    "import requests\n",
    "import os\n",
    "import re\n",
    "%matplotlib inline\n",
    "import matplotlib.pyplot as plt\n",
    "import matplotlib\n",
    "\n",
    "#------------------------------------------- Preço do dolar --------------------------------------------------------------------\n",
    "dolar19 = pd.read_csv('dolar 19.csv')\n",
    "dolar18 = pd.read_csv('dolar 18.csv')\n",
    "dolar   = dolar19.append(dolar18)\n",
    "dolar['Data'] = dolar['Data'].str.replace('.','/')\n",
    "dolar.index = dolar['Data']\n",
    "dol = pd.DataFrame(columns = dolar.index)\n",
    "dol = dol.append(dolar.T.loc['Último',:])"
   ]
  },
  {
   "cell_type": "code",
   "execution_count": 3,
   "metadata": {},
   "outputs": [],
   "source": [
    "#Recebe uma URL e retorna o código HTML da página (Só é chamada pela função baixarBD)\n",
    "def baixarhtml(url):\n",
    "    html = requests.get(url).text.splitlines()\n",
    "    return html\n",
    "\n",
    "#Recebe url do Buscape e retorna um Dataframe \n",
    "def baixarBD(url):\n",
    "    #Pegar ID do produto do buscape usando a url fornecida\n",
    "    code = baixarhtml(url)\n",
    "    for i in range(len(code)):\n",
    "        igual = re.findall('\"productId\":[0-9]*', code[i])\n",
    "        if len(igual)>0:\n",
    "            id = igual[0].split(':')[1]\n",
    "            \n",
    "    #Baixar BD dos preços\n",
    "    site = \"https://www.buscape.com.br/async/history/idu/\" + id + \"/days/365\"\n",
    "    code = baixarhtml(site)\n",
    "    \n",
    "    #Converte código e cria tabela\n",
    "    c = code[0].split('\"historicos\":')\n",
    "    json_file = c[1][:-1]\n",
    "    bd = pd.read_json(json_file)\n",
    "    return bd.loc[:,['data','precomed','precomin']]\n",
    "\n",
    "    \n",
    "#Recebe lista com o nome do produto e links e baixa todos eles\n",
    "def df_min(lista):\n",
    "    for num in range(len(lista)):\n",
    "        produto, link = lista[num][0], lista[num][1]\n",
    "        df0 = baixarBD(link)\n",
    "        df = df0.loc[:,['precomin']].T #Cria Tabela de precomin por data\n",
    "        df.index = [produto]\n",
    "        if num == 0:\n",
    "            bd = pd.DataFrame(columns = range(len(df)))\n",
    "            bd = bd.append(df)\n",
    "        else:\n",
    "            bd = bd.append(df)\n",
    "            \n",
    "    bd.columns = list(df0['data'])\n",
    "    return bd"
   ]
  },
  {
   "cell_type": "code",
   "execution_count": 14,
   "metadata": {
    "scrolled": true
   },
   "outputs": [],
   "source": [
    "leitura_samsung = pd.ExcelFile('caracteristica_samsung.xlsx')\n",
    "caracteristicas_samsumg = pd.read_excel(leitura_samsung)\n",
    "\n",
    "leitura_apple = pd.ExcelFile('caracteristicas_iphone.xlsx')\n",
    "caracteristicas_apple = pd.read_excel(leitura_apple)"
   ]
  },
  {
   "cell_type": "markdown",
   "metadata": {},
   "source": [
    "___\n",
    "## B. MINERANDO DADOS e CARACTERÍSTICAS DO DATASET"
   ]
  },
  {
   "cell_type": "code",
   "execution_count": 4,
   "metadata": {},
   "outputs": [
    {
     "data": {
      "text/html": [
       "<div>\n",
       "<style scoped>\n",
       "    .dataframe tbody tr th:only-of-type {\n",
       "        vertical-align: middle;\n",
       "    }\n",
       "\n",
       "    .dataframe tbody tr th {\n",
       "        vertical-align: top;\n",
       "    }\n",
       "\n",
       "    .dataframe thead th {\n",
       "        text-align: right;\n",
       "    }\n",
       "</style>\n",
       "<table border=\"1\" class=\"dataframe\">\n",
       "  <thead>\n",
       "    <tr style=\"text-align: right;\">\n",
       "      <th>Data</th>\n",
       "      <th>09/05/2019</th>\n",
       "      <th>08/05/2019</th>\n",
       "      <th>07/05/2019</th>\n",
       "      <th>06/05/2019</th>\n",
       "      <th>05/05/2019</th>\n",
       "      <th>03/05/2019</th>\n",
       "      <th>02/05/2019</th>\n",
       "      <th>01/05/2019</th>\n",
       "      <th>30/04/2019</th>\n",
       "      <th>29/04/2019</th>\n",
       "      <th>...</th>\n",
       "      <th>12/01/2018</th>\n",
       "      <th>11/01/2018</th>\n",
       "      <th>10/01/2018</th>\n",
       "      <th>09/01/2018</th>\n",
       "      <th>08/01/2018</th>\n",
       "      <th>05/01/2018</th>\n",
       "      <th>04/01/2018</th>\n",
       "      <th>03/01/2018</th>\n",
       "      <th>02/01/2018</th>\n",
       "      <th>01/01/2018</th>\n",
       "    </tr>\n",
       "  </thead>\n",
       "  <tbody>\n",
       "    <tr>\n",
       "      <th>Último</th>\n",
       "      <td>3,9420</td>\n",
       "      <td>3,9285</td>\n",
       "      <td>3,9710</td>\n",
       "      <td>3,9695</td>\n",
       "      <td>3,9383</td>\n",
       "      <td>3,9382</td>\n",
       "      <td>3,9661</td>\n",
       "      <td>3,9202</td>\n",
       "      <td>3,9215</td>\n",
       "      <td>3,9456</td>\n",
       "      <td>...</td>\n",
       "      <td>3,2064</td>\n",
       "      <td>3,2155</td>\n",
       "      <td>3,2283</td>\n",
       "      <td>3,2483</td>\n",
       "      <td>3,2407</td>\n",
       "      <td>3,2292</td>\n",
       "      <td>3,2346</td>\n",
       "      <td>3,2370</td>\n",
       "      <td>3,2591</td>\n",
       "      <td>3,3125</td>\n",
       "    </tr>\n",
       "  </tbody>\n",
       "</table>\n",
       "<p>1 rows × 368 columns</p>\n",
       "</div>"
      ],
      "text/plain": [
       "Data   09/05/2019 08/05/2019 07/05/2019 06/05/2019 05/05/2019 03/05/2019  \\\n",
       "Último     3,9420     3,9285     3,9710     3,9695     3,9383     3,9382   \n",
       "\n",
       "Data   02/05/2019 01/05/2019 30/04/2019 29/04/2019    ...     12/01/2018  \\\n",
       "Último     3,9661     3,9202     3,9215     3,9456    ...         3,2064   \n",
       "\n",
       "Data   11/01/2018 10/01/2018 09/01/2018 08/01/2018 05/01/2018 04/01/2018  \\\n",
       "Último     3,2155     3,2283     3,2483     3,2407     3,2292     3,2346   \n",
       "\n",
       "Data   03/01/2018 02/01/2018 01/01/2018  \n",
       "Último     3,2370     3,2591     3,3125  \n",
       "\n",
       "[1 rows x 368 columns]"
      ]
     },
     "execution_count": 4,
     "metadata": {},
     "output_type": "execute_result"
    }
   ],
   "source": [
    "dol"
   ]
  },
  {
   "cell_type": "code",
   "execution_count": 5,
   "metadata": {
    "scrolled": true
   },
   "outputs": [],
   "source": [
    "links = [\n",
    "    ['Iphone X',          \"https://www.buscape.com.br/smartphone-apple-iphone-x-64gb\"],\n",
    "    ['Iphone 8 Plus',     \"https://www.buscape.com.br/smartphone-apple-iphone-8-plus-64gb\"],\n",
    "    ['Iphone 7',          \"https://www.buscape.com.br/smartphone-apple-iphone-7-32gb\"],\n",
    "    ['Iphone 7 Plus',     \"https://www.buscape.com.br/smartphone-apple-iphone-7-plus-128gb\"],\n",
    "    ['Galaxy S8',         \"https://www.buscape.com.br/smartphone-samsung-galaxy-s8-sm-g950-64gb\"],\n",
    "    ['Galaxy S8 Plus',    \"https://www.buscape.com.br/smartphone-samsung-galaxy-s8-plus-sm-g955-128gb\"],\n",
    "    ['Galaxy S9',         \"https://www.buscape.com.br/smartphone-samsung-galaxy-s9-sm-g960-128gb\"],\n",
    "    ['Galaxy S9 Plus',    \"https://www.buscape.com.br/smartphone-samsung-galaxy-s9-plus-sm-g965-128gb\"]\n",
    "]"
   ]
  },
  {
   "cell_type": "code",
   "execution_count": 6,
   "metadata": {},
   "outputs": [],
   "source": [
    "dfProdutos = df_min(links)"
   ]
  },
  {
   "cell_type": "code",
   "execution_count": 7,
   "metadata": {
    "scrolled": true
   },
   "outputs": [
    {
     "data": {
      "text/html": [
       "<div>\n",
       "<style scoped>\n",
       "    .dataframe tbody tr th:only-of-type {\n",
       "        vertical-align: middle;\n",
       "    }\n",
       "\n",
       "    .dataframe tbody tr th {\n",
       "        vertical-align: top;\n",
       "    }\n",
       "\n",
       "    .dataframe thead th {\n",
       "        text-align: right;\n",
       "    }\n",
       "</style>\n",
       "<table border=\"1\" class=\"dataframe\">\n",
       "  <thead>\n",
       "    <tr style=\"text-align: right;\">\n",
       "      <th></th>\n",
       "      <th>Iphone X</th>\n",
       "      <th>Iphone 8 Plus</th>\n",
       "      <th>Iphone 7</th>\n",
       "      <th>Iphone 7 Plus</th>\n",
       "      <th>Galaxy S8</th>\n",
       "      <th>Galaxy S8 Plus</th>\n",
       "      <th>Galaxy S9</th>\n",
       "      <th>Galaxy S9 Plus</th>\n",
       "    </tr>\n",
       "  </thead>\n",
       "  <tbody>\n",
       "    <tr>\n",
       "      <th>22/05/2018</th>\n",
       "      <td>5099.0</td>\n",
       "      <td>3554.10</td>\n",
       "      <td>2449.79</td>\n",
       "      <td>3132.9</td>\n",
       "      <td>2519.99</td>\n",
       "      <td>3533.07</td>\n",
       "      <td>3449.0</td>\n",
       "      <td>4097.00</td>\n",
       "    </tr>\n",
       "    <tr>\n",
       "      <th>23/05/2018</th>\n",
       "      <td>5099.0</td>\n",
       "      <td>3475.12</td>\n",
       "      <td>2375.10</td>\n",
       "      <td>3089.0</td>\n",
       "      <td>2519.99</td>\n",
       "      <td>3533.07</td>\n",
       "      <td>3449.0</td>\n",
       "      <td>3999.00</td>\n",
       "    </tr>\n",
       "    <tr>\n",
       "      <th>24/05/2018</th>\n",
       "      <td>5099.0</td>\n",
       "      <td>3484.15</td>\n",
       "      <td>2375.10</td>\n",
       "      <td>3089.0</td>\n",
       "      <td>2429.19</td>\n",
       "      <td>3533.07</td>\n",
       "      <td>3449.0</td>\n",
       "      <td>4049.00</td>\n",
       "    </tr>\n",
       "    <tr>\n",
       "      <th>25/05/2018</th>\n",
       "      <td>5219.1</td>\n",
       "      <td>3484.15</td>\n",
       "      <td>2375.10</td>\n",
       "      <td>3059.0</td>\n",
       "      <td>2519.99</td>\n",
       "      <td>2899.00</td>\n",
       "      <td>3449.0</td>\n",
       "      <td>4084.05</td>\n",
       "    </tr>\n",
       "    <tr>\n",
       "      <th>26/05/2018</th>\n",
       "      <td>5099.0</td>\n",
       "      <td>3519.11</td>\n",
       "      <td>2375.10</td>\n",
       "      <td>3059.0</td>\n",
       "      <td>2479.90</td>\n",
       "      <td>3533.07</td>\n",
       "      <td>3449.0</td>\n",
       "      <td>4049.00</td>\n",
       "    </tr>\n",
       "  </tbody>\n",
       "</table>\n",
       "</div>"
      ],
      "text/plain": [
       "            Iphone X  Iphone 8 Plus  Iphone 7  Iphone 7 Plus  Galaxy S8  \\\n",
       "22/05/2018    5099.0        3554.10   2449.79         3132.9    2519.99   \n",
       "23/05/2018    5099.0        3475.12   2375.10         3089.0    2519.99   \n",
       "24/05/2018    5099.0        3484.15   2375.10         3089.0    2429.19   \n",
       "25/05/2018    5219.1        3484.15   2375.10         3059.0    2519.99   \n",
       "26/05/2018    5099.0        3519.11   2375.10         3059.0    2479.90   \n",
       "\n",
       "            Galaxy S8 Plus  Galaxy S9  Galaxy S9 Plus  \n",
       "22/05/2018         3533.07     3449.0         4097.00  \n",
       "23/05/2018         3533.07     3449.0         3999.00  \n",
       "24/05/2018         3533.07     3449.0         4049.00  \n",
       "25/05/2018         2899.00     3449.0         4084.05  \n",
       "26/05/2018         3533.07     3449.0         4049.00  "
      ]
     },
     "execution_count": 7,
     "metadata": {},
     "output_type": "execute_result"
    }
   ],
   "source": [
    "dfProdutos.T.head(5)"
   ]
  },
  {
   "cell_type": "markdown",
   "metadata": {},
   "source": [
    "### BASE DE DADOS"
   ]
  },
  {
   "cell_type": "code",
   "execution_count": null,
   "metadata": {},
   "outputs": [],
   "source": []
  },
  {
   "cell_type": "markdown",
   "metadata": {},
   "source": [
    "### ANÁLISE DESCRITIVA"
   ]
  },
  {
   "cell_type": "markdown",
   "metadata": {},
   "source": [
    "Em nossa base de dados buscamos os preços de telefones das marcas Apple e Samsung, sendo eles Iphone X, Iphone 8 Plus, Iphone 7 plus, iphone 7, Galaxy S8, Galaxy S8 Plus, Galaxy S9 e Galaxy S9 Plus. Além disso, pegamos também as características dos modelos escolhidos para que nossa análise seja mais específica, pois ao mudar o tamanho da memória do celular, por exemplo, o preço se altera também. Desse modo, conseguiremos analisar qual a interferência da alteração do dólar nos valores dos smartphones. "
   ]
  },
  {
   "cell_type": "markdown",
   "metadata": {},
   "source": [
    "___\n",
    "## C. MODELOS DE PREDIÇÃO"
   ]
  },
  {
   "cell_type": "markdown",
   "metadata": {
    "collapsed": true
   },
   "source": [
    "o MODELO DE PREDIÇÃO PELA MÉDIA (Sem uso de variável explicativa)."
   ]
  },
  {
   "cell_type": "code",
   "execution_count": null,
   "metadata": {},
   "outputs": [],
   "source": []
  },
  {
   "cell_type": "code",
   "execution_count": null,
   "metadata": {},
   "outputs": [],
   "source": []
  },
  {
   "cell_type": "markdown",
   "metadata": {
    "collapsed": true
   },
   "source": [
    "o MODELO DOS K VIZINHOS MAIS PRÓXIMOS (K-Nearest Neighbors Regression)"
   ]
  },
  {
   "cell_type": "code",
   "execution_count": null,
   "metadata": {},
   "outputs": [],
   "source": []
  },
  {
   "cell_type": "code",
   "execution_count": null,
   "metadata": {},
   "outputs": [],
   "source": []
  },
  {
   "cell_type": "markdown",
   "metadata": {
    "collapsed": true
   },
   "source": [
    "o MODELO DE REGRESSÃO LINEAR (Multiple Linear Regression)"
   ]
  },
  {
   "cell_type": "code",
   "execution_count": null,
   "metadata": {},
   "outputs": [],
   "source": []
  },
  {
   "cell_type": "code",
   "execution_count": null,
   "metadata": {},
   "outputs": [],
   "source": []
  },
  {
   "cell_type": "markdown",
   "metadata": {
    "collapsed": true
   },
   "source": [
    "o MODELO DE ÁRVORES DE REGRESSÃO (Decision Tree Regression)"
   ]
  },
  {
   "cell_type": "code",
   "execution_count": null,
   "metadata": {},
   "outputs": [],
   "source": []
  },
  {
   "cell_type": "code",
   "execution_count": null,
   "metadata": {},
   "outputs": [],
   "source": []
  },
  {
   "cell_type": "markdown",
   "metadata": {
    "collapsed": true
   },
   "source": [
    "___\n",
    "## D. PROCESSO E ESTATÍSTICAS DE VALIDAÇÃO"
   ]
  },
  {
   "cell_type": "markdown",
   "metadata": {},
   "source": [
    "[Esse item depende dos resultados das modelagens anteriores! Organize-os aqui de forma clara!]"
   ]
  },
  {
   "cell_type": "code",
   "execution_count": null,
   "metadata": {},
   "outputs": [],
   "source": []
  },
  {
   "cell_type": "code",
   "execution_count": null,
   "metadata": {},
   "outputs": [],
   "source": []
  },
  {
   "cell_type": "code",
   "execution_count": null,
   "metadata": {},
   "outputs": [],
   "source": []
  },
  {
   "cell_type": "code",
   "execution_count": null,
   "metadata": {},
   "outputs": [],
   "source": []
  },
  {
   "cell_type": "markdown",
   "metadata": {},
   "source": [
    "___\n",
    "## E. CONCLUSÃO"
   ]
  },
  {
   "cell_type": "code",
   "execution_count": null,
   "metadata": {},
   "outputs": [],
   "source": []
  },
  {
   "cell_type": "code",
   "execution_count": null,
   "metadata": {},
   "outputs": [],
   "source": []
  },
  {
   "cell_type": "code",
   "execution_count": null,
   "metadata": {},
   "outputs": [],
   "source": []
  },
  {
   "cell_type": "code",
   "execution_count": null,
   "metadata": {},
   "outputs": [],
   "source": []
  },
  {
   "cell_type": "markdown",
   "metadata": {},
   "source": [
    "___\n",
    "## F. REFERÊNCIAS BIBLIOGRÁFICAS"
   ]
  },
  {
   "cell_type": "markdown",
   "metadata": {},
   "source": [
    "https://br.investing.com/ $\\rightarrow$ site para busca da cotação dos dolores"
   ]
  },
  {
   "cell_type": "markdown",
   "metadata": {},
   "source": [
    "https://www.buscape.com.br $\\rightarrow$ site para busca de histórico dos preços"
   ]
  },
  {
   "cell_type": "code",
   "execution_count": null,
   "metadata": {},
   "outputs": [],
   "source": []
  },
  {
   "cell_type": "code",
   "execution_count": null,
   "metadata": {},
   "outputs": [],
   "source": []
  }
 ],
 "metadata": {
  "anaconda-cloud": {},
  "kernelspec": {
   "display_name": "Python 3",
   "language": "python",
   "name": "python3"
  },
  "language_info": {
   "codemirror_mode": {
    "name": "ipython",
    "version": 3
   },
   "file_extension": ".py",
   "mimetype": "text/x-python",
   "name": "python",
   "nbconvert_exporter": "python",
   "pygments_lexer": "ipython3",
   "version": "3.6.4"
  }
 },
 "nbformat": 4,
 "nbformat_minor": 1
}
