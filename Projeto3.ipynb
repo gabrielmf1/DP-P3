{
 "cells": [
  {
   "cell_type": "code",
   "execution_count": 2,
   "metadata": {},
   "outputs": [],
   "source": [
    "##### Importando Bibliotecas: #####\n",
    "import pandas as pd\n",
    "import numpy as np\n",
    "import itertools\n",
    "import requests\n",
    "import math\n",
    "import os\n",
    "import re"
   ]
  },
  {
   "cell_type": "markdown",
   "metadata": {},
   "source": [
    "___\n",
    "# Ciência dos Dados - PROJETO 3 - INSPER"
   ]
  },
  {
   "cell_type": "markdown",
   "metadata": {},
   "source": [
    "___\n",
    "### Mariana Abrantes, Gabriel Couto e Gabriel Miras\n",
    "___"
   ]
  },
  {
   "cell_type": "markdown",
   "metadata": {},
   "source": [
    "# Previsão de preços de smartphones ao dólar"
   ]
  },
  {
   "cell_type": "markdown",
   "metadata": {},
   "source": [
    "___\n",
    "\n",
    "## A. INTRODUÇÃO"
   ]
  },
  {
   "cell_type": "markdown",
   "metadata": {},
   "source": [
    "Nestes últimos anos, com a instabilidade política e socioeconômica do Brasil, o preço do dólar está em constante variação. Consequentemente, os valores sobre produtos estrangeiros também mudam. Ao visualizar esse cenário, gostaríamos de analisar essa influência da alteração do valor do dólar sobre produtos da área tecnológica, em nosso caso smartphones. "
   ]
  },
  {
   "cell_type": "markdown",
   "metadata": {},
   "source": [
    "___\n",
    "## B. MINERANDO DADOS e CARACTERÍSTICAS DO DATASET"
   ]
  },
  {
   "cell_type": "markdown",
   "metadata": {},
   "source": [
    "[Detalhe aqui as características da base de dados além da análise descritiva.]"
   ]
  },
  {
   "cell_type": "markdown",
   "metadata": {},
   "source": [
    "__I) Preço do Dólar__ <br>\n",
    "&emsp;O DataFrame foi obtido no [site](https://economia.uol.com.br/cotacoes/cambio/dolar-comercial-estados-unidos/) e foi filtrado da seguinte forma:\n",
    " * a) Definimos a coluna 'Data' como do tipo datetime e em seguida definimos essa coluna como índice da tabela\n",
    " * b) Pegamos apenas a coluna 'Compra' com o preço do dolar no dia e o índice das linhas\n",
    " * c) Definimos a coluna 'Compra' do tipo float e renomeamos ela pra \"Dolar\""
   ]
  },
  {
   "cell_type": "code",
   "execution_count": 3,
   "metadata": {},
   "outputs": [],
   "source": [
    "dolar = pd.read_table(\"dolar.csv\", sep=\";\", usecols=['Data','Compra'])\n",
    "dolar['Data'] = pd.to_datetime(dolar['Data'],  format='%d/%m/%Y %H:%M:%S')\n",
    "dolar.index = dolar['Data']\n",
    "dolar['Dolar'] = dolar['Compra'].astype('float')\n",
    "dolar = dolar.loc[:,['Dolar']]"
   ]
  },
  {
   "cell_type": "markdown",
   "metadata": {},
   "source": [
    "__II) Tabela de Preços dos Smartphones__ <br>\n",
    "Os dados de cada celular foram retirados do histórico de preço médio do site buscape. <br>\n",
    "* a) A função gerarBD() recebe uma lista com nome e url do celular para retornar um Dataframe de preço dos celulares e do dolar por dia.<br>\n",
    "Para cada linha da lista:\n",
    "    * 1) Cria uma cópia do Dataframe dolar chamado table\n",
    "    * 2) Baixa o código da url fornecida e captura o ID do produto\n",
    "    * 3) Com o ID baixamos o histórico de preço médio do aparelho em JSON e criamos o Dataframe bd com ele\n",
    "    * 4) Usamos .join para unir as colunas num novo dataframe\n",
    "    * 5) Definimos a coluna 'Data' como do tipo datetime e em seguida definimos essa coluna como índice da tabela<br>\n",
    "* b) Removemos as linhas que possuam ao menos um valor vazio e retornamos essa nova tabela como resultado da função"
   ]
  },
  {
   "cell_type": "code",
   "execution_count": 5,
   "metadata": {},
   "outputs": [],
   "source": [
    "#Recebe uma URL e retorna o código HTML da página (Só é chamada pela função baixarBD)\n",
    "def baixarhtml(url):\n",
    "    html = requests.get(url).text.splitlines()\n",
    "    return html\n",
    "\n",
    "#Recebe url do Buscape e retorna um Dataframe \n",
    "def gerarBD(lista):\n",
    "    table = dolar.copy()\n",
    "    \n",
    "    for num in range(len(lista)):\n",
    "        produto, url = lista[num][0], lista[num][1]\n",
    "        \n",
    "        #Pega ID do produto do buscape usando a url fornecida\n",
    "        code = baixarhtml(url)\n",
    "        for num_linha in range(len(code)):\n",
    "            match = re.findall('\"productId\":[0-9]*', code[num_linha])\n",
    "            if len(match)>0:\n",
    "                id = match[0].split(':')[1]\n",
    "\n",
    "        #Baixa BD dos preços\n",
    "        code = baixarhtml(\"https://www.buscape.com.br/async/history/idu/\" + id + \"/days/365\")\n",
    "\n",
    "        #Pega só a parte dos dados e cria tabela bd\n",
    "        bd = pd.read_json(code[0].split('\"historicos\":')[1][:-1])\n",
    "\n",
    "        #Converte data pro formato e define essa coluna como índice\n",
    "        bd['data'] = pd.to_datetime(bd['data'],  format='%d/%m/%Y')\n",
    "        bd.set_index(bd['data'], inplace=True)\n",
    "        \n",
    "        #Adiciona a coluna com o nome do produto o preço do produto\n",
    "        table[produto] = bd.loc[:,['precomed']]\n",
    "        table[produto] = table[produto].astype(float)\n",
    "    \n",
    "    table = table.dropna(how='any') # Tira linha que tiver algum valor NaN\n",
    "    return table\n",
    "\n",
    "#Função retorno\n",
    "def func_retorno(n,n_ant):\n",
    "    val = 0\n",
    "    if n_ant == 0:\n",
    "        print('tem zero')\n",
    "    else:\n",
    "        val = math.log(n/n_ant)\n",
    "    return val"
   ]
  },
  {
   "cell_type": "code",
   "execution_count": 6,
   "metadata": {},
   "outputs": [],
   "source": [
    "links = [\n",
    "    ['Iphone X',          \"https://www.buscape.com.br/smartphone-apple-iphone-x-64gb\"],\n",
    "    ['Iphone 8 Plus',     \"https://www.buscape.com.br/smartphone-apple-iphone-8-plus-64gb\"],\n",
    "    ['Iphone 7',          \"https://www.buscape.com.br/smartphone-apple-iphone-7-32gb\"],\n",
    "    ['Iphone 7 Plus',     \"https://www.buscape.com.br/smartphone-apple-iphone-7-plus-128gb\"],\n",
    "    ['Galaxy S8',         \"https://www.buscape.com.br/smartphone-samsung-galaxy-s8-sm-g950-64gb\"],\n",
    "    ['Galaxy S8 Plus',    \"https://www.buscape.com.br/smartphone-samsung-galaxy-s8-plus-sm-g955-128gb\"],\n",
    "    ['Galaxy S9',         \"https://www.buscape.com.br/smartphone-samsung-galaxy-s9-sm-g960-128gb\"],\n",
    "    ['Galaxy S9 Plus',    \"https://www.buscape.com.br/smartphone-samsung-galaxy-s9-plus-sm-g965-128gb\"]\n",
    "]"
   ]
  },
  {
   "cell_type": "markdown",
   "metadata": {},
   "source": [
    "### BASE DE DADOS"
   ]
  },
  {
   "cell_type": "markdown",
   "metadata": {},
   "source": [
    "Se não houver o arquivo tabela.csv criado executa a função gerarBD() e salva o dataframe como tabela.csv, se já houver o arquivo tabela.csv carrega ele como tabela"
   ]
  },
  {
   "cell_type": "code",
   "execution_count": 7,
   "metadata": {
    "scrolled": true
   },
   "outputs": [],
   "source": [
    "#Se já tiver um arquivo tabela.csv salvo carrega ele, se não cria a tabela e salva ela\n",
    "exists = os.path.isfile('tabela.csv')\n",
    "if exists:\n",
    "    tabela = pd.read_csv('tabela.csv', sep=\",\")\n",
    "    tabela.index = tabela['data']\n",
    "    tabela = tabela.loc[:,list(tabela.columns)[1:]]\n",
    "else:\n",
    "    tabela = gerarBD(links)\n",
    "    tabela.to_csv('tabela.csv')"
   ]
  },
  {
   "cell_type": "code",
   "execution_count": 8,
   "metadata": {},
   "outputs": [
    {
     "data": {
      "text/html": [
       "<div>\n",
       "<style scoped>\n",
       "    .dataframe tbody tr th:only-of-type {\n",
       "        vertical-align: middle;\n",
       "    }\n",
       "\n",
       "    .dataframe tbody tr th {\n",
       "        vertical-align: top;\n",
       "    }\n",
       "\n",
       "    .dataframe thead th {\n",
       "        text-align: right;\n",
       "    }\n",
       "</style>\n",
       "<table border=\"1\" class=\"dataframe\">\n",
       "  <thead>\n",
       "    <tr style=\"text-align: right;\">\n",
       "      <th></th>\n",
       "      <th>Iphone X</th>\n",
       "      <th>Iphone 8 Plus</th>\n",
       "      <th>Iphone 7</th>\n",
       "      <th>Iphone 7 Plus</th>\n",
       "      <th>Galaxy S8</th>\n",
       "      <th>Galaxy S8 Plus</th>\n",
       "      <th>Galaxy S9</th>\n",
       "      <th>Galaxy S9 Plus</th>\n",
       "      <th>Dolar</th>\n",
       "    </tr>\n",
       "    <tr>\n",
       "      <th>data</th>\n",
       "      <th></th>\n",
       "      <th></th>\n",
       "      <th></th>\n",
       "      <th></th>\n",
       "      <th></th>\n",
       "      <th></th>\n",
       "      <th></th>\n",
       "      <th></th>\n",
       "      <th></th>\n",
       "    </tr>\n",
       "  </thead>\n",
       "  <tbody>\n",
       "    <tr>\n",
       "      <th>2018-05-22</th>\n",
       "      <td>5791.4575</td>\n",
       "      <td>4019.5854</td>\n",
       "      <td>3033.4468</td>\n",
       "      <td>3491.2202</td>\n",
       "      <td>3050.4950</td>\n",
       "      <td>4085.785</td>\n",
       "      <td>3956.2925</td>\n",
       "      <td>4479.7305</td>\n",
       "      <td>3.6447</td>\n",
       "    </tr>\n",
       "    <tr>\n",
       "      <th>2018-05-23</th>\n",
       "      <td>5853.7800</td>\n",
       "      <td>4057.0140</td>\n",
       "      <td>3043.2737</td>\n",
       "      <td>3406.8965</td>\n",
       "      <td>3061.1514</td>\n",
       "      <td>3672.570</td>\n",
       "      <td>3966.1755</td>\n",
       "      <td>4490.3880</td>\n",
       "      <td>3.6251</td>\n",
       "    </tr>\n",
       "    <tr>\n",
       "      <th>2018-05-24</th>\n",
       "      <td>5885.4900</td>\n",
       "      <td>3896.7625</td>\n",
       "      <td>2852.5547</td>\n",
       "      <td>3444.2380</td>\n",
       "      <td>2992.7668</td>\n",
       "      <td>4028.438</td>\n",
       "      <td>3966.7402</td>\n",
       "      <td>4502.2856</td>\n",
       "      <td>3.6483</td>\n",
       "    </tr>\n",
       "    <tr>\n",
       "      <th>2018-05-25</th>\n",
       "      <td>5876.5710</td>\n",
       "      <td>4019.7207</td>\n",
       "      <td>2985.7068</td>\n",
       "      <td>3470.2570</td>\n",
       "      <td>3130.3193</td>\n",
       "      <td>3685.785</td>\n",
       "      <td>4007.9338</td>\n",
       "      <td>4469.3877</td>\n",
       "      <td>3.6683</td>\n",
       "    </tr>\n",
       "    <tr>\n",
       "      <th>2018-05-28</th>\n",
       "      <td>5907.1025</td>\n",
       "      <td>3886.1116</td>\n",
       "      <td>2995.6414</td>\n",
       "      <td>3488.4626</td>\n",
       "      <td>3062.2104</td>\n",
       "      <td>4028.438</td>\n",
       "      <td>3995.7700</td>\n",
       "      <td>4526.9487</td>\n",
       "      <td>3.7286</td>\n",
       "    </tr>\n",
       "  </tbody>\n",
       "</table>\n",
       "</div>"
      ],
      "text/plain": [
       "             Iphone X  Iphone 8 Plus   Iphone 7  Iphone 7 Plus  Galaxy S8  \\\n",
       "data                                                                        \n",
       "2018-05-22  5791.4575      4019.5854  3033.4468      3491.2202  3050.4950   \n",
       "2018-05-23  5853.7800      4057.0140  3043.2737      3406.8965  3061.1514   \n",
       "2018-05-24  5885.4900      3896.7625  2852.5547      3444.2380  2992.7668   \n",
       "2018-05-25  5876.5710      4019.7207  2985.7068      3470.2570  3130.3193   \n",
       "2018-05-28  5907.1025      3886.1116  2995.6414      3488.4626  3062.2104   \n",
       "\n",
       "            Galaxy S8 Plus  Galaxy S9  Galaxy S9 Plus   Dolar  \n",
       "data                                                           \n",
       "2018-05-22        4085.785  3956.2925       4479.7305  3.6447  \n",
       "2018-05-23        3672.570  3966.1755       4490.3880  3.6251  \n",
       "2018-05-24        4028.438  3966.7402       4502.2856  3.6483  \n",
       "2018-05-25        3685.785  4007.9338       4469.3877  3.6683  \n",
       "2018-05-28        4028.438  3995.7700       4526.9487  3.7286  "
      ]
     },
     "execution_count": 8,
     "metadata": {},
     "output_type": "execute_result"
    }
   ],
   "source": [
    "tabela.head()"
   ]
  },
  {
   "cell_type": "markdown",
   "metadata": {},
   "source": [
    "__III) Criando tabela de retorno__"
   ]
  },
  {
   "cell_type": "code",
   "execution_count": 9,
   "metadata": {},
   "outputs": [],
   "source": [
    "df = tabela.copy()\n",
    "\n",
    "#Cria coluna com o valor da linha anterior\n",
    "for coluna in tabela.columns:\n",
    "    df[coluna+'-1'] = df[coluna].shift(1)\n",
    "\n",
    "df = df.iloc[1:,:] # Tira primeira linha (perdida pra fazer deltas)\n",
    "\n",
    "dic={}\n",
    "for coluna in tabela.columns:\n",
    "    lis,ind=[],[]\n",
    "    for index, row in df.iterrows():\n",
    "        retor = func_retorno(row[coluna],row[coluna+'-1'])\n",
    "        lis.append(retor)\n",
    "        ind.append(index)\n",
    "    dic[coluna]=lis\n",
    "\n",
    "retorno = pd.DataFrame(data=dic,index=ind)"
   ]
  },
  {
   "cell_type": "code",
   "execution_count": 10,
   "metadata": {},
   "outputs": [
    {
     "data": {
      "text/html": [
       "<div>\n",
       "<style scoped>\n",
       "    .dataframe tbody tr th:only-of-type {\n",
       "        vertical-align: middle;\n",
       "    }\n",
       "\n",
       "    .dataframe tbody tr th {\n",
       "        vertical-align: top;\n",
       "    }\n",
       "\n",
       "    .dataframe thead th {\n",
       "        text-align: right;\n",
       "    }\n",
       "</style>\n",
       "<table border=\"1\" class=\"dataframe\">\n",
       "  <thead>\n",
       "    <tr style=\"text-align: right;\">\n",
       "      <th></th>\n",
       "      <th>Iphone X</th>\n",
       "      <th>Iphone 8 Plus</th>\n",
       "      <th>Iphone 7</th>\n",
       "      <th>Iphone 7 Plus</th>\n",
       "      <th>Galaxy S8</th>\n",
       "      <th>Galaxy S8 Plus</th>\n",
       "      <th>Galaxy S9</th>\n",
       "      <th>Galaxy S9 Plus</th>\n",
       "      <th>Dolar</th>\n",
       "    </tr>\n",
       "  </thead>\n",
       "  <tbody>\n",
       "    <tr>\n",
       "      <th>2018-05-23</th>\n",
       "      <td>0.010704</td>\n",
       "      <td>0.009268</td>\n",
       "      <td>0.003234</td>\n",
       "      <td>-0.024450</td>\n",
       "      <td>0.003487</td>\n",
       "      <td>-0.106622</td>\n",
       "      <td>0.002495</td>\n",
       "      <td>0.002376</td>\n",
       "      <td>-0.005392</td>\n",
       "    </tr>\n",
       "    <tr>\n",
       "      <th>2018-05-24</th>\n",
       "      <td>0.005402</td>\n",
       "      <td>-0.040301</td>\n",
       "      <td>-0.064719</td>\n",
       "      <td>0.010901</td>\n",
       "      <td>-0.022593</td>\n",
       "      <td>0.092487</td>\n",
       "      <td>0.000142</td>\n",
       "      <td>0.002646</td>\n",
       "      <td>0.006379</td>\n",
       "    </tr>\n",
       "    <tr>\n",
       "      <th>2018-05-25</th>\n",
       "      <td>-0.001517</td>\n",
       "      <td>0.031066</td>\n",
       "      <td>0.045622</td>\n",
       "      <td>0.007526</td>\n",
       "      <td>0.044937</td>\n",
       "      <td>-0.088895</td>\n",
       "      <td>0.010331</td>\n",
       "      <td>-0.007334</td>\n",
       "      <td>0.005467</td>\n",
       "    </tr>\n",
       "    <tr>\n",
       "      <th>2018-05-28</th>\n",
       "      <td>0.005182</td>\n",
       "      <td>-0.033803</td>\n",
       "      <td>0.003322</td>\n",
       "      <td>0.005232</td>\n",
       "      <td>-0.021998</td>\n",
       "      <td>0.088895</td>\n",
       "      <td>-0.003040</td>\n",
       "      <td>0.012797</td>\n",
       "      <td>0.016304</td>\n",
       "    </tr>\n",
       "    <tr>\n",
       "      <th>2018-05-29</th>\n",
       "      <td>0.009240</td>\n",
       "      <td>0.016236</td>\n",
       "      <td>-0.037699</td>\n",
       "      <td>0.005742</td>\n",
       "      <td>0.020046</td>\n",
       "      <td>0.011541</td>\n",
       "      <td>0.001311</td>\n",
       "      <td>0.007073</td>\n",
       "      <td>0.002839</td>\n",
       "    </tr>\n",
       "  </tbody>\n",
       "</table>\n",
       "</div>"
      ],
      "text/plain": [
       "            Iphone X  Iphone 8 Plus  Iphone 7  Iphone 7 Plus  Galaxy S8  \\\n",
       "2018-05-23  0.010704       0.009268  0.003234      -0.024450   0.003487   \n",
       "2018-05-24  0.005402      -0.040301 -0.064719       0.010901  -0.022593   \n",
       "2018-05-25 -0.001517       0.031066  0.045622       0.007526   0.044937   \n",
       "2018-05-28  0.005182      -0.033803  0.003322       0.005232  -0.021998   \n",
       "2018-05-29  0.009240       0.016236 -0.037699       0.005742   0.020046   \n",
       "\n",
       "            Galaxy S8 Plus  Galaxy S9  Galaxy S9 Plus     Dolar  \n",
       "2018-05-23       -0.106622   0.002495        0.002376 -0.005392  \n",
       "2018-05-24        0.092487   0.000142        0.002646  0.006379  \n",
       "2018-05-25       -0.088895   0.010331       -0.007334  0.005467  \n",
       "2018-05-28        0.088895  -0.003040        0.012797  0.016304  \n",
       "2018-05-29        0.011541   0.001311        0.007073  0.002839  "
      ]
     },
     "execution_count": 10,
     "metadata": {},
     "output_type": "execute_result"
    }
   ],
   "source": [
    "retorno.head()"
   ]
  },
  {
   "cell_type": "markdown",
   "metadata": {},
   "source": [
    "### ANÁLISE DESCRITIVA"
   ]
  },
  {
   "cell_type": "markdown",
   "metadata": {},
   "source": [
    "Em nossa base de dados buscamos os preços de telefones das marcas Apple e Samsung, sendo eles Iphone X, Iphone 8 Plus, Iphone 7 plus, iphone 7, Galaxy S8, Galaxy S8 Plus, Galaxy S9 e Galaxy S9 Plus. Além disso, pegamos também as características dos modelos escolhidos para que nossa análise seja mais específica, pois ao mudar o tamanho da memória do celular, por exemplo, o preço se altera também. Desse modo, conseguiremos analisar qual a interferência da alteração do dólar nos valores dos smartphones. "
   ]
  },
  {
   "cell_type": "markdown",
   "metadata": {},
   "source": [
    "___\n",
    "## C. MODELOS DE PREDIÇÃO"
   ]
  },
  {
   "cell_type": "markdown",
   "metadata": {
    "collapsed": true
   },
   "source": [
    "o MODELO DE PREDIÇÃO PELA MÉDIA (Sem uso de variável explicativa)."
   ]
  },
  {
   "cell_type": "code",
   "execution_count": null,
   "metadata": {},
   "outputs": [],
   "source": []
  },
  {
   "cell_type": "code",
   "execution_count": null,
   "metadata": {},
   "outputs": [],
   "source": []
  },
  {
   "cell_type": "markdown",
   "metadata": {
    "collapsed": true
   },
   "source": [
    "o MODELO DOS K VIZINHOS MAIS PRÓXIMOS (K-Nearest Neighbors Regression)"
   ]
  },
  {
   "cell_type": "code",
   "execution_count": null,
   "metadata": {},
   "outputs": [],
   "source": []
  },
  {
   "cell_type": "code",
   "execution_count": null,
   "metadata": {},
   "outputs": [],
   "source": []
  },
  {
   "cell_type": "markdown",
   "metadata": {
    "collapsed": true
   },
   "source": [
    "o MODELO DE REGRESSÃO LINEAR (Multiple Linear Regression)"
   ]
  },
  {
   "cell_type": "code",
   "execution_count": null,
   "metadata": {},
   "outputs": [],
   "source": []
  },
  {
   "cell_type": "code",
   "execution_count": null,
   "metadata": {},
   "outputs": [],
   "source": []
  },
  {
   "cell_type": "markdown",
   "metadata": {
    "collapsed": true
   },
   "source": [
    "o MODELO DE ÁRVORES DE REGRESSÃO (Decision Tree Regression)"
   ]
  },
  {
   "cell_type": "code",
   "execution_count": null,
   "metadata": {},
   "outputs": [],
   "source": []
  },
  {
   "cell_type": "code",
   "execution_count": null,
   "metadata": {},
   "outputs": [],
   "source": []
  },
  {
   "cell_type": "markdown",
   "metadata": {
    "collapsed": true
   },
   "source": [
    "___\n",
    "## D. PROCESSO E ESTATÍSTICAS DE VALIDAÇÃO"
   ]
  },
  {
   "cell_type": "markdown",
   "metadata": {},
   "source": [
    "[Esse item depende dos resultados das modelagens anteriores! Organize-os aqui de forma clara!]"
   ]
  },
  {
   "cell_type": "code",
   "execution_count": null,
   "metadata": {},
   "outputs": [],
   "source": []
  },
  {
   "cell_type": "code",
   "execution_count": null,
   "metadata": {},
   "outputs": [],
   "source": []
  },
  {
   "cell_type": "code",
   "execution_count": null,
   "metadata": {},
   "outputs": [],
   "source": []
  },
  {
   "cell_type": "code",
   "execution_count": null,
   "metadata": {},
   "outputs": [],
   "source": []
  },
  {
   "cell_type": "markdown",
   "metadata": {},
   "source": [
    "___\n",
    "## E. CONCLUSÃO"
   ]
  },
  {
   "cell_type": "code",
   "execution_count": null,
   "metadata": {},
   "outputs": [],
   "source": []
  },
  {
   "cell_type": "code",
   "execution_count": null,
   "metadata": {},
   "outputs": [],
   "source": []
  },
  {
   "cell_type": "code",
   "execution_count": null,
   "metadata": {},
   "outputs": [],
   "source": []
  },
  {
   "cell_type": "code",
   "execution_count": null,
   "metadata": {},
   "outputs": [],
   "source": []
  },
  {
   "cell_type": "markdown",
   "metadata": {},
   "source": [
    "___\n",
    "## F. REFERÊNCIAS BIBLIOGRÁFICAS"
   ]
  },
  {
   "cell_type": "markdown",
   "metadata": {},
   "source": [
    "https://br.investing.com/ $\\rightarrow$ site para busca da cotação dos dolores\n",
    "_________\n",
    "https://www.buscape.com.br $\\rightarrow$ site para busca de histórico dos preços"
   ]
  }
 ],
 "metadata": {
  "anaconda-cloud": {},
  "kernelspec": {
   "display_name": "Python 3",
   "language": "python",
   "name": "python3"
  },
  "language_info": {
   "codemirror_mode": {
    "name": "ipython",
    "version": 3
   },
   "file_extension": ".py",
   "mimetype": "text/x-python",
   "name": "python",
   "nbconvert_exporter": "python",
   "pygments_lexer": "ipython3",
   "version": "3.6.5"
  }
 },
 "nbformat": 4,
 "nbformat_minor": 1
}
