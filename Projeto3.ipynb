{
 "cells": [
  {
   "cell_type": "code",
   "execution_count": 1,
   "metadata": {},
   "outputs": [],
   "source": [
    "##### Importando Bibliotecas: #####\n",
    "from sklearn.metrics import mean_squared_error\n",
    "import statsmodels.formula.api as smf\n",
    "import matplotlib.pyplot as plt\n",
    "import statsmodels.api as sm\n",
    "from random import randint\n",
    "import pandas as pd\n",
    "import numpy as np\n",
    "import itertools\n",
    "import requests\n",
    "import math\n",
    "import os\n",
    "import re\n",
    "\n",
    "from scipy import stats\n",
    "from sklearn.neighbors import KNeighborsRegressor\n",
    "\n",
    "\n",
    "\n",
    "######## Funções: ########\n",
    "\n",
    "#Método dos Mínimos Quadrados: (Já testada e funfando)\n",
    "def mmq(lX,lY):\n",
    "    mediaX, mediaY = np.mean(lX), np.mean(lY)\n",
    "\n",
    "    Sxx, Sxy = 0, 0\n",
    "    for num in range(len(lX)):\n",
    "        deltaX, deltaY = (lX[num] - mediaX), (lY[num] - mediaY)\n",
    "        Sxx += deltaX **2\n",
    "        Sxy += deltaX * deltaY\n",
    "\n",
    "        b1 = Sxy/Sxx\n",
    "        b0 = mediaY - b1*mediaX\n",
    "\n",
    "    return [b0,b1]\n",
    "\n",
    "def yPrevReta(varX, varY):\n",
    "    [b0,b1] = mmq(varX,varY)\n",
    "\n",
    "    Ycalc = []\n",
    "    for xi in list(varX):\n",
    "        yi_calc = b0 + b1*xi\n",
    "        Ycalc.append(yi_calc)\n",
    "    return Ycalc\n",
    "\n",
    "#Recebe uma URL e retorna o código HTML da página (Só é chamada pela função baixarBD)\n",
    "def baixarhtml(url):\n",
    "    html = requests.get(url).text.splitlines()\n",
    "    return html\n",
    "\n",
    "def regressao(lX,lY):\n",
    "    Xreg = sm.add_constant(lX)\n",
    "    model = sm.OLS(lY,Xreg)\n",
    "    results = model.fit()\n",
    "    return results"
   ]
  },
  {
   "cell_type": "markdown",
   "metadata": {},
   "source": [
    "___\n",
    "# Ciência dos Dados - PROJETO 3 - INSPER"
   ]
  },
  {
   "cell_type": "markdown",
   "metadata": {},
   "source": [
    "___\n",
    "### Mariana Abrantes, Gabriel Couto e Gabriel Miras\n",
    "___"
   ]
  },
  {
   "cell_type": "markdown",
   "metadata": {},
   "source": [
    "# Previsão do preço do Iphone X através do preço do dolar e de outros 7 smartphones do mercado"
   ]
  },
  {
   "cell_type": "markdown",
   "metadata": {},
   "source": [
    "___\n",
    "\n",
    "## A. INTRODUÇÃO"
   ]
  },
  {
   "cell_type": "markdown",
   "metadata": {},
   "source": [
    "Nestes últimos anos, com a instabilidade política e socioeconômica do Brasil, o preço do dólar está em constante variação. Consequentemente, os valores sobre produtos estrangeiros também mudam. Além disso, o preço de outros dispositivos do mercado podem influenciar o preço de um produto. Ao visualizar esse cenário, gostaríamos de analisar a influência da alteração do valor do dólar, de 3 aparelhos da Apple e de 4 aparelhos da Samsung sobre o preço do Iphone X."
   ]
  },
  {
   "cell_type": "markdown",
   "metadata": {},
   "source": [
    "Escolhemos criar modelos preditivos usando 7 modelos de smarthphones disponíveis no mercado e o preço do dólar para fazermos previsões a cerca do preço do Iphone X.<br>\n",
    "<br>\n",
    "__Variável Dependente (resposta) - Y : Preço do Iphone X__ (Váriavel de interesse cujo comportamento se deseja explicar)<br>\n",
    "__Variável Independente (explicativa) - X: Dolar e o preço dos outros celulares__ (Usadas para explicar Y)<br>"
   ]
  },
  {
   "cell_type": "markdown",
   "metadata": {},
   "source": [
    "___\n",
    "## B. MINERANDO DADOS e CARACTERÍSTICAS DO DATASET"
   ]
  },
  {
   "cell_type": "markdown",
   "metadata": {},
   "source": [
    "___\n",
    "### B.1) Minerando Dados"
   ]
  },
  {
   "cell_type": "markdown",
   "metadata": {},
   "source": [
    "__I) Preço do Dólar__ <br>\n",
    "&emsp;O DataFrame foi obtido no [site](https://economia.uol.com.br/cotacoes/cambio/dolar-comercial-estados-unidos/) e foi filtrado da seguinte forma:\n",
    " * a) Definimos a coluna 'Data' como índice da tabela\n",
    " * b) Pegamos apenas a coluna 'Compra' com o preço do dolar no dia e o índice das linhas\n",
    " * c) Definimos a coluna 'Compra' do tipo float e renomeamos ela pra \"Dolar\""
   ]
  },
  {
   "cell_type": "code",
   "execution_count": 2,
   "metadata": {},
   "outputs": [],
   "source": [
    "dolar = pd.read_table(\"dolar.csv\", sep=\";\", usecols=['Data','Compra'])\n",
    "dolar['Data'] = pd.to_datetime(dolar['Data'],  format='%d/%m/%Y %H:%M:%S')\n",
    "dolar.index = dolar['Data']\n",
    "dolar['Dolar'] = dolar['Compra'].astype('float')\n",
    "dolar = dolar.loc[:,['Dolar']]"
   ]
  },
  {
   "cell_type": "markdown",
   "metadata": {},
   "source": [
    "__II) Tabela de Preços dos Smartphones__ <br>\n",
    "Os dados de cada celular foram retirados do histórico de preço médio do site buscape. <br>\n",
    "* a) A função gerarBD() recebe uma lista com nome e url do celular para retornar um Dataframe de preço dos celulares e do dolar por dia.<br>\n",
    "Para cada linha da lista:\n",
    "    * 1) Cria uma cópia do Dataframe dolar chamado table\n",
    "    * 2) Baixa o código da url fornecida e captura o ID do produto\n",
    "    * 3) Com o ID baixamos o histórico de preço médio do aparelho em JSON e criamos o Dataframe bd com ele\n",
    "    * 4) Usamos .join para unir as colunas num novo dataframe\n",
    "    * 5) Definimos a coluna 'Data' como do tipo datetime e em seguida definimos essa coluna como índice da tabela<br>\n",
    "* b) Removemos as linhas que possuam ao menos um valor vazio e retornamos essa nova tabela como resultado da função"
   ]
  },
  {
   "cell_type": "code",
   "execution_count": 3,
   "metadata": {},
   "outputs": [],
   "source": [
    "#Recebe url do Buscape e retorna um Dataframe \n",
    "def gerarBD(lista):\n",
    "    table = dolar.copy()\n",
    "    \n",
    "    for num in range(len(lista)):\n",
    "        produto, url = lista[num][0], lista[num][1]\n",
    "        \n",
    "        #Pega ID do produto do buscape usando a url fornecida\n",
    "        code = baixarhtml(url)\n",
    "        for num_linha in range(len(code)):\n",
    "            match = re.findall('\"productId\":[0-9]*', code[num_linha])\n",
    "            if len(match)>0:\n",
    "                id = match[0].split(':')[1]\n",
    "\n",
    "        #Baixa BD dos preços\n",
    "        code = baixarhtml(\"https://www.buscape.com.br/async/history/idu/\" + id + \"/days/365\")\n",
    "\n",
    "        #Pega só a parte dos dados e cria tabela bd\n",
    "        bd = pd.read_json(code[0].split('\"historicos\":')[1][:-1])\n",
    "\n",
    "        #Converte data pro formato e define essa coluna como índice\n",
    "        bd['data'] = pd.to_datetime(bd['data'],  format='%d/%m/%Y')\n",
    "        bd.set_index(bd['data'], inplace=True)\n",
    "        \n",
    "        #Adiciona a coluna com o nome do produto o preço do produto\n",
    "        table[produto] = bd.loc[:,['precomed']]\n",
    "        table[produto] = table[produto].astype(float)\n",
    "    \n",
    "    table = table.dropna(how='any') # Tira linha que tiver algum valor NaN\n",
    "    return table\n",
    "\n",
    "#Função retorno\n",
    "def func_retorno(n,n_ant):\n",
    "    val = 0\n",
    "    if n_ant == 0:\n",
    "        print('tem zero')\n",
    "    else:\n",
    "        val = math.log(n/n_ant)\n",
    "    return val"
   ]
  },
  {
   "cell_type": "code",
   "execution_count": 4,
   "metadata": {},
   "outputs": [],
   "source": [
    "links = [\n",
    "    ['Iphone X',          \"https://www.buscape.com.br/smartphone-apple-iphone-x-64gb\"],\n",
    "    ['Iphone 8 Plus',     \"https://www.buscape.com.br/smartphone-apple-iphone-8-plus-64gb\"],\n",
    "    ['Iphone 7',          \"https://www.buscape.com.br/smartphone-apple-iphone-7-32gb\"],\n",
    "    ['Iphone 7 Plus',     \"https://www.buscape.com.br/smartphone-apple-iphone-7-plus-128gb\"],\n",
    "    ['Galaxy S8',         \"https://www.buscape.com.br/smartphone-samsung-galaxy-s8-sm-g950-64gb\"],\n",
    "    ['Galaxy S8 Plus',    \"https://www.buscape.com.br/smartphone-samsung-galaxy-s8-plus-sm-g955-128gb\"],\n",
    "    ['Galaxy S9',         \"https://www.buscape.com.br/smartphone-samsung-galaxy-s9-sm-g960-128gb\"],\n",
    "    ['Galaxy S9 Plus',    \"https://www.buscape.com.br/smartphone-samsung-galaxy-s9-plus-sm-g965-128gb\"]\n",
    "]"
   ]
  },
  {
   "cell_type": "markdown",
   "metadata": {},
   "source": [
    "___\n",
    "### B.2) Características do Dataset"
   ]
  },
  {
   "cell_type": "markdown",
   "metadata": {},
   "source": [
    "O dataset consiste de ..."
   ]
  },
  {
   "cell_type": "markdown",
   "metadata": {},
   "source": [
    "___\n",
    "__Salvando os dados para não precisar criar um dataframe a cada execução do código__<br>\n",
    "Se não houver o arquivo tabela.csv na pasta executa a função gerarBD() e salva o dataframe como tabela.csv, se já houver o arquivo tabela.csv carrega ele como tabela."
   ]
  },
  {
   "cell_type": "code",
   "execution_count": 5,
   "metadata": {
    "scrolled": true
   },
   "outputs": [],
   "source": [
    "#Se já tiver um arquivo tabela.csv salvo carrega ele, se não cria a tabela e salva ela\n",
    "exists = os.path.isfile('tabela.csv')\n",
    "if exists:\n",
    "    tabela = pd.read_csv('tabela.csv', sep=\",\")\n",
    "    tabela.index = tabela['data']\n",
    "    tabela = tabela.loc[:,list(tabela.columns)[1:]]\n",
    "else:\n",
    "    tabela = gerarBD(links)\n",
    "    tabela.to_csv('tabela.csv')"
   ]
  },
  {
   "cell_type": "markdown",
   "metadata": {},
   "source": [
    "### BASE DE DADOS"
   ]
  },
  {
   "cell_type": "markdown",
   "metadata": {},
   "source": [
    "__I)Tabela com todos dados que serão usados:__<br>"
   ]
  },
  {
   "cell_type": "code",
   "execution_count": 6,
   "metadata": {},
   "outputs": [
    {
     "data": {
      "text/html": [
       "<div>\n",
       "<style scoped>\n",
       "    .dataframe tbody tr th:only-of-type {\n",
       "        vertical-align: middle;\n",
       "    }\n",
       "\n",
       "    .dataframe tbody tr th {\n",
       "        vertical-align: top;\n",
       "    }\n",
       "\n",
       "    .dataframe thead th {\n",
       "        text-align: right;\n",
       "    }\n",
       "</style>\n",
       "<table border=\"1\" class=\"dataframe\">\n",
       "  <thead>\n",
       "    <tr style=\"text-align: right;\">\n",
       "      <th></th>\n",
       "      <th>Iphone X</th>\n",
       "      <th>Iphone 8 Plus</th>\n",
       "      <th>Iphone 7</th>\n",
       "      <th>Iphone 7 Plus</th>\n",
       "      <th>Galaxy S8</th>\n",
       "      <th>Galaxy S8 Plus</th>\n",
       "      <th>Galaxy S9</th>\n",
       "      <th>Galaxy S9 Plus</th>\n",
       "      <th>Dolar</th>\n",
       "    </tr>\n",
       "    <tr>\n",
       "      <th>data</th>\n",
       "      <th></th>\n",
       "      <th></th>\n",
       "      <th></th>\n",
       "      <th></th>\n",
       "      <th></th>\n",
       "      <th></th>\n",
       "      <th></th>\n",
       "      <th></th>\n",
       "      <th></th>\n",
       "    </tr>\n",
       "  </thead>\n",
       "  <tbody>\n",
       "    <tr>\n",
       "      <th>2018-05-22</th>\n",
       "      <td>5791.4575</td>\n",
       "      <td>4019.5854</td>\n",
       "      <td>3033.4468</td>\n",
       "      <td>3491.2202</td>\n",
       "      <td>3050.4950</td>\n",
       "      <td>4085.785</td>\n",
       "      <td>3956.2925</td>\n",
       "      <td>4479.7305</td>\n",
       "      <td>3.6447</td>\n",
       "    </tr>\n",
       "    <tr>\n",
       "      <th>2018-05-23</th>\n",
       "      <td>5853.7800</td>\n",
       "      <td>4057.0140</td>\n",
       "      <td>3043.2737</td>\n",
       "      <td>3406.8965</td>\n",
       "      <td>3061.1514</td>\n",
       "      <td>3672.570</td>\n",
       "      <td>3966.1755</td>\n",
       "      <td>4490.3880</td>\n",
       "      <td>3.6251</td>\n",
       "    </tr>\n",
       "    <tr>\n",
       "      <th>2018-05-24</th>\n",
       "      <td>5885.4900</td>\n",
       "      <td>3896.7625</td>\n",
       "      <td>2852.5547</td>\n",
       "      <td>3444.2380</td>\n",
       "      <td>2992.7668</td>\n",
       "      <td>4028.438</td>\n",
       "      <td>3966.7402</td>\n",
       "      <td>4502.2856</td>\n",
       "      <td>3.6483</td>\n",
       "    </tr>\n",
       "  </tbody>\n",
       "</table>\n",
       "</div>"
      ],
      "text/plain": [
       "             Iphone X  Iphone 8 Plus   Iphone 7  Iphone 7 Plus  Galaxy S8  \\\n",
       "data                                                                        \n",
       "2018-05-22  5791.4575      4019.5854  3033.4468      3491.2202  3050.4950   \n",
       "2018-05-23  5853.7800      4057.0140  3043.2737      3406.8965  3061.1514   \n",
       "2018-05-24  5885.4900      3896.7625  2852.5547      3444.2380  2992.7668   \n",
       "\n",
       "            Galaxy S8 Plus  Galaxy S9  Galaxy S9 Plus   Dolar  \n",
       "data                                                           \n",
       "2018-05-22        4085.785  3956.2925       4479.7305  3.6447  \n",
       "2018-05-23        3672.570  3966.1755       4490.3880  3.6251  \n",
       "2018-05-24        4028.438  3966.7402       4502.2856  3.6483  "
      ]
     },
     "execution_count": 6,
     "metadata": {},
     "output_type": "execute_result"
    }
   ],
   "source": [
    "tabela.head(3)"
   ]
  },
  {
   "cell_type": "markdown",
   "metadata": {},
   "source": [
    "__II) Criando tabela de retorno__ <br>"
   ]
  },
  {
   "cell_type": "code",
   "execution_count": 7,
   "metadata": {},
   "outputs": [],
   "source": [
    "df = tabela.copy()\n",
    "\n",
    "#Cria coluna com o valor da linha anterior\n",
    "for coluna in tabela.columns:\n",
    "    df[coluna+'-1'] = df[coluna].shift(1)\n",
    "\n",
    "df = df.iloc[1:,:] # Tira primeira linha (perdida pra fazer deltas)\n",
    "\n",
    "dic={}\n",
    "for coluna in tabela.columns:\n",
    "    lis,ind=[],[]\n",
    "    for index, row in df.iterrows():\n",
    "        retor = func_retorno(row[coluna],row[coluna+'-1'])\n",
    "        lis.append(retor)\n",
    "        ind.append(index)\n",
    "    dic[coluna]=lis\n",
    "\n",
    "retorno = pd.DataFrame(data=dic,index=ind)"
   ]
  },
  {
   "cell_type": "code",
   "execution_count": 8,
   "metadata": {},
   "outputs": [
    {
     "data": {
      "text/html": [
       "<div>\n",
       "<style scoped>\n",
       "    .dataframe tbody tr th:only-of-type {\n",
       "        vertical-align: middle;\n",
       "    }\n",
       "\n",
       "    .dataframe tbody tr th {\n",
       "        vertical-align: top;\n",
       "    }\n",
       "\n",
       "    .dataframe thead th {\n",
       "        text-align: right;\n",
       "    }\n",
       "</style>\n",
       "<table border=\"1\" class=\"dataframe\">\n",
       "  <thead>\n",
       "    <tr style=\"text-align: right;\">\n",
       "      <th></th>\n",
       "      <th>Iphone X</th>\n",
       "      <th>Iphone 8 Plus</th>\n",
       "      <th>Iphone 7</th>\n",
       "      <th>Iphone 7 Plus</th>\n",
       "      <th>Galaxy S8</th>\n",
       "      <th>Galaxy S8 Plus</th>\n",
       "      <th>Galaxy S9</th>\n",
       "      <th>Galaxy S9 Plus</th>\n",
       "      <th>Dolar</th>\n",
       "    </tr>\n",
       "  </thead>\n",
       "  <tbody>\n",
       "    <tr>\n",
       "      <th>2018-05-23</th>\n",
       "      <td>0.010704</td>\n",
       "      <td>0.009268</td>\n",
       "      <td>0.003234</td>\n",
       "      <td>-0.024450</td>\n",
       "      <td>0.003487</td>\n",
       "      <td>-0.106622</td>\n",
       "      <td>0.002495</td>\n",
       "      <td>0.002376</td>\n",
       "      <td>-0.005392</td>\n",
       "    </tr>\n",
       "    <tr>\n",
       "      <th>2018-05-24</th>\n",
       "      <td>0.005402</td>\n",
       "      <td>-0.040301</td>\n",
       "      <td>-0.064719</td>\n",
       "      <td>0.010901</td>\n",
       "      <td>-0.022593</td>\n",
       "      <td>0.092487</td>\n",
       "      <td>0.000142</td>\n",
       "      <td>0.002646</td>\n",
       "      <td>0.006379</td>\n",
       "    </tr>\n",
       "    <tr>\n",
       "      <th>2018-05-25</th>\n",
       "      <td>-0.001517</td>\n",
       "      <td>0.031066</td>\n",
       "      <td>0.045622</td>\n",
       "      <td>0.007526</td>\n",
       "      <td>0.044937</td>\n",
       "      <td>-0.088895</td>\n",
       "      <td>0.010331</td>\n",
       "      <td>-0.007334</td>\n",
       "      <td>0.005467</td>\n",
       "    </tr>\n",
       "  </tbody>\n",
       "</table>\n",
       "</div>"
      ],
      "text/plain": [
       "            Iphone X  Iphone 8 Plus  Iphone 7  Iphone 7 Plus  Galaxy S8  \\\n",
       "2018-05-23  0.010704       0.009268  0.003234      -0.024450   0.003487   \n",
       "2018-05-24  0.005402      -0.040301 -0.064719       0.010901  -0.022593   \n",
       "2018-05-25 -0.001517       0.031066  0.045622       0.007526   0.044937   \n",
       "\n",
       "            Galaxy S8 Plus  Galaxy S9  Galaxy S9 Plus     Dolar  \n",
       "2018-05-23       -0.106622   0.002495        0.002376 -0.005392  \n",
       "2018-05-24        0.092487   0.000142        0.002646  0.006379  \n",
       "2018-05-25       -0.088895   0.010331       -0.007334  0.005467  "
      ]
     },
     "execution_count": 8,
     "metadata": {},
     "output_type": "execute_result"
    }
   ],
   "source": [
    "retorno.head(3)"
   ]
  },
  {
   "cell_type": "markdown",
   "metadata": {},
   "source": [
    "__III) Separando a tabela em teste e treinamento__"
   ]
  },
  {
   "cell_type": "code",
   "execution_count": 9,
   "metadata": {},
   "outputs": [
    {
     "name": "stdout",
     "output_type": "stream",
     "text": [
      "Comprimento Teste: 49 | Comprimento Treino: 195\n"
     ]
    }
   ],
   "source": [
    "percentTreino = 0.8 #Proporção entre o comprimento do treinamento o dataframe dados.\n",
    "\n",
    "treino = retorno.sample(frac=percentTreino,random_state=randint(0,100000))\n",
    "teste = retorno.drop(treino.index)\n",
    "\n",
    "print('Comprimento Teste: '+str(len(teste))+' | Comprimento Treino: '+str(len(treino)))"
   ]
  },
  {
   "cell_type": "markdown",
   "metadata": {},
   "source": [
    "Definindo algumas variáveis que serão usadas:"
   ]
  },
  {
   "cell_type": "code",
   "execution_count": 10,
   "metadata": {},
   "outputs": [],
   "source": [
    "# colRes = Coluna Resposta (Dependente)\n",
    "colRes = 'Iphone X'\n",
    "\n",
    "# colExp = Lista de Colunas Explicativas (Independentes)\n",
    "colExp = list(treino.columns)\n",
    "colExp.remove(colRes)\n",
    "\n",
    "# dataframe Resposta \n",
    "dfRes = treino.loc[:,[colRes]]\n",
    "\n",
    "# dataframe variáveis Explicativas (Dataframe)\n",
    "dfExp = treino.loc[:,colExp]"
   ]
  },
  {
   "cell_type": "markdown",
   "metadata": {},
   "source": [
    "### ANÁLISE DESCRITIVA"
   ]
  },
  {
   "cell_type": "markdown",
   "metadata": {},
   "source": [
    "Em nossa base de dados buscamos os preços de telefones das marcas Apple e Samsung, sendo eles Iphone X, Iphone 8 Plus, Iphone 7 plus, iphone 7, Galaxy S8, Galaxy S8 Plus, Galaxy S9 e Galaxy S9 Plus."
   ]
  },
  {
   "cell_type": "code",
   "execution_count": 11,
   "metadata": {},
   "outputs": [
    {
     "data": {
      "text/html": [
       "<div>\n",
       "<style scoped>\n",
       "    .dataframe tbody tr th:only-of-type {\n",
       "        vertical-align: middle;\n",
       "    }\n",
       "\n",
       "    .dataframe tbody tr th {\n",
       "        vertical-align: top;\n",
       "    }\n",
       "\n",
       "    .dataframe thead th {\n",
       "        text-align: right;\n",
       "    }\n",
       "</style>\n",
       "<table border=\"1\" class=\"dataframe\">\n",
       "  <thead>\n",
       "    <tr style=\"text-align: right;\">\n",
       "      <th></th>\n",
       "      <th>Iphone X</th>\n",
       "      <th>Iphone 8 Plus</th>\n",
       "      <th>Iphone 7</th>\n",
       "      <th>Iphone 7 Plus</th>\n",
       "      <th>Galaxy S8</th>\n",
       "      <th>Galaxy S8 Plus</th>\n",
       "      <th>Galaxy S9</th>\n",
       "      <th>Galaxy S9 Plus</th>\n",
       "      <th>Dolar</th>\n",
       "    </tr>\n",
       "  </thead>\n",
       "  <tbody>\n",
       "    <tr>\n",
       "      <th>Iphone X</th>\n",
       "      <td>1.000000</td>\n",
       "      <td>0.038458</td>\n",
       "      <td>0.135383</td>\n",
       "      <td>0.145399</td>\n",
       "      <td>0.041410</td>\n",
       "      <td>0.063409</td>\n",
       "      <td>0.154666</td>\n",
       "      <td>0.105938</td>\n",
       "      <td>-0.043812</td>\n",
       "    </tr>\n",
       "    <tr>\n",
       "      <th>Iphone 8 Plus</th>\n",
       "      <td>0.038458</td>\n",
       "      <td>1.000000</td>\n",
       "      <td>0.091675</td>\n",
       "      <td>0.177954</td>\n",
       "      <td>0.034680</td>\n",
       "      <td>0.039714</td>\n",
       "      <td>0.023200</td>\n",
       "      <td>-0.093862</td>\n",
       "      <td>-0.089082</td>\n",
       "    </tr>\n",
       "    <tr>\n",
       "      <th>Iphone 7</th>\n",
       "      <td>0.135383</td>\n",
       "      <td>0.091675</td>\n",
       "      <td>1.000000</td>\n",
       "      <td>0.451567</td>\n",
       "      <td>-0.114831</td>\n",
       "      <td>0.015241</td>\n",
       "      <td>-0.054389</td>\n",
       "      <td>-0.075561</td>\n",
       "      <td>-0.090650</td>\n",
       "    </tr>\n",
       "    <tr>\n",
       "      <th>Iphone 7 Plus</th>\n",
       "      <td>0.145399</td>\n",
       "      <td>0.177954</td>\n",
       "      <td>0.451567</td>\n",
       "      <td>1.000000</td>\n",
       "      <td>0.008723</td>\n",
       "      <td>-0.005675</td>\n",
       "      <td>-0.027251</td>\n",
       "      <td>-0.037612</td>\n",
       "      <td>0.053955</td>\n",
       "    </tr>\n",
       "    <tr>\n",
       "      <th>Galaxy S8</th>\n",
       "      <td>0.041410</td>\n",
       "      <td>0.034680</td>\n",
       "      <td>-0.114831</td>\n",
       "      <td>0.008723</td>\n",
       "      <td>1.000000</td>\n",
       "      <td>-0.031697</td>\n",
       "      <td>0.086225</td>\n",
       "      <td>0.091342</td>\n",
       "      <td>-0.084005</td>\n",
       "    </tr>\n",
       "    <tr>\n",
       "      <th>Galaxy S8 Plus</th>\n",
       "      <td>0.063409</td>\n",
       "      <td>0.039714</td>\n",
       "      <td>0.015241</td>\n",
       "      <td>-0.005675</td>\n",
       "      <td>-0.031697</td>\n",
       "      <td>1.000000</td>\n",
       "      <td>-0.170571</td>\n",
       "      <td>-0.091199</td>\n",
       "      <td>-0.102366</td>\n",
       "    </tr>\n",
       "    <tr>\n",
       "      <th>Galaxy S9</th>\n",
       "      <td>0.154666</td>\n",
       "      <td>0.023200</td>\n",
       "      <td>-0.054389</td>\n",
       "      <td>-0.027251</td>\n",
       "      <td>0.086225</td>\n",
       "      <td>-0.170571</td>\n",
       "      <td>1.000000</td>\n",
       "      <td>0.335653</td>\n",
       "      <td>0.063197</td>\n",
       "    </tr>\n",
       "    <tr>\n",
       "      <th>Galaxy S9 Plus</th>\n",
       "      <td>0.105938</td>\n",
       "      <td>-0.093862</td>\n",
       "      <td>-0.075561</td>\n",
       "      <td>-0.037612</td>\n",
       "      <td>0.091342</td>\n",
       "      <td>-0.091199</td>\n",
       "      <td>0.335653</td>\n",
       "      <td>1.000000</td>\n",
       "      <td>0.025592</td>\n",
       "    </tr>\n",
       "    <tr>\n",
       "      <th>Dolar</th>\n",
       "      <td>-0.043812</td>\n",
       "      <td>-0.089082</td>\n",
       "      <td>-0.090650</td>\n",
       "      <td>0.053955</td>\n",
       "      <td>-0.084005</td>\n",
       "      <td>-0.102366</td>\n",
       "      <td>0.063197</td>\n",
       "      <td>0.025592</td>\n",
       "      <td>1.000000</td>\n",
       "    </tr>\n",
       "  </tbody>\n",
       "</table>\n",
       "</div>"
      ],
      "text/plain": [
       "                Iphone X  Iphone 8 Plus  Iphone 7  Iphone 7 Plus  Galaxy S8  \\\n",
       "Iphone X        1.000000       0.038458  0.135383       0.145399   0.041410   \n",
       "Iphone 8 Plus   0.038458       1.000000  0.091675       0.177954   0.034680   \n",
       "Iphone 7        0.135383       0.091675  1.000000       0.451567  -0.114831   \n",
       "Iphone 7 Plus   0.145399       0.177954  0.451567       1.000000   0.008723   \n",
       "Galaxy S8       0.041410       0.034680 -0.114831       0.008723   1.000000   \n",
       "Galaxy S8 Plus  0.063409       0.039714  0.015241      -0.005675  -0.031697   \n",
       "Galaxy S9       0.154666       0.023200 -0.054389      -0.027251   0.086225   \n",
       "Galaxy S9 Plus  0.105938      -0.093862 -0.075561      -0.037612   0.091342   \n",
       "Dolar          -0.043812      -0.089082 -0.090650       0.053955  -0.084005   \n",
       "\n",
       "                Galaxy S8 Plus  Galaxy S9  Galaxy S9 Plus     Dolar  \n",
       "Iphone X              0.063409   0.154666        0.105938 -0.043812  \n",
       "Iphone 8 Plus         0.039714   0.023200       -0.093862 -0.089082  \n",
       "Iphone 7              0.015241  -0.054389       -0.075561 -0.090650  \n",
       "Iphone 7 Plus        -0.005675  -0.027251       -0.037612  0.053955  \n",
       "Galaxy S8            -0.031697   0.086225        0.091342 -0.084005  \n",
       "Galaxy S8 Plus        1.000000  -0.170571       -0.091199 -0.102366  \n",
       "Galaxy S9            -0.170571   1.000000        0.335653  0.063197  \n",
       "Galaxy S9 Plus       -0.091199   0.335653        1.000000  0.025592  \n",
       "Dolar                -0.102366   0.063197        0.025592  1.000000  "
      ]
     },
     "execution_count": 11,
     "metadata": {},
     "output_type": "execute_result"
    }
   ],
   "source": [
    "#Correlação\n",
    "treino.corr()"
   ]
  },
  {
   "cell_type": "markdown",
   "metadata": {},
   "source": [
    "# Descriçao analise "
   ]
  },
  {
   "cell_type": "code",
   "execution_count": 12,
   "metadata": {},
   "outputs": [
    {
     "data": {
      "text/html": [
       "<div>\n",
       "<style scoped>\n",
       "    .dataframe tbody tr th:only-of-type {\n",
       "        vertical-align: middle;\n",
       "    }\n",
       "\n",
       "    .dataframe tbody tr th {\n",
       "        vertical-align: top;\n",
       "    }\n",
       "\n",
       "    .dataframe thead th {\n",
       "        text-align: right;\n",
       "    }\n",
       "</style>\n",
       "<table border=\"1\" class=\"dataframe\">\n",
       "  <thead>\n",
       "    <tr style=\"text-align: right;\">\n",
       "      <th></th>\n",
       "      <th>Iphone X</th>\n",
       "      <th>Iphone 8 Plus</th>\n",
       "      <th>Iphone 7</th>\n",
       "      <th>Iphone 7 Plus</th>\n",
       "      <th>Galaxy S8</th>\n",
       "      <th>Galaxy S8 Plus</th>\n",
       "      <th>Galaxy S9</th>\n",
       "      <th>Galaxy S9 Plus</th>\n",
       "      <th>Dolar</th>\n",
       "    </tr>\n",
       "  </thead>\n",
       "  <tbody>\n",
       "    <tr>\n",
       "      <th>count</th>\n",
       "      <td>195.000000</td>\n",
       "      <td>195.000000</td>\n",
       "      <td>195.000000</td>\n",
       "      <td>195.000000</td>\n",
       "      <td>195.000000</td>\n",
       "      <td>195.000000</td>\n",
       "      <td>195.000000</td>\n",
       "      <td>195.000000</td>\n",
       "      <td>195.000000</td>\n",
       "    </tr>\n",
       "    <tr>\n",
       "      <th>mean</th>\n",
       "      <td>-0.001356</td>\n",
       "      <td>0.000066</td>\n",
       "      <td>0.000528</td>\n",
       "      <td>0.001785</td>\n",
       "      <td>-0.000947</td>\n",
       "      <td>0.000480</td>\n",
       "      <td>-0.001538</td>\n",
       "      <td>-0.002050</td>\n",
       "      <td>0.000430</td>\n",
       "    </tr>\n",
       "    <tr>\n",
       "      <th>std</th>\n",
       "      <td>0.028398</td>\n",
       "      <td>0.034559</td>\n",
       "      <td>0.037140</td>\n",
       "      <td>0.038844</td>\n",
       "      <td>0.031220</td>\n",
       "      <td>0.034597</td>\n",
       "      <td>0.042244</td>\n",
       "      <td>0.035661</td>\n",
       "      <td>0.010465</td>\n",
       "    </tr>\n",
       "    <tr>\n",
       "      <th>min</th>\n",
       "      <td>-0.105792</td>\n",
       "      <td>-0.124957</td>\n",
       "      <td>-0.151601</td>\n",
       "      <td>-0.155254</td>\n",
       "      <td>-0.125202</td>\n",
       "      <td>-0.220123</td>\n",
       "      <td>-0.122101</td>\n",
       "      <td>-0.113739</td>\n",
       "      <td>-0.057482</td>\n",
       "    </tr>\n",
       "    <tr>\n",
       "      <th>25%</th>\n",
       "      <td>-0.010199</td>\n",
       "      <td>-0.018857</td>\n",
       "      <td>-0.016521</td>\n",
       "      <td>-0.007636</td>\n",
       "      <td>-0.013992</td>\n",
       "      <td>0.000000</td>\n",
       "      <td>-0.021692</td>\n",
       "      <td>-0.022438</td>\n",
       "      <td>-0.005790</td>\n",
       "    </tr>\n",
       "    <tr>\n",
       "      <th>50%</th>\n",
       "      <td>0.000000</td>\n",
       "      <td>0.000000</td>\n",
       "      <td>0.000000</td>\n",
       "      <td>0.000000</td>\n",
       "      <td>0.000000</td>\n",
       "      <td>0.000000</td>\n",
       "      <td>0.000000</td>\n",
       "      <td>0.000000</td>\n",
       "      <td>0.000763</td>\n",
       "    </tr>\n",
       "    <tr>\n",
       "      <th>75%</th>\n",
       "      <td>0.008107</td>\n",
       "      <td>0.013090</td>\n",
       "      <td>0.015520</td>\n",
       "      <td>0.011576</td>\n",
       "      <td>0.005859</td>\n",
       "      <td>0.000000</td>\n",
       "      <td>0.016930</td>\n",
       "      <td>0.014578</td>\n",
       "      <td>0.006892</td>\n",
       "    </tr>\n",
       "    <tr>\n",
       "      <th>max</th>\n",
       "      <td>0.139597</td>\n",
       "      <td>0.116284</td>\n",
       "      <td>0.115890</td>\n",
       "      <td>0.155254</td>\n",
       "      <td>0.142910</td>\n",
       "      <td>0.232399</td>\n",
       "      <td>0.149577</td>\n",
       "      <td>0.112801</td>\n",
       "      <td>0.026513</td>\n",
       "    </tr>\n",
       "  </tbody>\n",
       "</table>\n",
       "</div>"
      ],
      "text/plain": [
       "         Iphone X  Iphone 8 Plus    Iphone 7  Iphone 7 Plus   Galaxy S8  \\\n",
       "count  195.000000     195.000000  195.000000     195.000000  195.000000   \n",
       "mean    -0.001356       0.000066    0.000528       0.001785   -0.000947   \n",
       "std      0.028398       0.034559    0.037140       0.038844    0.031220   \n",
       "min     -0.105792      -0.124957   -0.151601      -0.155254   -0.125202   \n",
       "25%     -0.010199      -0.018857   -0.016521      -0.007636   -0.013992   \n",
       "50%      0.000000       0.000000    0.000000       0.000000    0.000000   \n",
       "75%      0.008107       0.013090    0.015520       0.011576    0.005859   \n",
       "max      0.139597       0.116284    0.115890       0.155254    0.142910   \n",
       "\n",
       "       Galaxy S8 Plus   Galaxy S9  Galaxy S9 Plus       Dolar  \n",
       "count      195.000000  195.000000      195.000000  195.000000  \n",
       "mean         0.000480   -0.001538       -0.002050    0.000430  \n",
       "std          0.034597    0.042244        0.035661    0.010465  \n",
       "min         -0.220123   -0.122101       -0.113739   -0.057482  \n",
       "25%          0.000000   -0.021692       -0.022438   -0.005790  \n",
       "50%          0.000000    0.000000        0.000000    0.000763  \n",
       "75%          0.000000    0.016930        0.014578    0.006892  \n",
       "max          0.232399    0.149577        0.112801    0.026513  "
      ]
     },
     "execution_count": 12,
     "metadata": {},
     "output_type": "execute_result"
    }
   ],
   "source": [
    "treino.describe()"
   ]
  },
  {
   "cell_type": "markdown",
   "metadata": {},
   "source": [
    "__I) Análise Univariada:__ <br>\n",
    "\n",
    "Histograma das variáveis:"
   ]
  },
  {
   "cell_type": "code",
   "execution_count": 13,
   "metadata": {},
   "outputs": [
    {
     "data": {
      "image/png": "[encoded data removed]",
      "text/plain": [
       "<Figure size 1440x720 with 9 Axes>"
      ]
     },
     "metadata": {
      "needs_background": "light"
     },
     "output_type": "display_data"
    }
   ],
   "source": [
    "#Limites do gráfico:\n",
    "xlim, ylim = [-0.15,0.15], [0,70] \n",
    "\n",
    "#Dita a ordem que os grpaficos vão aparecer\n",
    "labels0 = ['Iphone X','Iphone 8 Plus','Iphone 7 Plus','Iphone 7']\n",
    "labels1 = ['Galaxy S9 Plus', 'Galaxy S9', 'Galaxy S8', 'Galaxy S8 Plus']\n",
    "\n",
    "fig = plt.figure(figsize=(20,10)) #largura da linha,altura da linha\n",
    "\n",
    "#Dolar\n",
    "plt.subplot2grid((5, 2), (0, 0), colspan=2)\n",
    "plt.xlim(xlim[0],xlim[1])\n",
    "plt.ylim(ylim[0],ylim[1])\n",
    "treino['Dolar'].plot.hist(bins=50, title='Dolar', density=True);        \n",
    "\n",
    "#Outras colunas\n",
    "for n_y in [0,1]:\n",
    "    if n_y == 0:\n",
    "        labels = labels0\n",
    "    if n_y == 1:\n",
    "        labels = labels1\n",
    "        \n",
    "    for n_x in [1,2,3,4]:\n",
    "        ax = plt.subplot2grid((5, 2), (n_x, n_y))\n",
    "        plt.xlim(xlim[0],xlim[1])\n",
    "        plt.ylim(ylim[0],ylim[1])\n",
    "        treino[labels[n_x-1]].plot.hist(bins=50, title=labels[n_x-1], density=True);        \n",
    "        \n",
    "plt.tight_layout()\n",
    "plt.show()"
   ]
  },
  {
   "cell_type": "markdown",
   "metadata": {},
   "source": [
    "___\n",
    "## C. MODELOS DE PREDIÇÃO"
   ]
  },
  {
   "cell_type": "markdown",
   "metadata": {
    "collapsed": true
   },
   "source": [
    "* __Modelo de Predição pela Média (Sem uso de variável explicativa).__ <br>\n",
    "Consiste em usarmos como equação matemática do modelo a reta $y(t) = \\mu$, sendo $\\mu$ a média aritmética dos valores da variável resposta. (y(t) será uma reta paralela ao eixo x)."
   ]
  },
  {
   "cell_type": "code",
   "execution_count": 25,
   "metadata": {},
   "outputs": [
    {
     "data": {
      "text/plain": [
       "[0.0, 1.0]"
      ]
     },
     "execution_count": 25,
     "metadata": {},
     "output_type": "execute_result"
    }
   ],
   "source": [
    "yPrevReta([0,1], [0,1])"
   ]
  },
  {
   "cell_type": "code",
   "execution_count": 26,
   "metadata": {},
   "outputs": [
    {
     "data": {
      "text/html": [
       "<table class=\"simpletable\">\n",
       "<caption>OLS Regression Results</caption>\n",
       "<tr>\n",
       "  <th>Dep. Variable:</th>            <td>y</td>        <th>  R-squared:         </th>  <td>  -8.000</td> \n",
       "</tr>\n",
       "<tr>\n",
       "  <th>Model:</th>                   <td>OLS</td>       <th>  Adj. R-squared:    </th>  <td>  -8.047</td> \n",
       "</tr>\n",
       "<tr>\n",
       "  <th>Method:</th>             <td>Least Squares</td>  <th>  F-statistic:       </th>  <td>  -171.6</td> \n",
       "</tr>\n",
       "<tr>\n",
       "  <th>Date:</th>             <td>Sat, 25 May 2019</td> <th>  Prob (F-statistic):</th>   <td>  1.00</td>  \n",
       "</tr>\n",
       "<tr>\n",
       "  <th>Time:</th>                 <td>03:28:51</td>     <th>  Log-Likelihood:    </th>  <td>  7889.2</td> \n",
       "</tr>\n",
       "<tr>\n",
       "  <th>No. Observations:</th>      <td>   195</td>      <th>  AIC:               </th> <td>-1.577e+04</td>\n",
       "</tr>\n",
       "<tr>\n",
       "  <th>Df Residuals:</th>          <td>   193</td>      <th>  BIC:               </th> <td>-1.577e+04</td>\n",
       "</tr>\n",
       "<tr>\n",
       "  <th>Df Model:</th>              <td>     1</td>      <th>                     </th>      <td> </td>    \n",
       "</tr>\n",
       "<tr>\n",
       "  <th>Covariance Type:</th>      <td>nonrobust</td>    <th>                     </th>      <td> </td>    \n",
       "</tr>\n",
       "</table>\n",
       "<table class=\"simpletable\">\n",
       "<tr>\n",
       "      <td></td>        <th>coef</th>     <th>std err</th>      <th>t</th>      <th>P>|t|</th>  <th>[0.025</th>    <th>0.975]</th>  \n",
       "</tr>\n",
       "<tr>\n",
       "  <th>const</th>    <td>   -0.0014</td> <td> 4.69e-20</td> <td>-2.89e+16</td> <td> 0.000</td> <td>   -0.001</td> <td>   -0.001</td>\n",
       "</tr>\n",
       "<tr>\n",
       "  <th>Iphone X</th> <td> 4.337e-19</td> <td> 1.65e-18</td> <td>    0.262</td> <td> 0.793</td> <td>-2.83e-18</td> <td> 3.69e-18</td>\n",
       "</tr>\n",
       "</table>\n",
       "<table class=\"simpletable\">\n",
       "<tr>\n",
       "  <th>Omnibus:</th>       <td> 1.026</td> <th>  Durbin-Watson:     </th> <td>   0.000</td>\n",
       "</tr>\n",
       "<tr>\n",
       "  <th>Prob(Omnibus):</th> <td> 0.599</td> <th>  Jarque-Bera (JB):  </th> <td>  73.125</td>\n",
       "</tr>\n",
       "<tr>\n",
       "  <th>Skew:</th>          <td> 0.000</td> <th>  Prob(JB):          </th> <td>1.32e-16</td>\n",
       "</tr>\n",
       "<tr>\n",
       "  <th>Kurtosis:</th>      <td> 0.000</td> <th>  Cond. No.          </th> <td>    35.3</td>\n",
       "</tr>\n",
       "</table><br/><br/>Warnings:<br/>[1] Standard Errors assume that the covariance matrix of the errors is correctly specified."
      ],
      "text/plain": [
       "<class 'statsmodels.iolib.summary.Summary'>\n",
       "\"\"\"\n",
       "                            OLS Regression Results                            \n",
       "==============================================================================\n",
       "Dep. Variable:                      y   R-squared:                      -8.000\n",
       "Model:                            OLS   Adj. R-squared:                 -8.047\n",
       "Method:                 Least Squares   F-statistic:                    -171.6\n",
       "Date:                Sat, 25 May 2019   Prob (F-statistic):               1.00\n",
       "Time:                        03:28:51   Log-Likelihood:                 7889.2\n",
       "No. Observations:                 195   AIC:                        -1.577e+04\n",
       "Df Residuals:                     193   BIC:                        -1.577e+04\n",
       "Df Model:                           1                                         \n",
       "Covariance Type:            nonrobust                                         \n",
       "==============================================================================\n",
       "                 coef    std err          t      P>|t|      [0.025      0.975]\n",
       "------------------------------------------------------------------------------\n",
       "const         -0.0014   4.69e-20  -2.89e+16      0.000      -0.001      -0.001\n",
       "Iphone X    4.337e-19   1.65e-18      0.262      0.793   -2.83e-18    3.69e-18\n",
       "==============================================================================\n",
       "Omnibus:                        1.026   Durbin-Watson:                   0.000\n",
       "Prob(Omnibus):                  0.599   Jarque-Bera (JB):               73.125\n",
       "Skew:                           0.000   Prob(JB):                     1.32e-16\n",
       "Kurtosis:                       0.000   Cond. No.                         35.3\n",
       "==============================================================================\n",
       "\n",
       "Warnings:\n",
       "[1] Standard Errors assume that the covariance matrix of the errors is correctly specified.\n",
       "\"\"\""
      ]
     },
     "execution_count": 26,
     "metadata": {},
     "output_type": "execute_result"
    }
   ],
   "source": [
    "x_1 = sm.add_constant(dfRes) #Adiciona uma coluna de com 1 tabela com a variável X\n",
    "y_1 = [np.mean(dfRes)] * len(treino) #lista com o mesmo nº de média que o comprimento do treino\n",
    "\n",
    "model = sm.OLS(y_1,x_1)\n",
    "results = model.fit()\n",
    "results.summary()"
   ]
  },
  {
   "cell_type": "code",
   "execution_count": 27,
   "metadata": {},
   "outputs": [
    {
     "data": {
      "image/png": "[encoded data removed]",
      "text/plain": [
       "<Figure size 432x288 with 1 Axes>"
      ]
     },
     "metadata": {
      "needs_background": "light"
     },
     "output_type": "display_data"
    }
   ],
   "source": [
    "plt.scatter(dfRes,y_1);\n",
    "plt.xlabel(\"x: Retorno Iphone X\");\n",
    "plt.ylabel(\"y: Média (cte)\");"
   ]
  },
  {
   "cell_type": "markdown",
   "metadata": {},
   "source": [
    "* __Modelo de Regressão Linear Múltipla (Multiple Linear Regression)__<br>\n",
    "$$\\hat{y}(t)=\\beta_{0}+ \\beta_{1}x_{1}+ \\beta_{2}x_{2} + \\cdots + \\beta_{8}x_{8}+ \\epsilon_{i}$$\n",
    "Em que $\\beta_{i}$ é o coeficiente, $\\epsilon_{i}$ é o erro aleatório da medida i, $\\hat{y}(t)$ é o valor de y previsto no 'instante' i."
   ]
  },
  {
   "cell_type": "code",
   "execution_count": 28,
   "metadata": {},
   "outputs": [],
   "source": [
    "listaRMS=[]\n",
    "for coluna in colExp:\n",
    "    rms = mmq(treino[coluna], dfRes[colRes])\n",
    "    listaRMS.append(rms)"
   ]
  },
  {
   "cell_type": "code",
   "execution_count": 29,
   "metadata": {},
   "outputs": [
    {
     "data": {
      "text/html": [
       "<table class=\"simpletable\">\n",
       "<caption>OLS Regression Results</caption>\n",
       "<tr>\n",
       "  <th>Dep. Variable:</th>        <td>Iphone X</td>     <th>  R-squared:         </th> <td>   0.070</td>\n",
       "</tr>\n",
       "<tr>\n",
       "  <th>Model:</th>                   <td>OLS</td>       <th>  Adj. R-squared:    </th> <td>   0.030</td>\n",
       "</tr>\n",
       "<tr>\n",
       "  <th>Method:</th>             <td>Least Squares</td>  <th>  F-statistic:       </th> <td>   1.744</td>\n",
       "</tr>\n",
       "<tr>\n",
       "  <th>Date:</th>             <td>Sat, 25 May 2019</td> <th>  Prob (F-statistic):</th>  <td>0.0907</td> \n",
       "</tr>\n",
       "<tr>\n",
       "  <th>Time:</th>                 <td>03:29:02</td>     <th>  Log-Likelihood:    </th> <td>  425.34</td>\n",
       "</tr>\n",
       "<tr>\n",
       "  <th>No. Observations:</th>      <td>   195</td>      <th>  AIC:               </th> <td>  -832.7</td>\n",
       "</tr>\n",
       "<tr>\n",
       "  <th>Df Residuals:</th>          <td>   186</td>      <th>  BIC:               </th> <td>  -803.2</td>\n",
       "</tr>\n",
       "<tr>\n",
       "  <th>Df Model:</th>              <td>     8</td>      <th>                     </th>     <td> </td>   \n",
       "</tr>\n",
       "<tr>\n",
       "  <th>Covariance Type:</th>      <td>nonrobust</td>    <th>                     </th>     <td> </td>   \n",
       "</tr>\n",
       "</table>\n",
       "<table class=\"simpletable\">\n",
       "<tr>\n",
       "         <td></td>           <th>coef</th>     <th>std err</th>      <th>t</th>      <th>P>|t|</th>  <th>[0.025</th>    <th>0.975]</th>  \n",
       "</tr>\n",
       "<tr>\n",
       "  <th>const</th>          <td>   -0.0012</td> <td>    0.002</td> <td>   -0.609</td> <td> 0.544</td> <td>   -0.005</td> <td>    0.003</td>\n",
       "</tr>\n",
       "<tr>\n",
       "  <th>Iphone 8 Plus</th>  <td>    0.0041</td> <td>    0.060</td> <td>    0.068</td> <td> 0.946</td> <td>   -0.114</td> <td>    0.122</td>\n",
       "</tr>\n",
       "<tr>\n",
       "  <th>Iphone 7</th>       <td>    0.0748</td> <td>    0.062</td> <td>    1.209</td> <td> 0.228</td> <td>   -0.047</td> <td>    0.197</td>\n",
       "</tr>\n",
       "<tr>\n",
       "  <th>Iphone 7 Plus</th>  <td>    0.0802</td> <td>    0.059</td> <td>    1.353</td> <td> 0.178</td> <td>   -0.037</td> <td>    0.197</td>\n",
       "</tr>\n",
       "<tr>\n",
       "  <th>Galaxy S8</th>      <td>    0.0283</td> <td>    0.066</td> <td>    0.431</td> <td> 0.667</td> <td>   -0.101</td> <td>    0.158</td>\n",
       "</tr>\n",
       "<tr>\n",
       "  <th>Galaxy S8 Plus</th> <td>    0.0756</td> <td>    0.059</td> <td>    1.276</td> <td> 0.203</td> <td>   -0.041</td> <td>    0.193</td>\n",
       "</tr>\n",
       "<tr>\n",
       "  <th>Galaxy S9</th>      <td>    0.1035</td> <td>    0.051</td> <td>    2.017</td> <td> 0.045</td> <td>    0.002</td> <td>    0.205</td>\n",
       "</tr>\n",
       "<tr>\n",
       "  <th>Galaxy S9 Plus</th> <td>    0.0580</td> <td>    0.060</td> <td>    0.960</td> <td> 0.338</td> <td>   -0.061</td> <td>    0.177</td>\n",
       "</tr>\n",
       "<tr>\n",
       "  <th>Dolar</th>          <td>   -0.1085</td> <td>    0.197</td> <td>   -0.550</td> <td> 0.583</td> <td>   -0.497</td> <td>    0.280</td>\n",
       "</tr>\n",
       "</table>\n",
       "<table class=\"simpletable\">\n",
       "<tr>\n",
       "  <th>Omnibus:</th>       <td>29.159</td> <th>  Durbin-Watson:     </th> <td>   2.105</td>\n",
       "</tr>\n",
       "<tr>\n",
       "  <th>Prob(Omnibus):</th> <td> 0.000</td> <th>  Jarque-Bera (JB):  </th> <td> 188.437</td>\n",
       "</tr>\n",
       "<tr>\n",
       "  <th>Skew:</th>          <td> 0.152</td> <th>  Prob(JB):          </th> <td>1.21e-41</td>\n",
       "</tr>\n",
       "<tr>\n",
       "  <th>Kurtosis:</th>      <td> 7.806</td> <th>  Cond. No.          </th> <td>    98.7</td>\n",
       "</tr>\n",
       "</table><br/><br/>Warnings:<br/>[1] Standard Errors assume that the covariance matrix of the errors is correctly specified."
      ],
      "text/plain": [
       "<class 'statsmodels.iolib.summary.Summary'>\n",
       "\"\"\"\n",
       "                            OLS Regression Results                            \n",
       "==============================================================================\n",
       "Dep. Variable:               Iphone X   R-squared:                       0.070\n",
       "Model:                            OLS   Adj. R-squared:                  0.030\n",
       "Method:                 Least Squares   F-statistic:                     1.744\n",
       "Date:                Sat, 25 May 2019   Prob (F-statistic):             0.0907\n",
       "Time:                        03:29:02   Log-Likelihood:                 425.34\n",
       "No. Observations:                 195   AIC:                            -832.7\n",
       "Df Residuals:                     186   BIC:                            -803.2\n",
       "Df Model:                           8                                         \n",
       "Covariance Type:            nonrobust                                         \n",
       "==================================================================================\n",
       "                     coef    std err          t      P>|t|      [0.025      0.975]\n",
       "----------------------------------------------------------------------------------\n",
       "const             -0.0012      0.002     -0.609      0.544      -0.005       0.003\n",
       "Iphone 8 Plus      0.0041      0.060      0.068      0.946      -0.114       0.122\n",
       "Iphone 7           0.0748      0.062      1.209      0.228      -0.047       0.197\n",
       "Iphone 7 Plus      0.0802      0.059      1.353      0.178      -0.037       0.197\n",
       "Galaxy S8          0.0283      0.066      0.431      0.667      -0.101       0.158\n",
       "Galaxy S8 Plus     0.0756      0.059      1.276      0.203      -0.041       0.193\n",
       "Galaxy S9          0.1035      0.051      2.017      0.045       0.002       0.205\n",
       "Galaxy S9 Plus     0.0580      0.060      0.960      0.338      -0.061       0.177\n",
       "Dolar             -0.1085      0.197     -0.550      0.583      -0.497       0.280\n",
       "==============================================================================\n",
       "Omnibus:                       29.159   Durbin-Watson:                   2.105\n",
       "Prob(Omnibus):                  0.000   Jarque-Bera (JB):              188.437\n",
       "Skew:                           0.152   Prob(JB):                     1.21e-41\n",
       "Kurtosis:                       7.806   Cond. No.                         98.7\n",
       "==============================================================================\n",
       "\n",
       "Warnings:\n",
       "[1] Standard Errors assume that the covariance matrix of the errors is correctly specified.\n",
       "\"\"\""
      ]
     },
     "execution_count": 29,
     "metadata": {},
     "output_type": "execute_result"
    }
   ],
   "source": [
    "regressao(dfExp,dfRes).summary()"
   ]
  },
  {
   "cell_type": "code",
   "execution_count": 30,
   "metadata": {},
   "outputs": [
    {
     "ename": "TypeError",
     "evalue": "can't multiply sequence by non-int of type 'numpy.float64'",
     "output_type": "error",
     "traceback": [
      "\u001b[1;31m---------------------------------------------------------------------------\u001b[0m",
      "\u001b[1;31mTypeError\u001b[0m                                 Traceback (most recent call last)",
      "\u001b[1;32m<ipython-input-30-8d5add8c0815>\u001b[0m in \u001b[0;36m<module>\u001b[1;34m()\u001b[0m\n\u001b[0;32m      3\u001b[0m     \u001b[0myprev\u001b[0m\u001b[1;33m=\u001b[0m\u001b[1;36m0\u001b[0m\u001b[1;33m\u001b[0m\u001b[0m\n\u001b[0;32m      4\u001b[0m     \u001b[1;32mfor\u001b[0m \u001b[0mi\u001b[0m \u001b[1;32min\u001b[0m \u001b[0mrange\u001b[0m\u001b[1;33m(\u001b[0m\u001b[0mlen\u001b[0m\u001b[1;33m(\u001b[0m\u001b[0mcolExp\u001b[0m\u001b[1;33m)\u001b[0m\u001b[1;33m)\u001b[0m\u001b[1;33m:\u001b[0m\u001b[1;33m\u001b[0m\u001b[0m\n\u001b[1;32m----> 5\u001b[1;33m         \u001b[0myprev\u001b[0m \u001b[1;33m+=\u001b[0m \u001b[0mlistaRMS\u001b[0m\u001b[1;33m[\u001b[0m\u001b[0mi\u001b[0m\u001b[1;33m]\u001b[0m\u001b[1;33m*\u001b[0m\u001b[0mrow\u001b[0m\u001b[1;33m[\u001b[0m\u001b[0mcolExp\u001b[0m\u001b[1;33m[\u001b[0m\u001b[0mi\u001b[0m\u001b[1;33m]\u001b[0m\u001b[1;33m]\u001b[0m\u001b[1;33m\u001b[0m\u001b[0m\n\u001b[0m\u001b[0;32m      6\u001b[0m     \u001b[0myPrevisto\u001b[0m\u001b[1;33m.\u001b[0m\u001b[0mappend\u001b[0m\u001b[1;33m(\u001b[0m\u001b[0myprev\u001b[0m\u001b[1;33m)\u001b[0m\u001b[1;33m\u001b[0m\u001b[0m\n\u001b[0;32m      7\u001b[0m \u001b[1;33m\u001b[0m\u001b[0m\n",
      "\u001b[1;31mTypeError\u001b[0m: can't multiply sequence by non-int of type 'numpy.float64'"
     ]
    }
   ],
   "source": [
    "yPrevisto=[]\n",
    "for index, row in dfExp.iterrows():\n",
    "    yprev=0\n",
    "    for i in range(len(colExp)):\n",
    "        yprev += listaRMS[i]*row[colExp[i]]\n",
    "    yPrevisto.append(yprev)\n",
    "\n",
    "mmq(yPrevisto, dfRes)"
   ]
  },
  {
   "cell_type": "code",
   "execution_count": null,
   "metadata": {},
   "outputs": [],
   "source": [
    "regressao(yPrevisto,dfRes).summary()"
   ]
  },
  {
   "cell_type": "markdown",
   "metadata": {
    "collapsed": true
   },
   "source": [
    "o MODELO DOS K VIZINHOS MAIS PRÓXIMOS (K-Nearest Neighbors Regression)"
   ]
  },
  {
   "cell_type": "code",
   "execution_count": null,
   "metadata": {},
   "outputs": [],
   "source": [
    "# X=tabela['Dolar']\n",
    "# y=tabela.loc[:,['Iphone 7','Iphone 7 Plus','Iphone X', 'Iphone 8 Plus', 'Galaxy S8', 'Galaxy S8 Plus', 'Galaxy S9', 'Galaxy S9 Plus']]\n",
    "# X_train,X_test,y_train,y_test=train_test_split(X,y,test_size=.3,random_state=0)"
   ]
  },
  {
   "cell_type": "code",
   "execution_count": null,
   "metadata": {},
   "outputs": [],
   "source": [
    "# clf=KNeighborsRegressor(1)\n",
    "# clf.fit(X_train,y_train)\n",
    "# y_pred=clf.predict(X_test)\n",
    "# print(mean_squared_error(y_test,y_pred))"
   ]
  },
  {
   "cell_type": "markdown",
   "metadata": {
    "collapsed": true
   },
   "source": [
    "o MODELO DE REGRESSÃO LINEAR (Multiple Linear Regression)"
   ]
  },
  {
   "cell_type": "code",
   "execution_count": null,
   "metadata": {},
   "outputs": [],
   "source": [
    "x = retorno['Dolar']\n",
    "xb = x.mean()\n",
    "x_v = np.linspace(x.min(), x.max(), 500)\n",
    "\n",
    "\n",
    "def Regressao():\n",
    "    betas = []\n",
    "    valoresY = []\n",
    "    \n",
    "    for i in retorno.columns[:-1]:\n",
    "        y = retorno[i]\n",
    "\n",
    "        #beta^0 e beta^1\n",
    "        yb = y.mean()\n",
    "\n",
    "\n",
    "        Sxy = ((x -xb)*(y -yb)).sum()\n",
    "        Sxx = ((x -xb)**2).sum()\n",
    "\n",
    "        b1 = Sxy/Sxx\n",
    "        b0 = yb - b1*xb\n",
    "        betas.append([b0, b1])\n",
    "        \n",
    "        y_v = b0 + b1*x_v\n",
    "        valoresY.append(y_v)\n",
    "        \n",
    "    return [betas, valoresY]\n",
    "    \n",
    "#print(Regressao()[0]) ---> valores beta\n",
    "#len(Regressao()[1]) #---> valores Y"
   ]
  },
  {
   "cell_type": "code",
   "execution_count": null,
   "metadata": {},
   "outputs": [],
   "source": [
    "x = dfRes\n",
    "\n",
    "\n",
    "xb = x.mean()\n",
    "x_v = np.linspace(x.min(), x.max(), 500)\n",
    "\n",
    "\n",
    "def Regressao():\n",
    "    for i in retorno.columns[:-1]:\n",
    "        y = retorno[i]\n",
    "\n",
    "        #beta^0 e beta^1\n",
    "        yb = y.mean()\n",
    "\n",
    "\n",
    "        Sxy = ((x -xb)*(y -yb)).sum()\n",
    "        Sxx = ((x -xb)**2).sum()\n",
    "\n",
    "        b1 = Sxy/Sxx\n",
    "        b0 = yb - b1*xb\n",
    "        betas.append([b0, b1])\n",
    "        \n",
    "        y_v = b0 + b1*x_v\n",
    "        valoresY.append(y_v)\n",
    "        \n",
    "    return \n",
    "    \n",
    "#print(Regressao()[0]) ---> valores beta\n",
    "#len(Regressao()[1]) #---> valores Y"
   ]
  },
  {
   "cell_type": "code",
   "execution_count": null,
   "metadata": {},
   "outputs": [],
   "source": [
    "x = retorno['Dolar']\n",
    "xb = x.mean()\n",
    "x_v = np.linspace(x.min(), x.max(), 500)\n",
    "\n",
    "\n",
    "def reg(dataf):\n",
    "    betas = []\n",
    "    valoresY = []\n",
    "    \n",
    "    for i in dataf.columns[:-1]:\n",
    "        y = retorno[i]\n",
    "\n",
    "        #beta^0 e beta^1\n",
    "        yb = y.mean()\n",
    "\n",
    "\n",
    "        Sxy = ((x -xb)*(y -yb)).sum()\n",
    "        Sxx = ((x -xb)**2).sum()\n",
    "\n",
    "        b1 = Sxy/Sxx\n",
    "        b0 = yb - b1*xb\n",
    "        betas.append([b0, b1])\n",
    "        \n",
    "        y_v = b0 + b1*x_v\n",
    "        valoresY.append(y_v)\n",
    "        \n",
    "    return [betas, valoresY]\n",
    "    \n",
    "#print(Regressao()[0]) ---> valores beta\n",
    "#len(Regressao()[1]) #---> valores Y"
   ]
  },
  {
   "cell_type": "code",
   "execution_count": null,
   "metadata": {},
   "outputs": [],
   "source": [
    "valoresY = Regressao()[1]\n",
    "for i in range(len(retorno.columns[:-1])):\n",
    "    plt.plot(x_v,valoresY[i], color=\"r\") # resultados da regressão\n",
    "    plt.scatter(x, y); # dados\n",
    "    plt.xlabel(\"x: dolar\");\n",
    "    plt.ylabel(\"y: celular\");\n",
    "    plt.show() #informar os nomes de celular em cada grafico"
   ]
  },
  {
   "cell_type": "code",
   "execution_count": null,
   "metadata": {},
   "outputs": [],
   "source": [
    "e = y - (b0 + b1*x) # Escreva sua fórmula dos resíduos aqui\n",
    "\n",
    "stats.probplot(e, dist='norm', plot=plt); # Verifique graficamente  se é uma normal - como fazer isso?"
   ]
  },
  {
   "cell_type": "markdown",
   "metadata": {
    "collapsed": true
   },
   "source": [
    "o MODELO DE ÁRVORES DE REGRESSÃO (Decision Tree Regression)"
   ]
  },
  {
   "cell_type": "code",
   "execution_count": null,
   "metadata": {},
   "outputs": [],
   "source": []
  },
  {
   "cell_type": "code",
   "execution_count": null,
   "metadata": {},
   "outputs": [],
   "source": []
  },
  {
   "cell_type": "markdown",
   "metadata": {
    "collapsed": true
   },
   "source": [
    "___\n",
    "## D. PROCESSO E ESTATÍSTICAS DE VALIDAÇÃO"
   ]
  },
  {
   "cell_type": "markdown",
   "metadata": {},
   "source": [
    "[Esse item depende dos resultados das modelagens anteriores! Organize-os aqui de forma clara!]"
   ]
  },
  {
   "cell_type": "code",
   "execution_count": null,
   "metadata": {},
   "outputs": [],
   "source": []
  },
  {
   "cell_type": "code",
   "execution_count": null,
   "metadata": {},
   "outputs": [],
   "source": []
  },
  {
   "cell_type": "code",
   "execution_count": null,
   "metadata": {},
   "outputs": [],
   "source": []
  },
  {
   "cell_type": "code",
   "execution_count": null,
   "metadata": {},
   "outputs": [],
   "source": []
  },
  {
   "cell_type": "markdown",
   "metadata": {},
   "source": [
    "___\n",
    "## E. CONCLUSÃO"
   ]
  },
  {
   "cell_type": "code",
   "execution_count": null,
   "metadata": {},
   "outputs": [],
   "source": []
  },
  {
   "cell_type": "code",
   "execution_count": null,
   "metadata": {},
   "outputs": [],
   "source": []
  },
  {
   "cell_type": "code",
   "execution_count": null,
   "metadata": {},
   "outputs": [],
   "source": []
  },
  {
   "cell_type": "code",
   "execution_count": null,
   "metadata": {},
   "outputs": [],
   "source": []
  },
  {
   "cell_type": "markdown",
   "metadata": {},
   "source": [
    "___\n",
    "## F. REFERÊNCIAS BIBLIOGRÁFICAS"
   ]
  },
  {
   "cell_type": "markdown",
   "metadata": {},
   "source": [
    "https://br.investing.com/ $\\rightarrow$ site para busca da cotação dos dolores\n",
    "_________\n",
    "https://www.buscape.com.br $\\rightarrow$ site para busca de histórico dos preços"
   ]
  }
 ],
 "metadata": {
  "anaconda-cloud": {},
  "kernelspec": {
   "display_name": "Python 3",
   "language": "python",
   "name": "python3"
  },
  "language_info": {
   "codemirror_mode": {
    "name": "ipython",
    "version": 3
   },
   "file_extension": ".py",
   "mimetype": "text/x-python",
   "name": "python",
   "nbconvert_exporter": "python",
   "pygments_lexer": "ipython3",
   "version": "3.7.0"
  }
 },
 "nbformat": 4,
 "nbformat_minor": 1
}
