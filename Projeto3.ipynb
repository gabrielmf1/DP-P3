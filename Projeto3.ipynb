{
 "cells": [
  {
   "cell_type": "markdown",
   "metadata": {},
   "source": [
    "__Seções:__<br>\n",
    "* <a href='#itemA'>Seção A</a> <br>\n",
    "* <a href='#itemB'>Seção B</a> <br>\n",
    "* <a href='#itemC'>Seção C</a> <br>\n",
    "    * <a href='#itemC1'>Seção C.1</a> <br>\n",
    "    * <a href='#itemC2'>Seção C.2</a> <br>\n",
    "    * <a href='#itemC3'>Seção C.3</a> <br>\n",
    "    * <a href='#itemC4'>Seção C.4</a> <br>\n",
    "* <a href='#itemD'>Seção D</a> <br>\n",
    "* <a href='#itemE'>Seção E</a> <br>\n",
    "* <a href='#itemF'>Seção F</a> <br>"
   ]
  },
  {
   "cell_type": "code",
   "execution_count": 1,
   "metadata": {},
   "outputs": [],
   "source": [
    "####################################################################\n",
    "###################### Importando Bibliotecas ######################\n",
    "\n",
    "from sklearn.neighbors import KNeighborsRegressor\n",
    "from sklearn.metrics import mean_squared_error\n",
    "import matplotlib.pyplot as plt\n",
    "import statsmodels.api as sm\n",
    "from random import randint\n",
    "from scipy import stats\n",
    "import pandas as pd\n",
    "import numpy as np\n",
    "import itertools\n",
    "import requests\n",
    "import math\n",
    "import re\n",
    "import os\n",
    "\n",
    "from sklearn.model_selection import train_test_split\n",
    "\n",
    "####################################################################\n",
    "#################### Funções Preparar Databases ####################\n",
    "\n",
    "#Recebe uma URL e retorna o código HTML da página\n",
    "def baixarhtml(url):\n",
    "    html = requests.get(url).text.splitlines()\n",
    "    return html\n",
    "\n",
    "#Recebe lista de URLs do Buscape e o nome de cada variável e retorna um Dataframe \n",
    "def gerarBD(lista):\n",
    "    table = dolar.copy()\n",
    "    \n",
    "    for num in range(len(lista)):\n",
    "        produto, url = lista[num][0], lista[num][1]\n",
    "        \n",
    "        #Pega ID do produto do buscape usando a url fornecida\n",
    "        code = baixarhtml(url)\n",
    "        for num_linha in range(len(code)):\n",
    "            match = re.findall('\"productId\":[0-9]*', code[num_linha])\n",
    "            if len(match)>0:\n",
    "                id = match[0].split(':')[1]\n",
    "\n",
    "        #Baixa BD dos preços\n",
    "        code = baixarhtml(\"https://www.buscape.com.br/async/history/idu/\" + id + \"/days/365\")\n",
    "\n",
    "        #Pega só a parte dos dados e cria tabela bd\n",
    "        bd = pd.read_json(code[0].split('\"historicos\":')[1][:-1])\n",
    "\n",
    "        #Converte data pro formato e define essa coluna como índice\n",
    "        bd['data'] = pd.to_datetime(bd['data'],  format='%d/%m/%Y')\n",
    "        bd.set_index(bd['data'], inplace=True)\n",
    "        \n",
    "        #Adiciona a coluna com o nome do produto o preço do produto\n",
    "        table[produto] = bd.loc[:,['precomed']]\n",
    "        table[produto] = table[produto].astype(float)\n",
    "    \n",
    "    table = table.dropna(how='any') # Tira linha que tiver algum valor NaN\n",
    "    return table\n",
    "\n",
    "\n",
    "####################################################################\n",
    "############################# Funções : #############################\n",
    "\n",
    "def regressao(lX,lY):\n",
    "    Xreg = sm.add_constant(lX)\n",
    "    model = sm.OLS(lY,Xreg)\n",
    "    results = model.fit()\n",
    "    return results\n",
    "\n",
    "#Função retorno\n",
    "def func_retorno(n,n_ant):\n",
    "    val = 0\n",
    "    if n_ant == 0:\n",
    "        print('tem zero')\n",
    "    else:\n",
    "        val = math.log(n/n_ant)\n",
    "    return val\n",
    "\n",
    "\n",
    "####################################################################\n",
    "######## Funções que existem em bibliotecas mas que criei: ########\n",
    "\n",
    "# RMS = Erro Quadrático Médio (Mean Squared Error) (testada)\n",
    "# O mesmo que: math.sqrt(mean_squared_error(orig, pred)\n",
    "def rms(orig, pred):\n",
    "    n, soma = len(orig), 0\n",
    "    \n",
    "    for i in range(n):\n",
    "        soma += (orig[i] - pred[i])**2\n",
    "    \n",
    "    val = round(math.sqrt(soma/n),8)\n",
    "    return val\n",
    "\n",
    "\n",
    "# MMQ = Método dos Mínimos Quadrados (Least squares) (testada)\n",
    "\n",
    "def mmq(lX,lY):\n",
    "    mediaX, mediaY = np.mean(lX), np.mean(lY)\n",
    "\n",
    "    Sxx, Sxy = 0, 0\n",
    "    for num in range(len(lX)):\n",
    "        deltaX, deltaY = (lX[num] - mediaX), (lY[num] - mediaY)\n",
    "        Sxx += deltaX **2\n",
    "        Sxy += deltaX * deltaY\n",
    "\n",
    "        b1 = Sxy/Sxx\n",
    "        b0 = mediaY - b1*mediaX\n",
    "\n",
    "    return [b0,b1]"
   ]
  },
  {
   "cell_type": "markdown",
   "metadata": {},
   "source": [
    "___\n",
    "# Ciência dos Dados - PROJETO 3 - INSPER\n",
    "___\n",
    "### Mariana Abrantes, Gabriel Couto e Gabriel Miras\n",
    "___\n",
    "\n",
    "# Previsão do preço do Iphone X através do preço do dolar e de outros 7 smartphones do mercado"
   ]
  },
  {
   "cell_type": "markdown",
   "metadata": {},
   "source": [
    "<a id='itemA'></a>\n",
    "___\n",
    "\n",
    "## A. INTRODUÇÃO\n",
    "\n",
    "Nestes últimos anos, com a instabilidade política e socioeconômica do Brasil, o preço do dólar está em constante variação. Consequentemente, os valores sobre produtos estrangeiros também mudam. Além disso, o preço de outros dispositivos do mercado podem influenciar o preço de um produto. Ao visualizar esse cenário, gostaríamos de analisar a influência da alteração do valor do dólar, de 3 aparelhos da Apple e de 4 aparelhos da Samsung sobre o preço do Iphone X. <br>\n",
    "\n",
    "Escolhemos criar modelos preditivos usando 7 modelos de smarthphones disponíveis no mercado e o preço do dólar para fazermos previsões a cerca do preço do Iphone X.<br>\n",
    "<br>\n",
    "__Variável Dependente (resposta) - Y : Preço do Iphone X__ (Váriavel de interesse cujo comportamento se deseja explicar)<br>\n",
    "__Variável Independente (explicativa) - X: Dolar e o preço dos outros celulares__ (Usadas para explicar Y)<br>"
   ]
  },
  {
   "cell_type": "markdown",
   "metadata": {},
   "source": [
    "<a id='itemB'></a>\n",
    "___\n",
    "\n",
    "## B. MINERANDO DADOS e CARACTERÍSTICAS DO DATASET\n",
    "\n",
    "___\n",
    "### B.1) Minerando Dados\n",
    "\n",
    "__Preço do Dólar__ <br>\n",
    "&emsp;O DataFrame foi obtido no [site](https://economia.uol.com.br/cotacoes/cambio/dolar-comercial-estados-unidos/) através do [link](https://api.cotacoes.uol.com/currency/interday/list/years/?format=JSON&fields=askvalue,date&currency=1) em JSON e foi filtrado da seguinte forma:\n",
    " * a) Definimos a coluna 'Data' como índice da tabela\n",
    " * b) Pegamos apenas a coluna 'Compra' com o preço do dolar no dia e o índice das linhas\n",
    " * c) Definimos a coluna 'Compra' do tipo float e renomeamos ela pra \"Dolar\"\n",
    " \n",
    "__Tabela de Preços dos Smartphones__ <br>\n",
    "Os dados de cada celular foram retirados do histórico de preço médio do site buscape. <br>\n",
    "* a) A função gerarBD() recebe uma lista com nome e url do celular para retornar um Dataframe de preço dos celulares e do dolar por dia.<br>\n",
    "Para cada linha da lista:\n",
    "    * 1) Cria uma cópia do Dataframe dolar chamado table\n",
    "    * 2) Baixa o código da url fornecida e captura o ID do produto\n",
    "    * 3) Com o ID baixamos o histórico de preço médio do aparelho em JSON e criamos o Dataframe bd com ele\n",
    "    * 4) Usamos .join para unir as colunas num novo dataframe\n",
    "    * 5) Definimos a coluna 'Data' como do tipo datetime e em seguida definimos essa coluna como índice da tabela<br>\n",
    "* b) Removemos as linhas que possuam ao menos um valor vazio e retornamos essa nova tabela como resultado da função"
   ]
  },
  {
   "cell_type": "markdown",
   "metadata": {},
   "source": [
    "O dataset reune os preços diarios dos aparelhos durante um período de 6 meses, além de nos dar a informação de seus preços médios, preço mais baixo e preço mais elevado."
   ]
  },
  {
   "cell_type": "code",
   "execution_count": 2,
   "metadata": {},
   "outputs": [],
   "source": [
    "links = [\n",
    "    ['Iphone X',          \"https://www.buscape.com.br/smartphone-apple-iphone-x-64gb\"],\n",
    "    ['Iphone 8 Plus',     \"https://www.buscape.com.br/smartphone-apple-iphone-8-plus-64gb\"],\n",
    "    ['Iphone 7',          \"https://www.buscape.com.br/smartphone-apple-iphone-7-32gb\"],\n",
    "    ['Iphone 7 Plus',     \"https://www.buscape.com.br/smartphone-apple-iphone-7-plus-128gb\"],\n",
    "    ['Galaxy S8',         \"https://www.buscape.com.br/smartphone-samsung-galaxy-s8-sm-g950-64gb\"],\n",
    "    ['Galaxy S8 Plus',    \"https://www.buscape.com.br/smartphone-samsung-galaxy-s8-plus-sm-g955-128gb\"],\n",
    "    ['Galaxy S9',         \"https://www.buscape.com.br/smartphone-samsung-galaxy-s9-sm-g960-128gb\"],\n",
    "    ['Galaxy S9 Plus',    \"https://www.buscape.com.br/smartphone-samsung-galaxy-s9-plus-sm-g965-128gb\"]\n",
    "]"
   ]
  },
  {
   "cell_type": "markdown",
   "metadata": {},
   "source": [
    "__Carregando ou gerando e salvando  os dados para não precisar baixar e criar o dataframe a cada execução do código__<br>\n",
    "Se não houver o arquivo tabela.csv na pasta executa a função gerarBD() e salva o dataframe como tabela.csv, se já houver o arquivo tabela.csv carrega ele como tabela."
   ]
  },
  {
   "cell_type": "code",
   "execution_count": 3,
   "metadata": {
    "scrolled": true
   },
   "outputs": [
    {
     "data": {
      "text/html": [
       "<div>\n",
       "<style scoped>\n",
       "    .dataframe tbody tr th:only-of-type {\n",
       "        vertical-align: middle;\n",
       "    }\n",
       "\n",
       "    .dataframe tbody tr th {\n",
       "        vertical-align: top;\n",
       "    }\n",
       "\n",
       "    .dataframe thead th {\n",
       "        text-align: right;\n",
       "    }\n",
       "</style>\n",
       "<table border=\"1\" class=\"dataframe\">\n",
       "  <thead>\n",
       "    <tr style=\"text-align: right;\">\n",
       "      <th></th>\n",
       "      <th>Iphone X</th>\n",
       "      <th>Iphone 8 Plus</th>\n",
       "      <th>Iphone 7</th>\n",
       "      <th>Iphone 7 Plus</th>\n",
       "      <th>Galaxy S8</th>\n",
       "      <th>Galaxy S8 Plus</th>\n",
       "      <th>Galaxy S9</th>\n",
       "      <th>Galaxy S9 Plus</th>\n",
       "      <th>Dolar</th>\n",
       "    </tr>\n",
       "    <tr>\n",
       "      <th>data</th>\n",
       "      <th></th>\n",
       "      <th></th>\n",
       "      <th></th>\n",
       "      <th></th>\n",
       "      <th></th>\n",
       "      <th></th>\n",
       "      <th></th>\n",
       "      <th></th>\n",
       "      <th></th>\n",
       "    </tr>\n",
       "  </thead>\n",
       "  <tbody>\n",
       "    <tr>\n",
       "      <th>2018-05-22</th>\n",
       "      <td>5791.4575</td>\n",
       "      <td>4019.5854</td>\n",
       "      <td>3033.4468</td>\n",
       "      <td>3491.2202</td>\n",
       "      <td>3050.4950</td>\n",
       "      <td>4085.785</td>\n",
       "      <td>3956.2925</td>\n",
       "      <td>4479.7305</td>\n",
       "      <td>3.6447</td>\n",
       "    </tr>\n",
       "    <tr>\n",
       "      <th>2018-05-23</th>\n",
       "      <td>5853.7800</td>\n",
       "      <td>4057.0140</td>\n",
       "      <td>3043.2737</td>\n",
       "      <td>3406.8965</td>\n",
       "      <td>3061.1514</td>\n",
       "      <td>3672.570</td>\n",
       "      <td>3966.1755</td>\n",
       "      <td>4490.3880</td>\n",
       "      <td>3.6251</td>\n",
       "    </tr>\n",
       "    <tr>\n",
       "      <th>2018-05-24</th>\n",
       "      <td>5885.4900</td>\n",
       "      <td>3896.7625</td>\n",
       "      <td>2852.5547</td>\n",
       "      <td>3444.2380</td>\n",
       "      <td>2992.7668</td>\n",
       "      <td>4028.438</td>\n",
       "      <td>3966.7402</td>\n",
       "      <td>4502.2856</td>\n",
       "      <td>3.6483</td>\n",
       "    </tr>\n",
       "  </tbody>\n",
       "</table>\n",
       "</div>"
      ],
      "text/plain": [
       "             Iphone X  Iphone 8 Plus   Iphone 7  Iphone 7 Plus  Galaxy S8  \\\n",
       "data                                                                        \n",
       "2018-05-22  5791.4575      4019.5854  3033.4468      3491.2202  3050.4950   \n",
       "2018-05-23  5853.7800      4057.0140  3043.2737      3406.8965  3061.1514   \n",
       "2018-05-24  5885.4900      3896.7625  2852.5547      3444.2380  2992.7668   \n",
       "\n",
       "            Galaxy S8 Plus  Galaxy S9  Galaxy S9 Plus   Dolar  \n",
       "data                                                           \n",
       "2018-05-22        4085.785  3956.2925       4479.7305  3.6447  \n",
       "2018-05-23        3672.570  3966.1755       4490.3880  3.6251  \n",
       "2018-05-24        4028.438  3966.7402       4502.2856  3.6483  "
      ]
     },
     "execution_count": 3,
     "metadata": {},
     "output_type": "execute_result"
    }
   ],
   "source": [
    "#Se já tiver um arquivo tabela.csv salvo carrega ele, se não cria a tabela e salva ela\n",
    "exists = os.path.isfile('tabela.csv')\n",
    "if exists:\n",
    "    tabela = pd.read_csv('tabela.csv', sep=\",\")\n",
    "    tabela.index = tabela['data']\n",
    "    tabela = tabela.loc[:,list(tabela.columns)[1:]]\n",
    "else:\n",
    "    #baixar e botar em dataframe preço do dolar em real\n",
    "    codeDolar = baixarhtml('https://api.cotacoes.uol.com/currency/interday/list/years/?format=JSON&fields=askvalue,date&currency=1')\n",
    "    bdDolar = codeDolar[0].split('\"docs\":')[1][:-1]\n",
    "    bdDolar = re.sub('000000\"}'  ,'\"}', bdDolar)\n",
    "    dfDolar = pd.read_json(bdDolar)\n",
    "    dfDolar.columns = ['Dolar','Data']\n",
    "    dfDolar['Data'] = pd.to_datetime(dfDolar['Data'],  format='%Y%m%d')\n",
    "    dfDolar.index = dfDolar['Data']\n",
    "    dolar = dfDolar[['Dolar']]\n",
    "\n",
    "    #gera tabela\n",
    "    tabela = gerarBD(links)\n",
    "    tabela.to_csv('tabela.csv')\n",
    "\n",
    "tabela.head(3)"
   ]
  },
  {
   "cell_type": "markdown",
   "metadata": {},
   "source": [
    "__Calculamos o retorno de cada variável__ <br>\n",
    "o retorno de cada dia corresponde ao logaritmo natural do preço do produto no dia n+1 dividido pelo preço do produto no dia n. <br> $$retorno = \\ln \\Big(\\dfrac{P_{n+1}}{P_{n}}\\Big)$$"
   ]
  },
  {
   "cell_type": "code",
   "execution_count": 4,
   "metadata": {},
   "outputs": [],
   "source": [
    "df = tabela.copy()\n",
    "\n",
    "#Cria coluna com o valor da linha anterior\n",
    "for coluna in tabela.columns:\n",
    "    df[coluna+'-1'] = df[coluna].shift(1)\n",
    "\n",
    "df = df.iloc[1:,:] # Tira primeira linha (perdida pra fazer deltas)\n",
    "\n",
    "dic={}\n",
    "for coluna in tabela.columns:\n",
    "    lis,ind=[],[]\n",
    "    for index, row in df.iterrows():\n",
    "        retor = func_retorno(row[coluna],row[coluna+'-1'])\n",
    "        lis.append(retor)\n",
    "        ind.append(index)\n",
    "    dic[coluna]=lis\n",
    "\n",
    "retorno = pd.DataFrame(data=dic,index=ind)"
   ]
  },
  {
   "cell_type": "code",
   "execution_count": 5,
   "metadata": {},
   "outputs": [
    {
     "data": {
      "text/html": [
       "<div>\n",
       "<style scoped>\n",
       "    .dataframe tbody tr th:only-of-type {\n",
       "        vertical-align: middle;\n",
       "    }\n",
       "\n",
       "    .dataframe tbody tr th {\n",
       "        vertical-align: top;\n",
       "    }\n",
       "\n",
       "    .dataframe thead th {\n",
       "        text-align: right;\n",
       "    }\n",
       "</style>\n",
       "<table border=\"1\" class=\"dataframe\">\n",
       "  <thead>\n",
       "    <tr style=\"text-align: right;\">\n",
       "      <th></th>\n",
       "      <th>Iphone X</th>\n",
       "      <th>Iphone 8 Plus</th>\n",
       "      <th>Iphone 7</th>\n",
       "      <th>Iphone 7 Plus</th>\n",
       "      <th>Galaxy S8</th>\n",
       "      <th>Galaxy S8 Plus</th>\n",
       "      <th>Galaxy S9</th>\n",
       "      <th>Galaxy S9 Plus</th>\n",
       "      <th>Dolar</th>\n",
       "    </tr>\n",
       "  </thead>\n",
       "  <tbody>\n",
       "    <tr>\n",
       "      <th>2018-05-23</th>\n",
       "      <td>0.010704</td>\n",
       "      <td>0.009268</td>\n",
       "      <td>0.003234</td>\n",
       "      <td>-0.024450</td>\n",
       "      <td>0.003487</td>\n",
       "      <td>-0.106622</td>\n",
       "      <td>0.002495</td>\n",
       "      <td>0.002376</td>\n",
       "      <td>-0.005392</td>\n",
       "    </tr>\n",
       "    <tr>\n",
       "      <th>2018-05-24</th>\n",
       "      <td>0.005402</td>\n",
       "      <td>-0.040301</td>\n",
       "      <td>-0.064719</td>\n",
       "      <td>0.010901</td>\n",
       "      <td>-0.022593</td>\n",
       "      <td>0.092487</td>\n",
       "      <td>0.000142</td>\n",
       "      <td>0.002646</td>\n",
       "      <td>0.006379</td>\n",
       "    </tr>\n",
       "    <tr>\n",
       "      <th>2018-05-25</th>\n",
       "      <td>-0.001517</td>\n",
       "      <td>0.031066</td>\n",
       "      <td>0.045622</td>\n",
       "      <td>0.007526</td>\n",
       "      <td>0.044937</td>\n",
       "      <td>-0.088895</td>\n",
       "      <td>0.010331</td>\n",
       "      <td>-0.007334</td>\n",
       "      <td>0.005467</td>\n",
       "    </tr>\n",
       "  </tbody>\n",
       "</table>\n",
       "</div>"
      ],
      "text/plain": [
       "            Iphone X  Iphone 8 Plus  Iphone 7  Iphone 7 Plus  Galaxy S8  \\\n",
       "2018-05-23  0.010704       0.009268  0.003234      -0.024450   0.003487   \n",
       "2018-05-24  0.005402      -0.040301 -0.064719       0.010901  -0.022593   \n",
       "2018-05-25 -0.001517       0.031066  0.045622       0.007526   0.044937   \n",
       "\n",
       "            Galaxy S8 Plus  Galaxy S9  Galaxy S9 Plus     Dolar  \n",
       "2018-05-23       -0.106622   0.002495        0.002376 -0.005392  \n",
       "2018-05-24        0.092487   0.000142        0.002646  0.006379  \n",
       "2018-05-25       -0.088895   0.010331       -0.007334  0.005467  "
      ]
     },
     "execution_count": 5,
     "metadata": {},
     "output_type": "execute_result"
    }
   ],
   "source": [
    "retorno.head(3)"
   ]
  },
  {
   "cell_type": "markdown",
   "metadata": {},
   "source": [
    "___\n",
    "### B.2) Características do Dataset\n",
    "\n",
    "\n",
    "### BASE DE DADOS\n",
    "ffff"
   ]
  },
  {
   "cell_type": "markdown",
   "metadata": {},
   "source": [
    "### ANÁLISE DESCRITIVA"
   ]
  },
  {
   "cell_type": "markdown",
   "metadata": {},
   "source": [
    "Em nossa base de dados buscamos os preços de telefones das marcas Apple e Samsung, sendo eles Iphone X, Iphone 8 Plus, Iphone 7 plus, iphone 7, Galaxy S8, Galaxy S8 Plus, Galaxy S9 e Galaxy S9 Plus."
   ]
  },
  {
   "cell_type": "code",
   "execution_count": 6,
   "metadata": {},
   "outputs": [
    {
     "data": {
      "text/html": [
       "<div>\n",
       "<style scoped>\n",
       "    .dataframe tbody tr th:only-of-type {\n",
       "        vertical-align: middle;\n",
       "    }\n",
       "\n",
       "    .dataframe tbody tr th {\n",
       "        vertical-align: top;\n",
       "    }\n",
       "\n",
       "    .dataframe thead th {\n",
       "        text-align: right;\n",
       "    }\n",
       "</style>\n",
       "<table border=\"1\" class=\"dataframe\">\n",
       "  <thead>\n",
       "    <tr style=\"text-align: right;\">\n",
       "      <th></th>\n",
       "      <th>Iphone X</th>\n",
       "      <th>Iphone 8 Plus</th>\n",
       "      <th>Iphone 7</th>\n",
       "      <th>Iphone 7 Plus</th>\n",
       "      <th>Galaxy S8</th>\n",
       "      <th>Galaxy S8 Plus</th>\n",
       "      <th>Galaxy S9</th>\n",
       "      <th>Galaxy S9 Plus</th>\n",
       "      <th>Dolar</th>\n",
       "    </tr>\n",
       "  </thead>\n",
       "  <tbody>\n",
       "    <tr>\n",
       "      <th>Iphone X</th>\n",
       "      <td>1.000000</td>\n",
       "      <td>0.077340</td>\n",
       "      <td>0.153120</td>\n",
       "      <td>0.150596</td>\n",
       "      <td>0.074914</td>\n",
       "      <td>0.057238</td>\n",
       "      <td>0.153962</td>\n",
       "      <td>0.105623</td>\n",
       "      <td>-0.000626</td>\n",
       "    </tr>\n",
       "    <tr>\n",
       "      <th>Iphone 8 Plus</th>\n",
       "      <td>0.077340</td>\n",
       "      <td>1.000000</td>\n",
       "      <td>0.134727</td>\n",
       "      <td>0.199152</td>\n",
       "      <td>0.086202</td>\n",
       "      <td>-0.018669</td>\n",
       "      <td>0.091178</td>\n",
       "      <td>0.017414</td>\n",
       "      <td>-0.014322</td>\n",
       "    </tr>\n",
       "    <tr>\n",
       "      <th>Iphone 7</th>\n",
       "      <td>0.153120</td>\n",
       "      <td>0.134727</td>\n",
       "      <td>1.000000</td>\n",
       "      <td>0.377102</td>\n",
       "      <td>-0.063667</td>\n",
       "      <td>-0.016796</td>\n",
       "      <td>-0.120391</td>\n",
       "      <td>-0.001215</td>\n",
       "      <td>-0.045196</td>\n",
       "    </tr>\n",
       "    <tr>\n",
       "      <th>Iphone 7 Plus</th>\n",
       "      <td>0.150596</td>\n",
       "      <td>0.199152</td>\n",
       "      <td>0.377102</td>\n",
       "      <td>1.000000</td>\n",
       "      <td>0.007376</td>\n",
       "      <td>-0.022155</td>\n",
       "      <td>-0.021023</td>\n",
       "      <td>-0.040070</td>\n",
       "      <td>0.079599</td>\n",
       "    </tr>\n",
       "    <tr>\n",
       "      <th>Galaxy S8</th>\n",
       "      <td>0.074914</td>\n",
       "      <td>0.086202</td>\n",
       "      <td>-0.063667</td>\n",
       "      <td>0.007376</td>\n",
       "      <td>1.000000</td>\n",
       "      <td>-0.063318</td>\n",
       "      <td>0.143817</td>\n",
       "      <td>0.146873</td>\n",
       "      <td>-0.078579</td>\n",
       "    </tr>\n",
       "    <tr>\n",
       "      <th>Galaxy S8 Plus</th>\n",
       "      <td>0.057238</td>\n",
       "      <td>-0.018669</td>\n",
       "      <td>-0.016796</td>\n",
       "      <td>-0.022155</td>\n",
       "      <td>-0.063318</td>\n",
       "      <td>1.000000</td>\n",
       "      <td>-0.123022</td>\n",
       "      <td>-0.115546</td>\n",
       "      <td>-0.039319</td>\n",
       "    </tr>\n",
       "    <tr>\n",
       "      <th>Galaxy S9</th>\n",
       "      <td>0.153962</td>\n",
       "      <td>0.091178</td>\n",
       "      <td>-0.120391</td>\n",
       "      <td>-0.021023</td>\n",
       "      <td>0.143817</td>\n",
       "      <td>-0.123022</td>\n",
       "      <td>1.000000</td>\n",
       "      <td>0.319579</td>\n",
       "      <td>0.049093</td>\n",
       "    </tr>\n",
       "    <tr>\n",
       "      <th>Galaxy S9 Plus</th>\n",
       "      <td>0.105623</td>\n",
       "      <td>0.017414</td>\n",
       "      <td>-0.001215</td>\n",
       "      <td>-0.040070</td>\n",
       "      <td>0.146873</td>\n",
       "      <td>-0.115546</td>\n",
       "      <td>0.319579</td>\n",
       "      <td>1.000000</td>\n",
       "      <td>0.032512</td>\n",
       "    </tr>\n",
       "    <tr>\n",
       "      <th>Dolar</th>\n",
       "      <td>-0.000626</td>\n",
       "      <td>-0.014322</td>\n",
       "      <td>-0.045196</td>\n",
       "      <td>0.079599</td>\n",
       "      <td>-0.078579</td>\n",
       "      <td>-0.039319</td>\n",
       "      <td>0.049093</td>\n",
       "      <td>0.032512</td>\n",
       "      <td>1.000000</td>\n",
       "    </tr>\n",
       "  </tbody>\n",
       "</table>\n",
       "</div>"
      ],
      "text/plain": [
       "                Iphone X  Iphone 8 Plus  Iphone 7  Iphone 7 Plus  Galaxy S8  \\\n",
       "Iphone X        1.000000       0.077340  0.153120       0.150596   0.074914   \n",
       "Iphone 8 Plus   0.077340       1.000000  0.134727       0.199152   0.086202   \n",
       "Iphone 7        0.153120       0.134727  1.000000       0.377102  -0.063667   \n",
       "Iphone 7 Plus   0.150596       0.199152  0.377102       1.000000   0.007376   \n",
       "Galaxy S8       0.074914       0.086202 -0.063667       0.007376   1.000000   \n",
       "Galaxy S8 Plus  0.057238      -0.018669 -0.016796      -0.022155  -0.063318   \n",
       "Galaxy S9       0.153962       0.091178 -0.120391      -0.021023   0.143817   \n",
       "Galaxy S9 Plus  0.105623       0.017414 -0.001215      -0.040070   0.146873   \n",
       "Dolar          -0.000626      -0.014322 -0.045196       0.079599  -0.078579   \n",
       "\n",
       "                Galaxy S8 Plus  Galaxy S9  Galaxy S9 Plus     Dolar  \n",
       "Iphone X              0.057238   0.153962        0.105623 -0.000626  \n",
       "Iphone 8 Plus        -0.018669   0.091178        0.017414 -0.014322  \n",
       "Iphone 7             -0.016796  -0.120391       -0.001215 -0.045196  \n",
       "Iphone 7 Plus        -0.022155  -0.021023       -0.040070  0.079599  \n",
       "Galaxy S8            -0.063318   0.143817        0.146873 -0.078579  \n",
       "Galaxy S8 Plus        1.000000  -0.123022       -0.115546 -0.039319  \n",
       "Galaxy S9            -0.123022   1.000000        0.319579  0.049093  \n",
       "Galaxy S9 Plus       -0.115546   0.319579        1.000000  0.032512  \n",
       "Dolar                -0.039319   0.049093        0.032512  1.000000  "
      ]
     },
     "execution_count": 6,
     "metadata": {},
     "output_type": "execute_result"
    }
   ],
   "source": [
    "#Correlação\n",
    "retorno.corr()"
   ]
  },
  {
   "cell_type": "markdown",
   "metadata": {},
   "source": [
    "__Análise Univariada:__ <br>\n",
    "\n",
    "Histograma das variáveis:"
   ]
  },
  {
   "cell_type": "code",
   "execution_count": 7,
   "metadata": {},
   "outputs": [
    {
     "data": {
      "image/png": "[encoded data removed]",
      "text/plain": [
       "<Figure size 1440x720 with 9 Axes>"
      ]
     },
     "metadata": {
      "needs_background": "light"
     },
     "output_type": "display_data"
    }
   ],
   "source": [
    "#Limites do gráfico:\n",
    "xlim, ylim = [-0.15,0.15], [0,70] \n",
    "\n",
    "#Dita a ordem que os grpaficos vão aparecer\n",
    "labels0 = ['Iphone X','Iphone 8 Plus','Iphone 7 Plus','Iphone 7']\n",
    "labels1 = ['Galaxy S9 Plus', 'Galaxy S9', 'Galaxy S8', 'Galaxy S8 Plus']\n",
    "labels = [labels0, labels1]\n",
    "\n",
    "fig = plt.figure(figsize=(20,10)) #largura da linha,altura da linha\n",
    "\n",
    "#Dolar\n",
    "plt.subplot2grid((5, 2), (0, 0), colspan=2)\n",
    "plt.xlim(xlim[0],xlim[1])\n",
    "plt.ylim(ylim[0],ylim[1])\n",
    "retorno['Dolar'].plot.hist(bins=50, title='Dolar', density=True);        \n",
    "\n",
    "#Outras colunas\n",
    "for n_y in [0,1]:\n",
    "    for n_x in [1,2,3,4]:\n",
    "        ax = plt.subplot2grid((5, 2), (n_x, n_y))\n",
    "        plt.xlim(xlim[0],xlim[1])\n",
    "        plt.ylim(ylim[0],ylim[1])\n",
    "        retorno[labels[n_y][n_x-1]].plot.hist(bins=50, title=labels[n_y][n_x-1], density=True);        \n",
    "        \n",
    "plt.tight_layout()\n",
    "plt.show()"
   ]
  },
  {
   "cell_type": "markdown",
   "metadata": {},
   "source": [
    "# Descriçao analise "
   ]
  },
  {
   "cell_type": "code",
   "execution_count": 8,
   "metadata": {},
   "outputs": [
    {
     "data": {
      "text/html": [
       "<div>\n",
       "<style scoped>\n",
       "    .dataframe tbody tr th:only-of-type {\n",
       "        vertical-align: middle;\n",
       "    }\n",
       "\n",
       "    .dataframe tbody tr th {\n",
       "        vertical-align: top;\n",
       "    }\n",
       "\n",
       "    .dataframe thead th {\n",
       "        text-align: right;\n",
       "    }\n",
       "</style>\n",
       "<table border=\"1\" class=\"dataframe\">\n",
       "  <thead>\n",
       "    <tr style=\"text-align: right;\">\n",
       "      <th></th>\n",
       "      <th>Iphone X</th>\n",
       "      <th>Iphone 8 Plus</th>\n",
       "      <th>Iphone 7</th>\n",
       "      <th>Iphone 7 Plus</th>\n",
       "      <th>Galaxy S8</th>\n",
       "      <th>Galaxy S8 Plus</th>\n",
       "      <th>Galaxy S9</th>\n",
       "      <th>Galaxy S9 Plus</th>\n",
       "      <th>Dolar</th>\n",
       "    </tr>\n",
       "  </thead>\n",
       "  <tbody>\n",
       "    <tr>\n",
       "      <th>count</th>\n",
       "      <td>244.000000</td>\n",
       "      <td>244.000000</td>\n",
       "      <td>244.000000</td>\n",
       "      <td>244.000000</td>\n",
       "      <td>244.000000</td>\n",
       "      <td>244.000000</td>\n",
       "      <td>244.000000</td>\n",
       "      <td>244.000000</td>\n",
       "      <td>244.000000</td>\n",
       "    </tr>\n",
       "    <tr>\n",
       "      <th>mean</th>\n",
       "      <td>-0.000685</td>\n",
       "      <td>-0.000602</td>\n",
       "      <td>-0.000735</td>\n",
       "      <td>-0.000399</td>\n",
       "      <td>0.000195</td>\n",
       "      <td>-0.000530</td>\n",
       "      <td>-0.001418</td>\n",
       "      <td>-0.001577</td>\n",
       "      <td>0.000487</td>\n",
       "    </tr>\n",
       "    <tr>\n",
       "      <th>std</th>\n",
       "      <td>0.027221</td>\n",
       "      <td>0.037024</td>\n",
       "      <td>0.039242</td>\n",
       "      <td>0.038225</td>\n",
       "      <td>0.032000</td>\n",
       "      <td>0.035385</td>\n",
       "      <td>0.046012</td>\n",
       "      <td>0.035720</td>\n",
       "      <td>0.010096</td>\n",
       "    </tr>\n",
       "    <tr>\n",
       "      <th>min</th>\n",
       "      <td>-0.105792</td>\n",
       "      <td>-0.139795</td>\n",
       "      <td>-0.168720</td>\n",
       "      <td>-0.155254</td>\n",
       "      <td>-0.125202</td>\n",
       "      <td>-0.220123</td>\n",
       "      <td>-0.287738</td>\n",
       "      <td>-0.121702</td>\n",
       "      <td>-0.057482</td>\n",
       "    </tr>\n",
       "    <tr>\n",
       "      <th>25%</th>\n",
       "      <td>-0.009877</td>\n",
       "      <td>-0.017007</td>\n",
       "      <td>-0.017809</td>\n",
       "      <td>-0.012172</td>\n",
       "      <td>-0.014437</td>\n",
       "      <td>-0.002575</td>\n",
       "      <td>-0.016352</td>\n",
       "      <td>-0.021492</td>\n",
       "      <td>-0.005729</td>\n",
       "    </tr>\n",
       "    <tr>\n",
       "      <th>50%</th>\n",
       "      <td>0.000000</td>\n",
       "      <td>0.000000</td>\n",
       "      <td>0.000000</td>\n",
       "      <td>0.000000</td>\n",
       "      <td>0.000000</td>\n",
       "      <td>0.000000</td>\n",
       "      <td>0.000000</td>\n",
       "      <td>0.000000</td>\n",
       "      <td>0.000816</td>\n",
       "    </tr>\n",
       "    <tr>\n",
       "      <th>75%</th>\n",
       "      <td>0.009362</td>\n",
       "      <td>0.013035</td>\n",
       "      <td>0.014530</td>\n",
       "      <td>0.010819</td>\n",
       "      <td>0.009213</td>\n",
       "      <td>0.000000</td>\n",
       "      <td>0.018929</td>\n",
       "      <td>0.015022</td>\n",
       "      <td>0.006601</td>\n",
       "    </tr>\n",
       "    <tr>\n",
       "      <th>max</th>\n",
       "      <td>0.139597</td>\n",
       "      <td>0.116284</td>\n",
       "      <td>0.115890</td>\n",
       "      <td>0.155254</td>\n",
       "      <td>0.142910</td>\n",
       "      <td>0.232399</td>\n",
       "      <td>0.149577</td>\n",
       "      <td>0.112801</td>\n",
       "      <td>0.026513</td>\n",
       "    </tr>\n",
       "  </tbody>\n",
       "</table>\n",
       "</div>"
      ],
      "text/plain": [
       "         Iphone X  Iphone 8 Plus    Iphone 7  Iphone 7 Plus   Galaxy S8  \\\n",
       "count  244.000000     244.000000  244.000000     244.000000  244.000000   \n",
       "mean    -0.000685      -0.000602   -0.000735      -0.000399    0.000195   \n",
       "std      0.027221       0.037024    0.039242       0.038225    0.032000   \n",
       "min     -0.105792      -0.139795   -0.168720      -0.155254   -0.125202   \n",
       "25%     -0.009877      -0.017007   -0.017809      -0.012172   -0.014437   \n",
       "50%      0.000000       0.000000    0.000000       0.000000    0.000000   \n",
       "75%      0.009362       0.013035    0.014530       0.010819    0.009213   \n",
       "max      0.139597       0.116284    0.115890       0.155254    0.142910   \n",
       "\n",
       "       Galaxy S8 Plus   Galaxy S9  Galaxy S9 Plus       Dolar  \n",
       "count      244.000000  244.000000      244.000000  244.000000  \n",
       "mean        -0.000530   -0.001418       -0.001577    0.000487  \n",
       "std          0.035385    0.046012        0.035720    0.010096  \n",
       "min         -0.220123   -0.287738       -0.121702   -0.057482  \n",
       "25%         -0.002575   -0.016352       -0.021492   -0.005729  \n",
       "50%          0.000000    0.000000        0.000000    0.000816  \n",
       "75%          0.000000    0.018929        0.015022    0.006601  \n",
       "max          0.232399    0.149577        0.112801    0.026513  "
      ]
     },
     "execution_count": 8,
     "metadata": {},
     "output_type": "execute_result"
    }
   ],
   "source": [
    "retorno.describe()"
   ]
  },
  {
   "cell_type": "markdown",
   "metadata": {},
   "source": [
    "<a id='itemC'></a>\n",
    "___\n",
    "\n",
    "## C. MODELOS DE PREDIÇÃO"
   ]
  },
  {
   "cell_type": "markdown",
   "metadata": {},
   "source": [
    "__Separando a tabela em teste e treinamento__"
   ]
  },
  {
   "cell_type": "code",
   "execution_count": 9,
   "metadata": {},
   "outputs": [
    {
     "name": "stdout",
     "output_type": "stream",
     "text": [
      "Comprimento Teste: 49 | Comprimento Treino: 195\n"
     ]
    }
   ],
   "source": [
    "percentTreino = 0.8 #Proporção entre o comprimento do treinamento o dataframe dados.\n",
    "\n",
    "treino = retorno.sample(frac=percentTreino,random_state=randint(0,100000))\n",
    "teste = retorno.drop(treino.index)\n",
    "\n",
    "print('Comprimento Teste: '+str(len(teste))+' | Comprimento Treino: '+str(len(treino)))"
   ]
  },
  {
   "cell_type": "markdown",
   "metadata": {},
   "source": [
    "Definindo algumas variáveis que serão usadas:"
   ]
  },
  {
   "cell_type": "code",
   "execution_count": 10,
   "metadata": {},
   "outputs": [],
   "source": [
    "# colRes = Coluna Resposta (Dependente)\n",
    "colRes = 'Iphone X'\n",
    "\n",
    "# colExp = Lista de Colunas Explicativas (Independentes)\n",
    "colExp = list(treino.columns)\n",
    "colExp.remove(colRes)\n",
    "\n",
    "# dataframe Resposta \n",
    "dfRes = treino.loc[:,[colRes]]\n",
    "\n",
    "# dataframe variáveis Explicativas \n",
    "dfExp = treino.loc[:,colExp]"
   ]
  },
  {
   "cell_type": "code",
   "execution_count": 11,
   "metadata": {},
   "outputs": [],
   "source": [
    "X = dfExp\n",
    "Xn= range(len(dfRes))\n",
    "Y = dfRes[colRes]"
   ]
  },
  {
   "cell_type": "markdown",
   "metadata": {
    "collapsed": true
   },
   "source": [
    "<a id='itemC1'></a>\n",
    "### C.1) Modelo de Predição pela Média (Sem uso de variável explicativa).\n",
    "Consiste em usarmos como equação matemática do modelo à reta paralela ao eixo X da forma: $$y(x) = \\mu$$ Sendo $\\mu$ a média aritmética dos valores da variável resposta."
   ]
  },
  {
   "cell_type": "code",
   "execution_count": 12,
   "metadata": {},
   "outputs": [
    {
     "name": "stdout",
     "output_type": "stream",
     "text": [
      "Média (μ) = -0.00075837\n"
     ]
    },
    {
     "data": {
      "image/png": "[encoded data removed]",
      "text/plain": [
       "<Figure size 432x288 with 1 Axes>"
      ]
     },
     "metadata": {
      "needs_background": "light"
     },
     "output_type": "display_data"
    }
   ],
   "source": [
    "mediaY = np.mean(Y)\n",
    "yPred = [mediaY] * len(Y)\n",
    "print('Média (μ) = ' + \"{:.8f}\".format(mediaY))\n",
    "\n",
    "fig = plt.figure()\n",
    "ax = plt.axes()\n",
    "ax.plot(Xn, Y, 'ro')\n",
    "ax.plot(Xn, yPred)\n",
    "plt.show()"
   ]
  },
  {
   "cell_type": "markdown",
   "metadata": {},
   "source": [
    "__Conferindo eficiência:__"
   ]
  },
  {
   "cell_type": "code",
   "execution_count": 13,
   "metadata": {},
   "outputs": [
    {
     "name": "stdout",
     "output_type": "stream",
     "text": [
      "RMS: 0.02832231\n"
     ]
    }
   ],
   "source": [
    "print('RMS:',rms(Y,yPred))"
   ]
  },
  {
   "cell_type": "markdown",
   "metadata": {},
   "source": [
    "<a id='itemC2'></a>\n",
    "### C.2) Modelo de Regressão Linear Múltipla (Multiple Linear Regression)__\n",
    "$$\\hat{y}(t)=\\beta_{0}+ \\beta_{1}x_{1}+ \\beta_{2}x_{2} + \\cdots + \\beta_{8}x_{8}+ \\epsilon_{i}$$\n",
    "Em que $\\beta_{i}$ é o coeficiente, $\\epsilon_{i}$ é o erro aleatório da medida i, $\\hat{y}(t)$ é o valor de y previsto no 'instante' i."
   ]
  },
  {
   "cell_type": "code",
   "execution_count": 14,
   "metadata": {},
   "outputs": [
    {
     "name": "stdout",
     "output_type": "stream",
     "text": [
      "RMS: 0.02709234\n"
     ]
    },
    {
     "data": {
      "text/html": [
       "<table class=\"simpletable\">\n",
       "<caption>OLS Regression Results</caption>\n",
       "<tr>\n",
       "  <th>Dep. Variable:</th>        <td>Iphone X</td>     <th>  R-squared:         </th> <td>   0.085</td>\n",
       "</tr>\n",
       "<tr>\n",
       "  <th>Model:</th>                   <td>OLS</td>       <th>  Adj. R-squared:    </th> <td>   0.046</td>\n",
       "</tr>\n",
       "<tr>\n",
       "  <th>Method:</th>             <td>Least Squares</td>  <th>  F-statistic:       </th> <td>   2.159</td>\n",
       "</tr>\n",
       "<tr>\n",
       "  <th>Date:</th>             <td>Mon, 27 May 2019</td> <th>  Prob (F-statistic):</th>  <td>0.0325</td> \n",
       "</tr>\n",
       "<tr>\n",
       "  <th>Time:</th>                 <td>14:10:04</td>     <th>  Log-Likelihood:    </th> <td>  426.97</td>\n",
       "</tr>\n",
       "<tr>\n",
       "  <th>No. Observations:</th>      <td>   195</td>      <th>  AIC:               </th> <td>  -835.9</td>\n",
       "</tr>\n",
       "<tr>\n",
       "  <th>Df Residuals:</th>          <td>   186</td>      <th>  BIC:               </th> <td>  -806.5</td>\n",
       "</tr>\n",
       "<tr>\n",
       "  <th>Df Model:</th>              <td>     8</td>      <th>                     </th>     <td> </td>   \n",
       "</tr>\n",
       "<tr>\n",
       "  <th>Covariance Type:</th>      <td>nonrobust</td>    <th>                     </th>     <td> </td>   \n",
       "</tr>\n",
       "</table>\n",
       "<table class=\"simpletable\">\n",
       "<tr>\n",
       "         <td></td>           <th>coef</th>     <th>std err</th>      <th>t</th>      <th>P>|t|</th>  <th>[0.025</th>    <th>0.975]</th>  \n",
       "</tr>\n",
       "<tr>\n",
       "  <th>const</th>          <td> 7.586e-05</td> <td>    0.002</td> <td>    0.038</td> <td> 0.970</td> <td>   -0.004</td> <td>    0.004</td>\n",
       "</tr>\n",
       "<tr>\n",
       "  <th>Iphone 8 Plus</th>  <td>    0.0075</td> <td>    0.055</td> <td>    0.135</td> <td> 0.893</td> <td>   -0.102</td> <td>    0.117</td>\n",
       "</tr>\n",
       "<tr>\n",
       "  <th>Iphone 7</th>       <td>    0.1115</td> <td>    0.058</td> <td>    1.930</td> <td> 0.055</td> <td>   -0.002</td> <td>    0.225</td>\n",
       "</tr>\n",
       "<tr>\n",
       "  <th>Iphone 7 Plus</th>  <td>    0.0986</td> <td>    0.058</td> <td>    1.706</td> <td> 0.090</td> <td>   -0.015</td> <td>    0.213</td>\n",
       "</tr>\n",
       "<tr>\n",
       "  <th>Galaxy S8</th>      <td>   -0.0040</td> <td>    0.068</td> <td>   -0.058</td> <td> 0.954</td> <td>   -0.139</td> <td>    0.131</td>\n",
       "</tr>\n",
       "<tr>\n",
       "  <th>Galaxy S8 Plus</th> <td>    0.0608</td> <td>    0.053</td> <td>    1.142</td> <td> 0.255</td> <td>   -0.044</td> <td>    0.166</td>\n",
       "</tr>\n",
       "<tr>\n",
       "  <th>Galaxy S9</th>      <td>    0.0972</td> <td>    0.046</td> <td>    2.132</td> <td> 0.034</td> <td>    0.007</td> <td>    0.187</td>\n",
       "</tr>\n",
       "<tr>\n",
       "  <th>Galaxy S9 Plus</th> <td>    0.0640</td> <td>    0.060</td> <td>    1.064</td> <td> 0.289</td> <td>   -0.055</td> <td>    0.183</td>\n",
       "</tr>\n",
       "<tr>\n",
       "  <th>Dolar</th>          <td>   -0.0869</td> <td>    0.218</td> <td>   -0.398</td> <td> 0.691</td> <td>   -0.517</td> <td>    0.343</td>\n",
       "</tr>\n",
       "</table>\n",
       "<table class=\"simpletable\">\n",
       "<tr>\n",
       "  <th>Omnibus:</th>       <td>27.923</td> <th>  Durbin-Watson:     </th> <td>   2.054</td>\n",
       "</tr>\n",
       "<tr>\n",
       "  <th>Prob(Omnibus):</th> <td> 0.000</td> <th>  Jarque-Bera (JB):  </th> <td> 177.861</td>\n",
       "</tr>\n",
       "<tr>\n",
       "  <th>Skew:</th>          <td> 0.070</td> <th>  Prob(JB):          </th> <td>2.39e-39</td>\n",
       "</tr>\n",
       "<tr>\n",
       "  <th>Kurtosis:</th>      <td> 7.677</td> <th>  Cond. No.          </th> <td>    110.</td>\n",
       "</tr>\n",
       "</table><br/><br/>Warnings:<br/>[1] Standard Errors assume that the covariance matrix of the errors is correctly specified."
      ],
      "text/plain": [
       "<class 'statsmodels.iolib.summary.Summary'>\n",
       "\"\"\"\n",
       "                            OLS Regression Results                            \n",
       "==============================================================================\n",
       "Dep. Variable:               Iphone X   R-squared:                       0.085\n",
       "Model:                            OLS   Adj. R-squared:                  0.046\n",
       "Method:                 Least Squares   F-statistic:                     2.159\n",
       "Date:                Mon, 27 May 2019   Prob (F-statistic):             0.0325\n",
       "Time:                        14:10:04   Log-Likelihood:                 426.97\n",
       "No. Observations:                 195   AIC:                            -835.9\n",
       "Df Residuals:                     186   BIC:                            -806.5\n",
       "Df Model:                           8                                         \n",
       "Covariance Type:            nonrobust                                         \n",
       "==================================================================================\n",
       "                     coef    std err          t      P>|t|      [0.025      0.975]\n",
       "----------------------------------------------------------------------------------\n",
       "const           7.586e-05      0.002      0.038      0.970      -0.004       0.004\n",
       "Iphone 8 Plus      0.0075      0.055      0.135      0.893      -0.102       0.117\n",
       "Iphone 7           0.1115      0.058      1.930      0.055      -0.002       0.225\n",
       "Iphone 7 Plus      0.0986      0.058      1.706      0.090      -0.015       0.213\n",
       "Galaxy S8         -0.0040      0.068     -0.058      0.954      -0.139       0.131\n",
       "Galaxy S8 Plus     0.0608      0.053      1.142      0.255      -0.044       0.166\n",
       "Galaxy S9          0.0972      0.046      2.132      0.034       0.007       0.187\n",
       "Galaxy S9 Plus     0.0640      0.060      1.064      0.289      -0.055       0.183\n",
       "Dolar             -0.0869      0.218     -0.398      0.691      -0.517       0.343\n",
       "==============================================================================\n",
       "Omnibus:                       27.923   Durbin-Watson:                   2.054\n",
       "Prob(Omnibus):                  0.000   Jarque-Bera (JB):              177.861\n",
       "Skew:                           0.070   Prob(JB):                     2.39e-39\n",
       "Kurtosis:                       7.677   Cond. No.                         110.\n",
       "==============================================================================\n",
       "\n",
       "Warnings:\n",
       "[1] Standard Errors assume that the covariance matrix of the errors is correctly specified.\n",
       "\"\"\""
      ]
     },
     "execution_count": 14,
     "metadata": {},
     "output_type": "execute_result"
    }
   ],
   "source": [
    "results = regressao(dfExp,dfRes)\n",
    "Ypred = results.predict()\n",
    "\n",
    "print('RMS:', rms(Y,Ypred))\n",
    "results.summary()"
   ]
  },
  {
   "cell_type": "markdown",
   "metadata": {},
   "source": [
    "* Como nosso R² ajustado (Adj-R-squared) é muito baixo esse modelo não consegue explicar com eficiência a variabilidade dos dados.\n",
    "* Como __Prob(Omnibus)__ é zero e __Prob(JB)__ tende à zero, há grande evidência que os resíduos não são distribuídos de forma normal, violando a suposição do modelo de regressão.\n",
    "* O __Durbin-Watson__ próximo de 2 sugere que não há autocorrelação dos resíduos"
   ]
  },
  {
   "cell_type": "markdown",
   "metadata": {},
   "source": [
    "__Verificando a normalidade dos resíduos ($e$):__ $e_i=y_i-\\hat{y}_i$"
   ]
  },
  {
   "cell_type": "code",
   "execution_count": 15,
   "metadata": {},
   "outputs": [
    {
     "data": {
      "image/png": "[encoded data removed]",
      "text/plain": [
       "<Figure size 432x288 with 1 Axes>"
      ]
     },
     "metadata": {
      "needs_background": "light"
     },
     "output_type": "display_data"
    }
   ],
   "source": [
    "stats.probplot(results.resid, dist='norm', plot=plt); # Verifique graficamente  se é uma normal - como fazer isso?"
   ]
  },
  {
   "cell_type": "markdown",
   "metadata": {},
   "source": [
    "__Conferindo eficiência:__"
   ]
  },
  {
   "cell_type": "code",
   "execution_count": 16,
   "metadata": {},
   "outputs": [
    {
     "name": "stdout",
     "output_type": "stream",
     "text": [
      "RMS: 0.02709234\n"
     ]
    }
   ],
   "source": [
    "Yprev = results.predict()\n",
    "print('RMS:', rms(Y,Yprev))"
   ]
  },
  {
   "cell_type": "markdown",
   "metadata": {
    "collapsed": true
   },
   "source": [
    "<a id='itemC3'></a>\n",
    "### C.3) Modelo de Regressão dos K Vizinhos Mais Próximos (K-Nearest Neighbors Regression)\n",
    "o MODELO DOS K VIZINHOS MAIS PRÓXIMOS"
   ]
  },
  {
   "cell_type": "code",
   "execution_count": 17,
   "metadata": {},
   "outputs": [],
   "source": [
    "# X_train, X_test, y_train, y_test = train_test_split(X ,Y,test_size=.3,random_state=0)\n",
    "# len(X_train)"
   ]
  },
  {
   "cell_type": "code",
   "execution_count": 18,
   "metadata": {},
   "outputs": [
    {
     "name": "stdout",
     "output_type": "stream",
     "text": [
      "0.02627675\n"
     ]
    }
   ],
   "source": [
    "clf=KNeighborsRegressor(11)\n",
    "clf.fit(X,Y)\n",
    "y_pred=list(clf.predict(X))\n",
    "print(rms(Y,y_pred))"
   ]
  },
  {
   "cell_type": "markdown",
   "metadata": {
    "collapsed": true
   },
   "source": [
    "<a id='itemC4'></a>\n",
    "### C.4) Modelo de Árvores de Regressão (Decision Tree Regression)\n"
   ]
  },
  {
   "cell_type": "code",
   "execution_count": 19,
   "metadata": {},
   "outputs": [
    {
     "ename": "NameError",
     "evalue": "name 'y' is not defined",
     "output_type": "error",
     "traceback": [
      "\u001b[1;31m---------------------------------------------------------------------------\u001b[0m",
      "\u001b[1;31mNameError\u001b[0m                                 Traceback (most recent call last)",
      "\u001b[1;32m<ipython-input-19-2f83ad335e44>\u001b[0m in \u001b[0;36m<module>\u001b[1;34m()\u001b[0m\n\u001b[0;32m      8\u001b[0m \u001b[1;31m# model = tree.DecisionTreeRegressor() para regressão\u001b[0m\u001b[1;33m\u001b[0m\u001b[1;33m\u001b[0m\u001b[0m\n\u001b[0;32m      9\u001b[0m \u001b[1;31m# Treina o modelo usando os dados de treino e de teste confere o score\u001b[0m\u001b[1;33m\u001b[0m\u001b[1;33m\u001b[0m\u001b[0m\n\u001b[1;32m---> 10\u001b[1;33m \u001b[0mmodel\u001b[0m\u001b[1;33m.\u001b[0m\u001b[0mfit\u001b[0m\u001b[1;33m(\u001b[0m\u001b[0mX\u001b[0m\u001b[1;33m,\u001b[0m \u001b[0my\u001b[0m\u001b[1;33m)\u001b[0m\u001b[1;33m\u001b[0m\u001b[0m\n\u001b[0m\u001b[0;32m     11\u001b[0m \u001b[0mmodel\u001b[0m\u001b[1;33m.\u001b[0m\u001b[0mscore\u001b[0m\u001b[1;33m(\u001b[0m\u001b[0mX\u001b[0m\u001b[1;33m,\u001b[0m \u001b[0my\u001b[0m\u001b[1;33m)\u001b[0m\u001b[1;33m\u001b[0m\u001b[0m\n\u001b[0;32m     12\u001b[0m \u001b[1;31m#Prevê o resultado\u001b[0m\u001b[1;33m\u001b[0m\u001b[1;33m\u001b[0m\u001b[0m\n",
      "\u001b[1;31mNameError\u001b[0m: name 'y' is not defined"
     ]
    }
   ],
   "source": [
    "#Importa biblioteca\n",
    "#Importa outras bibliotecas necessárias como pandas, numpy...\n",
    "from sklearn import tree\n",
    "#Assume que você tem X (preditor) e Y (alvo) para dados de treino e x_test(predictor) dos dados de teste\n",
    "# Cria o objeto tree\n",
    "model = tree.DecisionTreeClassifier(criterion='gini') \n",
    "# Para classificação, aqui você pode mudar o algoritmo para gini ou para entropy (Ganho de informação). Por default é gini  \n",
    "# model = tree.DecisionTreeRegressor() para regressão\n",
    "# Treina o modelo usando os dados de treino e de teste confere o score\n",
    "model.fit(X, y)\n",
    "model.score(X, y)\n",
    "#Prevê o resultado\n",
    "predicted= model.predict(x_test)"
   ]
  },
  {
   "cell_type": "code",
   "execution_count": null,
   "metadata": {},
   "outputs": [],
   "source": [
    "# Importing the Library \n",
    "import numpy as np \n",
    "import matplotlib.pyplot as plt\n",
    "import pandas as pd\n",
    "\n",
    "# Importing the dataset\n",
    "dataset= pd.read_csv('Data.csv')\n",
    "X = dataset.iloc[: , 1:2].values\n",
    "Y = dataset.iloc[: , 2].values\n",
    "\n",
    "# Fitting Simple Linear Regression model to the data set\n",
    "from sklearn.tree import DecisionTreeRegressor\n",
    "regressor = DecisionTreeRegressor(random_state = 0)\n",
    "regressor.fit(X, y)\n",
    "\n",
    "# Predicting a new result\n",
    "y_pred = regressor.predict(6.5)\n",
    "\n",
    "# Visualising the Decision Tree Regression results\n",
    "\n",
    "X_grid = np.arange(min(X), max(X), 0.1)\n",
    "X_grid = X_grid.reshape((len(X_grid), 1))\n",
    "plt.scatter(X, y, color = 'red')\n",
    "plt.plot(X, regressor.predict(X_grid), color = 'blue')\n",
    "plt.title('Truth or Bluff (Decision Tree Regression)')\n",
    "plt.xlabel('Position level')\n",
    "plt.ylabel('Salary')\n",
    "plt.show()\n",
    "view rawDT2.py hosted with ❤ by GitHub"
   ]
  },
  {
   "cell_type": "markdown",
   "metadata": {
    "collapsed": true
   },
   "source": [
    "<a id='itemD'></a>\n",
    "___\n",
    "\n",
    "## D. PROCESSO E ESTATÍSTICAS DE VALIDAÇÃO"
   ]
  },
  {
   "cell_type": "markdown",
   "metadata": {},
   "source": [
    "[Esse item depende dos resultados das modelagens anteriores! Organize-os aqui de forma clara!]"
   ]
  },
  {
   "cell_type": "code",
   "execution_count": null,
   "metadata": {},
   "outputs": [],
   "source": []
  },
  {
   "cell_type": "code",
   "execution_count": null,
   "metadata": {},
   "outputs": [],
   "source": []
  },
  {
   "cell_type": "markdown",
   "metadata": {},
   "source": [
    "<a id='itemE'></a>\n",
    "___\n",
    "\n",
    "## E. CONCLUSÃO"
   ]
  },
  {
   "cell_type": "code",
   "execution_count": null,
   "metadata": {},
   "outputs": [],
   "source": []
  },
  {
   "cell_type": "code",
   "execution_count": null,
   "metadata": {},
   "outputs": [],
   "source": []
  },
  {
   "cell_type": "markdown",
   "metadata": {},
   "source": [
    "<a id='itemF'></a>\n",
    "___\n",
    "\n",
    "## F. REFERÊNCIAS BIBLIOGRÁFICAS"
   ]
  },
  {
   "cell_type": "markdown",
   "metadata": {},
   "source": [
    "________\n",
    "https://www.buscape.com.br $\\rightarrow$ site para busca de histórico dos preços\n",
    "\n",
    "https://ensinandomaquinasblog.wordpress.com/2017/12/15/modelos-preditivos-de-notas-de-redacao-do-enem-2015\n",
    "\n",
    "https://educationalresearchtechniques.com/2018/11/02/k-nearest-neighbor-regression-with-python//"
   ]
  },
  {
   "cell_type": "code",
   "execution_count": null,
   "metadata": {},
   "outputs": [],
   "source": []
  }
 ],
 "metadata": {
  "anaconda-cloud": {},
  "kernelspec": {
   "display_name": "Python 3",
   "language": "python",
   "name": "python3"
  },
  "language_info": {
   "codemirror_mode": {
    "name": "ipython",
    "version": 3
   },
   "file_extension": ".py",
   "mimetype": "text/x-python",
   "name": "python",
   "nbconvert_exporter": "python",
   "pygments_lexer": "ipython3",
   "version": "3.7.0"
  }
 },
 "nbformat": 4,
 "nbformat_minor": 1
}
